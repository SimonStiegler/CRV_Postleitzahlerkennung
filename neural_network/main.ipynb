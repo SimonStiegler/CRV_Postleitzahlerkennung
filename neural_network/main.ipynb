{
 "cells": [
  {
   "cell_type": "markdown",
   "metadata": {},
   "source": [
    "# Neural Network für klassifizierung von arabischen Zahlen"
   ]
  },
  {
   "cell_type": "code",
   "execution_count": 1,
   "metadata": {},
   "outputs": [],
   "source": [
    "import tensorflow as tf\n",
    "import matplotlib.pyplot as plt\n",
    "import numpy as np\n",
    "import random\n",
    "import gzip\n",
    "import struct\n",
    "import os"
   ]
  },
  {
   "cell_type": "code",
   "execution_count": 2,
   "metadata": {},
   "outputs": [
    {
     "name": "stdout",
     "output_type": "stream",
     "text": [
      "/home/isaac/Documents/master/computer_and_robot_vision/CRV_Postleitzahlerkennung/neural_network/emnist_dataset\n"
     ]
    }
   ],
   "source": [
    "dataset_folder = os.path.abspath(\"./emnist_dataset\")\n",
    "print(dataset_folder)"
   ]
  },
  {
   "cell_type": "markdown",
   "metadata": {},
   "source": [
    "Klasse für Model definieren:"
   ]
  },
  {
   "cell_type": "code",
   "execution_count": 3,
   "metadata": {},
   "outputs": [],
   "source": [
    "class CrvModel:\n",
    "    def __init__(self, dataset_folder):\n",
    "        \n",
    "        self.dataset_path = dataset_folder\n",
    "        self.labels = \"0123456789ABCDEFGHIJKLMNOPQRSTUVWXYZabcdefghijklmnopqrstuvwxyz\"\n",
    "        self.num_classes = len(self.labels)\n",
    "        \n",
    "        self.random_seed_num = 21081994\n",
    "        \n",
    "        self.batch_size = 1024\n",
    "        self.epochs = 50\n",
    "        self.save_path = \"./model.h5\"\n",
    "\n",
    "        self.raw_train_img = self.read_data(os.path.join(dataset_folder, 'emnist-byclass-train-images-idx3-ubyte.gz'))\n",
    "        self.raw_train_labels = self.read_data(os.path.join(dataset_folder, 'emnist-byclass-train-labels-idx1-ubyte.gz'))\n",
    "        self.raw_test_img = self.read_data(os.path.join(dataset_folder, 'emnist-byclass-test-images-idx3-ubyte.gz'))\n",
    "        self.raw_test_labels = self.read_data(os.path.join(dataset_folder, 'emnist-byclass-test-labels-idx1-ubyte.gz'))\n",
    "        \n",
    "        self.train_img = self.preprocess_data(self.raw_train_img)\n",
    "        self.test_img = self.preprocess_data(self.raw_test_img)\n",
    "        \n",
    "        self.train_labels = self.one_hot_encode_labels(self.raw_train_labels)\n",
    "        self.test_labels = self.one_hot_encode_labels(self.raw_test_labels)\n",
    "        \n",
    "        self.cnn = tf.keras.models.Sequential()\n",
    "        self.cnn.add(tf.keras.layers.Conv2D(32,\n",
    "                                            kernel_size = (5,5),\n",
    "                                            strides = (2,2),\n",
    "                                            input_shape = (28, 28, 1),\n",
    "                                            activation = \"relu\"))\n",
    "        self.cnn.add(tf.keras.layers.Conv2D(64,\n",
    "                                            kernel_size = (3, 3),\n",
    "                                            activation = \"relu\"))\n",
    "        \n",
    "        self.cnn.add(tf.keras.layers.MaxPooling2D(pool_size=(2, 2)))\n",
    "        self.cnn.add(tf.keras.layers.Dropout(0.25))\n",
    "        self.cnn.add(tf.keras.layers.Flatten())\n",
    "        self.cnn.add(tf.keras.layers.Dense(128, activation='relu'))\n",
    "        self.cnn.add(tf.keras.layers.Dropout(0.25))\n",
    "        self.cnn.add(tf.keras.layers.Dense(self.num_classes, activation='softmax'))\n",
    "        \n",
    "        \n",
    "    def read_data(self, path):\n",
    "        print(\"Lese Datenset '%s' ein\" %path)\n",
    "        with gzip.open(path, \"rb\") as f:\n",
    "            z, dtype, dim = struct.unpack(\">HBB\", f.read(4))\n",
    "            print(\"Dimensions:\", dim)\n",
    "            shape = tuple(struct.unpack(\">I\", f.read(4))[0] for d in range(dim))\n",
    "            print(\"Shape:\", shape)\n",
    "            print(\"***********************************************\")\n",
    "            return np.frombuffer(f.read(), dtype=np.uint8).reshape(shape)\n",
    "        \n",
    "    def show_random_image(self, data_imgs, data_labels):\n",
    "        i = random.randint(0, data_imgs.shape[0])\n",
    "        fig, ax = plt.subplots()\n",
    "        ax.clear()\n",
    "        ax.imshow(data_imgs[i].T, cmap=\"gray\")\n",
    "        title = \"label = %d = %s\" %(data_labels[i], self.labels[data_labels[i]])\n",
    "        ax.set_title(title, fontsize=20)\n",
    "        plt.show()\n",
    "        \n",
    "    def preprocess_data(self, raw_data):\n",
    "        normalized_data = raw_data.astype(\"float32\")/255\n",
    "        reshaped_data = normalized_data.reshape(normalized_data.shape[0], 28, 28, 1)\n",
    "        return reshaped_data\n",
    "    \n",
    "    def one_hot_encode_labels(self, raw_labels):\n",
    "        return tf.keras.utils.to_categorical(raw_labels)\n",
    "        "
   ]
  },
  {
   "cell_type": "markdown",
   "metadata": {},
   "source": [
    "## Model initialisieren"
   ]
  },
  {
   "cell_type": "code",
   "execution_count": 4,
   "metadata": {},
   "outputs": [
    {
     "name": "stdout",
     "output_type": "stream",
     "text": [
      "Lese Datenset '/home/isaac/Documents/master/computer_and_robot_vision/CRV_Postleitzahlerkennung/neural_network/emnist_dataset/emnist-byclass-train-images-idx3-ubyte.gz' ein\n",
      "Dimensions: 3\n",
      "Shape: (697932, 28, 28)\n",
      "***********************************************\n",
      "Lese Datenset '/home/isaac/Documents/master/computer_and_robot_vision/CRV_Postleitzahlerkennung/neural_network/emnist_dataset/emnist-byclass-train-labels-idx1-ubyte.gz' ein\n",
      "Dimensions: 1\n",
      "Shape: (697932,)\n",
      "***********************************************\n",
      "Lese Datenset '/home/isaac/Documents/master/computer_and_robot_vision/CRV_Postleitzahlerkennung/neural_network/emnist_dataset/emnist-byclass-test-images-idx3-ubyte.gz' ein\n",
      "Dimensions: 3\n",
      "Shape: (116323, 28, 28)\n",
      "***********************************************\n",
      "Lese Datenset '/home/isaac/Documents/master/computer_and_robot_vision/CRV_Postleitzahlerkennung/neural_network/emnist_dataset/emnist-byclass-test-labels-idx1-ubyte.gz' ein\n",
      "Dimensions: 1\n",
      "Shape: (116323,)\n",
      "***********************************************\n"
     ]
    }
   ],
   "source": [
    "model = CrvModel(dataset_folder)"
   ]
  },
  {
   "cell_type": "code",
   "execution_count": 5,
   "metadata": {},
   "outputs": [
    {
     "data": {
      "image/png": "[encoded data removed]",
      "text/plain": [
       "<Figure size 432x288 with 1 Axes>"
      ]
     },
     "metadata": {
      "needs_background": "light"
     },
     "output_type": "display_data"
    }
   ],
   "source": [
    "model.show_random_image(model.raw_train_img, model.raw_train_labels)"
   ]
  },
  {
   "cell_type": "code",
   "execution_count": 6,
   "metadata": {},
   "outputs": [
    {
     "name": "stdout",
     "output_type": "stream",
     "text": [
      "Model: \"sequential\"\n",
      "_________________________________________________________________\n",
      "Layer (type)                 Output Shape              Param #   \n",
      "=================================================================\n",
      "conv2d (Conv2D)              (None, 12, 12, 32)        832       \n",
      "_________________________________________________________________\n",
      "conv2d_1 (Conv2D)            (None, 10, 10, 64)        18496     \n",
      "_________________________________________________________________\n",
      "max_pooling2d (MaxPooling2D) (None, 5, 5, 64)          0         \n",
      "_________________________________________________________________\n",
      "dropout (Dropout)            (None, 5, 5, 64)          0         \n",
      "_________________________________________________________________\n",
      "flatten (Flatten)            (None, 1600)              0         \n",
      "_________________________________________________________________\n",
      "dense (Dense)                (None, 128)               204928    \n",
      "_________________________________________________________________\n",
      "dropout_1 (Dropout)          (None, 128)               0         \n",
      "_________________________________________________________________\n",
      "dense_1 (Dense)              (None, 62)                7998      \n",
      "=================================================================\n",
      "Total params: 232,254\n",
      "Trainable params: 232,254\n",
      "Non-trainable params: 0\n",
      "_________________________________________________________________\n"
     ]
    }
   ],
   "source": [
    "model.cnn.summary()\n",
    "model.cnn.compile(loss = \"categorical_crossentropy\",\n",
    "                  optimizer = \"adam\",\n",
    "                  metrics = [\"accuracy\"])"
   ]
  },
  {
   "cell_type": "code",
   "execution_count": null,
   "metadata": {},
   "outputs": [
    {
     "name": "stdout",
     "output_type": "stream",
     "text": [
      "Train on 697932 samples, validate on 116323 samples\n",
      "Epoch 1/50\n",
      "697932/697932 [==============================] - 9s 12us/sample - loss: 0.8841 - accuracy: 0.7391 - val_loss: 0.4599 - val_accuracy: 0.8393\n",
      "Epoch 2/50\n",
      "697932/697932 [==============================] - 7s 11us/sample - loss: 0.5073 - accuracy: 0.8273 - val_loss: 0.4109 - val_accuracy: 0.8524\n",
      "Epoch 3/50\n",
      "697932/697932 [==============================] - 7s 11us/sample - loss: 0.4635 - accuracy: 0.8390 - val_loss: 0.3912 - val_accuracy: 0.8583\n",
      "Epoch 4/50\n",
      "697932/697932 [==============================] - 7s 11us/sample - loss: 0.4402 - accuracy: 0.8455 - val_loss: 0.3823 - val_accuracy: 0.8603\n",
      "Epoch 5/50\n",
      "697932/697932 [==============================] - 7s 11us/sample - loss: 0.4263 - accuracy: 0.8483 - val_loss: 0.3750 - val_accuracy: 0.8615\n",
      "Epoch 6/50\n",
      "697932/697932 [==============================] - 8s 11us/sample - loss: 0.4167 - accuracy: 0.8512 - val_loss: 0.3697 - val_accuracy: 0.8645\n",
      "Epoch 7/50\n",
      "697932/697932 [==============================] - 8s 11us/sample - loss: 0.4085 - accuracy: 0.8535 - val_loss: 0.3630 - val_accuracy: 0.8660\n",
      "Epoch 8/50\n",
      "697932/697932 [==============================] - 8s 11us/sample - loss: 0.4017 - accuracy: 0.8549 - val_loss: 0.3603 - val_accuracy: 0.8673\n",
      "Epoch 9/50\n",
      "697932/697932 [==============================] - 8s 11us/sample - loss: 0.3963 - accuracy: 0.8568 - val_loss: 0.3586 - val_accuracy: 0.8665\n",
      "Epoch 10/50\n",
      "697932/697932 [==============================] - 8s 11us/sample - loss: 0.3920 - accuracy: 0.8573 - val_loss: 0.3554 - val_accuracy: 0.8676\n",
      "Epoch 11/50\n",
      "697932/697932 [==============================] - 7s 11us/sample - loss: 0.3889 - accuracy: 0.8584 - val_loss: 0.3544 - val_accuracy: 0.8678\n",
      "Epoch 12/50\n",
      "697932/697932 [==============================] - 7s 11us/sample - loss: 0.3854 - accuracy: 0.8594 - val_loss: 0.3514 - val_accuracy: 0.8696\n",
      "Epoch 13/50\n",
      "697932/697932 [==============================] - 8s 11us/sample - loss: 0.3816 - accuracy: 0.8602 - val_loss: 0.3524 - val_accuracy: 0.8686\n",
      "Epoch 14/50\n",
      "697932/697932 [==============================] - 7s 10us/sample - loss: 0.3796 - accuracy: 0.8607 - val_loss: 0.3529 - val_accuracy: 0.8683\n",
      "Epoch 15/50\n",
      "697932/697932 [==============================] - 7s 10us/sample - loss: 0.3769 - accuracy: 0.8617 - val_loss: 0.3498 - val_accuracy: 0.8695\n",
      "Epoch 16/50\n",
      "697932/697932 [==============================] - 7s 11us/sample - loss: 0.3745 - accuracy: 0.8625 - val_loss: 0.3476 - val_accuracy: 0.8702\n",
      "Epoch 17/50\n",
      "697932/697932 [==============================] - 7s 10us/sample - loss: 0.3727 - accuracy: 0.8626 - val_loss: 0.3483 - val_accuracy: 0.8700\n",
      "Epoch 18/50\n",
      "697932/697932 [==============================] - 7s 10us/sample - loss: 0.3711 - accuracy: 0.8629 - val_loss: 0.3465 - val_accuracy: 0.8705\n",
      "Epoch 19/50\n",
      "697932/697932 [==============================] - 7s 10us/sample - loss: 0.3693 - accuracy: 0.8632 - val_loss: 0.3484 - val_accuracy: 0.8699\n",
      "Epoch 20/50\n",
      "697932/697932 [==============================] - 7s 10us/sample - loss: 0.3671 - accuracy: 0.8639 - val_loss: 0.3474 - val_accuracy: 0.8699\n",
      "Epoch 21/50\n",
      "697932/697932 [==============================] - 7s 10us/sample - loss: 0.3656 - accuracy: 0.8643 - val_loss: 0.3467 - val_accuracy: 0.8703\n",
      "Epoch 22/50\n",
      "697932/697932 [==============================] - 8s 11us/sample - loss: 0.3650 - accuracy: 0.8642 - val_loss: 0.3453 - val_accuracy: 0.8710\n",
      "Epoch 23/50\n",
      "697932/697932 [==============================] - 7s 10us/sample - loss: 0.3632 - accuracy: 0.8650 - val_loss: 0.3443 - val_accuracy: 0.8714\n",
      "Epoch 24/50\n",
      "697932/697932 [==============================] - 7s 10us/sample - loss: 0.3617 - accuracy: 0.8653 - val_loss: 0.3449 - val_accuracy: 0.8709\n",
      "Epoch 25/50\n",
      "697932/697932 [==============================] - 7s 10us/sample - loss: 0.3609 - accuracy: 0.8653 - val_loss: 0.3438 - val_accuracy: 0.8712\n",
      "Epoch 26/50\n",
      "697932/697932 [==============================] - 7s 10us/sample - loss: 0.3595 - accuracy: 0.8658 - val_loss: 0.3442 - val_accuracy: 0.8707\n",
      "Epoch 27/50\n",
      "697932/697932 [==============================] - 7s 10us/sample - loss: 0.3577 - accuracy: 0.8665 - val_loss: 0.3437 - val_accuracy: 0.8709\n",
      "Epoch 28/50\n",
      "697932/697932 [==============================] - 7s 11us/sample - loss: 0.3573 - accuracy: 0.8665 - val_loss: 0.3446 - val_accuracy: 0.8716\n",
      "Epoch 29/50\n",
      "697932/697932 [==============================] - 7s 11us/sample - loss: 0.3564 - accuracy: 0.8669 - val_loss: 0.3438 - val_accuracy: 0.8708\n",
      "Epoch 30/50\n",
      "697932/697932 [==============================] - 7s 10us/sample - loss: 0.3549 - accuracy: 0.8671 - val_loss: 0.3448 - val_accuracy: 0.8714\n",
      "Epoch 31/50\n",
      "697932/697932 [==============================] - 7s 10us/sample - loss: 0.3544 - accuracy: 0.8674 - val_loss: 0.3418 - val_accuracy: 0.8723\n",
      "Epoch 32/50\n",
      "697932/697932 [==============================] - 7s 10us/sample - loss: 0.3530 - accuracy: 0.8677 - val_loss: 0.3428 - val_accuracy: 0.8721\n",
      "Epoch 33/50\n",
      "697932/697932 [==============================] - 7s 10us/sample - loss: 0.3528 - accuracy: 0.8674 - val_loss: 0.3414 - val_accuracy: 0.8724\n",
      "Epoch 34/50\n",
      "697932/697932 [==============================] - 7s 11us/sample - loss: 0.3519 - accuracy: 0.8678 - val_loss: 0.3423 - val_accuracy: 0.8716\n",
      "Epoch 35/50\n",
      "697932/697932 [==============================] - 8s 11us/sample - loss: 0.3507 - accuracy: 0.8677 - val_loss: 0.3416 - val_accuracy: 0.8722\n",
      "Epoch 36/50\n",
      "697932/697932 [==============================] - 8s 11us/sample - loss: 0.3508 - accuracy: 0.8683 - val_loss: 0.3407 - val_accuracy: 0.8726\n",
      "Epoch 37/50\n",
      "697932/697932 [==============================] - 7s 11us/sample - loss: 0.3499 - accuracy: 0.8684 - val_loss: 0.3419 - val_accuracy: 0.8717\n",
      "Epoch 38/50\n",
      "697932/697932 [==============================] - 7s 11us/sample - loss: 0.3486 - accuracy: 0.8683 - val_loss: 0.3413 - val_accuracy: 0.8727\n",
      "Epoch 39/50\n",
      "697932/697932 [==============================] - 7s 10us/sample - loss: 0.3478 - accuracy: 0.8690 - val_loss: 0.3423 - val_accuracy: 0.8728\n",
      "Epoch 40/50\n",
      "697932/697932 [==============================] - 7s 10us/sample - loss: 0.3471 - accuracy: 0.8694 - val_loss: 0.3425 - val_accuracy: 0.8717\n",
      "Epoch 41/50\n",
      "697932/697932 [==============================] - 7s 11us/sample - loss: 0.3466 - accuracy: 0.8693 - val_loss: 0.3407 - val_accuracy: 0.8727\n",
      "Epoch 42/50\n",
      "697932/697932 [==============================] - 7s 10us/sample - loss: 0.3465 - accuracy: 0.8697 - val_loss: 0.3406 - val_accuracy: 0.8723\n",
      "Epoch 43/50\n",
      "631808/697932 [==========================>...] - ETA: 0s - loss: 0.3450 - accuracy: 0.8698"
     ]
    }
   ],
   "source": [
    "model.trained = model.cnn.fit(model.train_img,\n",
    "              model.train_labels,\n",
    "              batch_size = model.batch_size,\n",
    "              epochs = model.epochs,\n",
    "              verbose = 1,\n",
    "              validation_data = (model.test_img, model.test_labels))\n",
    "\n",
    "model.cnn.save(model.save_path)"
   ]
  },
  {
   "cell_type": "code",
   "execution_count": null,
   "metadata": {},
   "outputs": [],
   "source": [
    "plt.figure(figsize=(12, 6), dpi=96)\n",
    "plt.subplot(1, 2, 1)\n",
    "plt.plot(model.trained.history['loss'])\n",
    "plt.plot(model.trained.history['val_loss'])\n",
    "plt.title('Model Loss')\n",
    "plt.xlabel('Epoch')\n",
    "plt.ylabel('Loss')\n",
    "plt.legend(['train', 'test'], loc='upper left')\n",
    "plt.subplot(1, 2, 2)\n",
    "plt.plot(model.trained.history['accuracy'])\n",
    "plt.plot(model.trained.history['val_accuracy'])\n",
    "plt.title('Model Accuracy')\n",
    "plt.xlabel('Epoch')\n",
    "plt.ylabel('Accuracy')\n",
    "plt.legend(['train', 'test'], loc='upper left')\n",
    "plt.tight_layout()\n",
    "plt.show()"
   ]
  }
 ],
 "metadata": {
  "kernelspec": {
   "display_name": "Python 3",
   "language": "python",
   "name": "python3"
  },
  "language_info": {
   "codemirror_mode": {
    "name": "ipython",
    "version": 3
   },
   "file_extension": ".py",
   "mimetype": "text/x-python",
   "name": "python",
   "nbconvert_exporter": "python",
   "pygments_lexer": "ipython3",
   "version": "3.7.7"
  }
 },
 "nbformat": 4,
 "nbformat_minor": 4
}
