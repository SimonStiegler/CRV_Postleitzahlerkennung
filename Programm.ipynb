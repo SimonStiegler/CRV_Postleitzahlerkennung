{
 "metadata": {
  "language_info": {
   "codemirror_mode": {
    "name": "ipython",
    "version": 3
   },
   "file_extension": ".py",
   "mimetype": "text/x-python",
   "name": "python",
   "nbconvert_exporter": "python",
   "pygments_lexer": "ipython3",
   "version": "3.7.7-final"
  },
  "orig_nbformat": 2,
  "kernelspec": {
   "name": "Python 3.7.7 64-bit ('dl': conda)",
   "display_name": "Python 3.7.7 64-bit ('dl': conda)",
   "metadata": {
    "interpreter": {
     "hash": "ee58bcbc6178ab4ab2bfe16348d2b0265d4f85de102ec7e8726b1aa7f70ecc92"
    }
   }
  }
 },
 "nbformat": 4,
 "nbformat_minor": 2,
 "cells": [
  {
   "source": [
    "# Program für Roboter- und Computervision"
   ],
   "cell_type": "markdown",
   "metadata": {}
  },
  {
   "source": [
    "### Bekomme den Stream der Kamera und verwandle es in ein grau Stufen Bild\n",
    "https://opencv-python-tutroals.readthedocs.io/en/latest/py_tutorials/py_gui/py_video_display/py_video_display.html?highlight=video"
   ],
   "cell_type": "markdown",
   "metadata": {}
  },
  {
   "cell_type": "code",
   "execution_count": 2,
   "metadata": {},
   "outputs": [],
   "source": [
    "import cv2\n",
    "import numpy as np \n",
    "from matplotlib import pyplot as plt\n",
    "\n",
    "cap = cv2.VideoCapture(0)\n",
    "\n",
    "while(True):\n",
    "    # Capture frame-by-frame\n",
    "    ret, frame = cap.read()\n",
    "\n",
    "    # Our operations on the frame come here\n",
    "    gray = cv2.cvtColor(frame, cv2.COLOR_BGR2GRAY)\n",
    "\n",
    "    # https://opencv-python-tutroals.readthedocs.io/en/latest/py_tutorials/py_imgproc/py_canny/py_canny.html?highlight=imshow\n",
    "    #canny Edge Detection\n",
    "    edges = cv2.Canny(gray,100,200)\n",
    "    # 1 Fenster mit Graustufe\n",
    "    namedWindow1 = \"gray\"\n",
    "    cv2.namedWindow(namedWindow1)\n",
    "    cv2.moveWindow(namedWindow1,0,0)\n",
    "    cv2.imshow(namedWindow1, gray)\n",
    "    # 2 Fenster mit Kantenbild\n",
    "    namedWindow2 = \"edges\"\n",
    "    cv2.namedWindow(namedWindow2)\n",
    "    cv2.moveWindow(namedWindow2,640,0)\n",
    "    cv2.imshow(namedWindow2,edges)\n",
    "    # 3 Fenster \n",
    "    namedWindow3 = \"weiteres\"\n",
    "    cv2.namedWindow(namedWindow3)\n",
    "    cv2.moveWindow(namedWindow3,1280,0)\n",
    "    cv2.imshow(namedWindow3,edges)\n",
    "\n",
    "\n",
    "    if cv2.waitKey(1) & 0xFF == ord('q'):\n",
    "        break\n",
    "\n",
    "# When everything done, release the capture\n",
    "cap.release()\n",
    "cv2.destroyAllWindows()\n"
   ]
  },
  {
   "cell_type": "code",
   "execution_count": null,
   "metadata": {},
   "outputs": [],
   "source": []
  }
 ]
}