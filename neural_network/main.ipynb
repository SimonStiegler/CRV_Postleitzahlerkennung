{
 "cells": [
  {
   "cell_type": "markdown",
   "metadata": {},
   "source": [
    "# Neural Network für klassifizierung von arabischen Zahlen"
   ]
  },
  {
   "cell_type": "code",
   "execution_count": 1,
   "metadata": {},
   "outputs": [],
   "source": [
    "import tensorflow as tf\n",
    "import matplotlib.pyplot as plt\n",
    "import numpy as np\n",
    "import random\n",
    "import gzip\n",
    "import struct\n",
    "import os"
   ]
  },
  {
   "cell_type": "code",
   "execution_count": 2,
   "metadata": {},
   "outputs": [],
   "source": [
    "dataset_folder = os.path.abspath(\"./../emnist_dataset\")"
   ]
  },
  {
   "cell_type": "markdown",
   "metadata": {},
   "source": [
    "Klasse für Model definieren:"
   ]
  },
  {
   "cell_type": "code",
   "execution_count": 3,
   "metadata": {},
   "outputs": [],
   "source": [
    "class CrvModel:\n",
    "    def __init__(self, dataset_folder):\n",
    "        self.dataset_path = dataset_folder\n",
    "        self.labels = \"0123456789ABCDEFGHIJKLMNOPQRSTUVWXYZabcdefghijklmnopqrstuvwxyz\"\n",
    "        self.num_classes = len(self.labels)\n",
    "        \n",
    "        self.random_seed_num = 21081994\n",
    "        \n",
    "        self.batch_size = 1024\n",
    "        self.epochs = 50\n",
    "        self.save_path = \"./model.h5\"\n",
    "\n",
    "        self.raw_train_img = self.read_data(os.path.join(dataset_folder, 'emnist-byclass-train-images-idx3-ubyte.gz'))\n",
    "        self.raw_train_labels = self.read_data(os.path.join(dataset_folder, 'emnist-byclass-train-labels-idx1-ubyte.gz'))\n",
    "        self.raw_test_img = self.read_data(os.path.join(dataset_folder, 'emnist-byclass-test-images-idx3-ubyte.gz'))\n",
    "        self.raw_test_labels = self.read_data(os.path.join(dataset_folder, 'emnist-byclass-test-labels-idx1-ubyte.gz'))\n",
    "        \n",
    "    def read_data(self, path):\n",
    "        print(\"Lese Datenset '%s' ein\" %path)\n",
    "        with gzip.open(path, \"rb\") as f:\n",
    "            z, dtype, dim = struct.unpack(\">HBB\", f.read(4))\n",
    "            print(\"Dimensions:\", dim)\n",
    "            shape = tuple(struct.unpack(\">I\", f.read(4))[0] for d in range(dim))\n",
    "            print(\"Shape:\", shape)\n",
    "            print(\"***********************************************\")\n",
    "            return np.frombuffer(f.read(), dtype=np.uint8).reshape(shape)\n",
    "        \n",
    "    def show_random_image(self, data_imgs, data_labels):\n",
    "        i = random.randint(0, data_imgs.shape[0])\n",
    "        fig, ax = plt.subplots()\n",
    "        ax.clear()\n",
    "        ax.imshow(data_imgs[i].T, cmap=\"gray\")\n",
    "        title = \"label = %d = %s\" %(data_labels[i], self.labels[data_labels[i]])\n",
    "        ax.set_title(title, fontsize=20)\n",
    "        plt.show()"
   ]
  },
  {
   "cell_type": "code",
   "execution_count": 4,
   "metadata": {},
   "outputs": [
    {
     "name": "stdout",
     "output_type": "stream",
     "text": [
      "Lese Datenset '/home/isaac/Documents/master/computer_and_robot_vision/emnist_dataset/emnist-byclass-train-images-idx3-ubyte.gz' ein\n",
      "Dimensions: 3\n",
      "Shape: (697932, 28, 28)\n",
      "***********************************************\n",
      "Lese Datenset '/home/isaac/Documents/master/computer_and_robot_vision/emnist_dataset/emnist-byclass-train-labels-idx1-ubyte.gz' ein\n",
      "Dimensions: 1\n",
      "Shape: (697932,)\n",
      "***********************************************\n",
      "Lese Datenset '/home/isaac/Documents/master/computer_and_robot_vision/emnist_dataset/emnist-byclass-test-images-idx3-ubyte.gz' ein\n",
      "Dimensions: 3\n",
      "Shape: (116323, 28, 28)\n",
      "***********************************************\n",
      "Lese Datenset '/home/isaac/Documents/master/computer_and_robot_vision/emnist_dataset/emnist-byclass-test-labels-idx1-ubyte.gz' ein\n",
      "Dimensions: 1\n",
      "Shape: (116323,)\n",
      "***********************************************\n"
     ]
    }
   ],
   "source": [
    "model = CrvModel(dataset_folder)"
   ]
  },
  {
   "cell_type": "code",
   "execution_count": 9,
   "metadata": {},
   "outputs": [
    {
     "data": {
      "image/png": "[encoded data removed]",
      "text/plain": [
       "<Figure size 432x288 with 1 Axes>"
      ]
     },
     "metadata": {
      "needs_background": "light"
     },
     "output_type": "display_data"
    }
   ],
   "source": [
    "model.show_random_image(model.raw_train_img, model.raw_train_labels)"
   ]
  },
  {
   "cell_type": "code",
   "execution_count": null,
   "metadata": {},
   "outputs": [],
   "source": []
  }
 ],
 "metadata": {
  "kernelspec": {
   "display_name": "Python 3",
   "language": "python",
   "name": "python3"
  },
  "language_info": {
   "codemirror_mode": {
    "name": "ipython",
    "version": 3
   },
   "file_extension": ".py",
   "mimetype": "text/x-python",
   "name": "python",
   "nbconvert_exporter": "python",
   "pygments_lexer": "ipython3",
   "version": "3.7.7"
  }
 },
 "nbformat": 4,
 "nbformat_minor": 4
}
