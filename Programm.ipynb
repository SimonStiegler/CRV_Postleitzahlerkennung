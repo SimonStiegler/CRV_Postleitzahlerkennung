{
 "metadata": {
  "language_info": {
   "codemirror_mode": {
    "name": "ipython",
    "version": 3
   },
   "file_extension": ".py",
   "mimetype": "text/x-python",
   "name": "python",
   "nbconvert_exporter": "python",
   "pygments_lexer": "ipython3",
   "version": "3.7.7-final"
  },
  "orig_nbformat": 2,
  "kernelspec": {
   "name": "python37764bitdlcondafb9c8a2b77894feca7a3c3d76517a545",
   "display_name": "Python 3.7.7 64-bit ('dl': conda)",
   "language": "python"
  }
 },
 "nbformat": 4,
 "nbformat_minor": 2,
 "cells": [
  {
   "source": [
    "# Program für Roboter- und Computervision"
   ],
   "cell_type": "markdown",
   "metadata": {}
  },
  {
   "source": [
    "## Importieren der Bibliotheken"
   ],
   "cell_type": "markdown",
   "metadata": {}
  },
  {
   "cell_type": "code",
   "execution_count": 1,
   "metadata": {},
   "outputs": [],
   "source": [
    "import cv2\n",
    "import numpy as np \n",
    "from matplotlib import pyplot as plt\n",
    "# for Rotation only cutting the picture\n",
    "import argparse\n",
    "import pydash\n",
    "import random\n",
    "import imutils as im\n",
    "import csv\n",
    "import sqlite3\n",
    "import tensorflow as tf\n",
    "import gzip\n",
    "import struct\n",
    "import os\n",
    "\n",
    "from mlxtend.data import loadlocal_mnist"
   ]
  },
  {
   "source": [
    "## Parameters"
   ],
   "cell_type": "markdown",
   "metadata": {}
  },
  {
   "cell_type": "code",
   "execution_count": 2,
   "metadata": {},
   "outputs": [],
   "source": [
    "imagePath = \"./Briefe/mo_2.jpg\"\n",
    "# Kernel\n",
    "blurring = 0\n",
    "dilateErode = 1\n",
    "dilateKernel = np.ones((dilateErode,dilateErode), \"uint8\")\n",
    "erodeKernel = np.ones((dilateErode,dilateErode), \"uint8\")\n",
    "# CharacterKernel\n",
    "characterDilateErode = 5\n",
    "characterDK = np.ones((characterDilateErode,characterDilateErode),\"uint8\")\n",
    "characterEK = np.ones((characterDilateErode,characterDilateErode),\"uint8\")\n",
    "\n",
    " \n",
    "# C5/6 Scale  220x110\n",
    "C_5_6_Metrics= [220,110]\n",
    "C_5_6_Scale = [1.8,2.4]\n",
    "stampZone = [74,40]\n",
    "margin = 15\n",
    "stampMinSize=[28,15]"
   ]
  },
  {
   "source": [
    "## Vorbereitung des Bildes\n",
    "\n",
    "<img src=\"./README_pictures/Normen_Brief.png\"/>"
   ],
   "cell_type": "markdown",
   "metadata": {}
  },
  {
   "source": [
    "    # Lesen des Bilds\n",
    "image = cv2.imread(imagePath, cv2.IMREAD_COLOR)\n",
    "if image is None:\n",
    "      raise SystemExit(\"Imagepath is not right\")\n",
    "height,width,channels = image.shape\n",
    "height-=1\n",
    "width-=1\n",
    "showImage = cv2.cvtColor(image,cv2.COLOR_BGR2RGB)\n",
    "    # Zeigen des Bilds\n",
    "plt.imshow(showImage)\n",
    "plt.title(\"Original\")"
   ],
   "cell_type": "code",
   "metadata": {},
   "execution_count": 3,
   "outputs": [
    {
     "output_type": "execute_result",
     "data": {
      "text/plain": [
       "Text(0.5, 1.0, 'Original')"
      ]
     },
     "metadata": {},
     "execution_count": 3
    },
    {
     "output_type": "display_data",
     "data": {
      "text/plain": "<Figure size 432x288 with 1 Axes>",
      "image/svg+xml": "<?xml version=\"1.0\" encoding=\"utf-8\" standalone=\"no\"?>\n<!DOCTYPE svg PUBLIC \"-//W3C//DTD SVG 1.1//EN\"\n  \"http://www.w3.org/Graphics/SVG/1.1/DTD/svg11.dtd\">\n<!-- Created with matplotlib (https://matplotlib.org/) -->\n<svg height=\"263.63625pt\" version=\"1.1\" viewBox=\"0 0 155.57 263.63625\" width=\"155.57pt\" xmlns=\"http://www.w3.org/2000/svg\" xmlns:xlink=\"http://www.w3.org/1999/xlink\">\n <defs>\n  <style type=\"text/css\">\n*{stroke-linecap:butt;stroke-linejoin:round;}\n  </style>\n </defs>\n <g id=\"figure_1\">\n  <g id=\"patch_1\">\n   <path d=\"M 0 263.63625 \nL 155.57 263.63625 \nL 155.57 0 \nL 0 0 \nz\n\" style=\"fill:none;\"/>\n  </g>\n  <g id=\"axes_1\">\n   <g id=\"patch_2\">\n    <path d=\"M 39.65 239.758125 \nL 148.37 239.758125 \nL 148.37 22.318125 \nL 39.65 22.318125 \nz\n\" style=\"fill:#ffffff;\"/>\n   </g>\n   <g clip-path=\"url(#p10e134f269)\">\n    <image height=\"218\" id=\"imageaa200b090f\" transform=\"scale(1 -1)translate(0 -218)\" width=\"109\" x=\"39.65\" xlink:href=\"data:image/png;base64,\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\" y=\"-21.758125\"/>\n   </g>\n   <g id=\"matplotlib.axis_1\">\n    <g id=\"xtick_1\">\n     <g id=\"line2d_1\">\n      <defs>\n       <path d=\"M 0 0 \nL 0 3.5 \n\" id=\"m99205d8a94\" style=\"stroke:#000000;stroke-width:0.8;\"/>\n      </defs>\n      <g>\n       <use style=\"stroke:#000000;stroke-width:0.8;\" x=\"39.673594\" xlink:href=\"#m99205d8a94\" y=\"239.758125\"/>\n      </g>\n     </g>\n     <g id=\"text_1\">\n      <!-- 0 -->\n      <defs>\n       <path d=\"M 31.78125 66.40625 \nQ 24.171875 66.40625 20.328125 58.90625 \nQ 16.5 51.421875 16.5 36.375 \nQ 16.5 21.390625 20.328125 13.890625 \nQ 24.171875 6.390625 31.78125 6.390625 \nQ 39.453125 6.390625 43.28125 13.890625 \nQ 47.125 21.390625 47.125 36.375 \nQ 47.125 51.421875 43.28125 58.90625 \nQ 39.453125 66.40625 31.78125 66.40625 \nz\nM 31.78125 74.21875 \nQ 44.046875 74.21875 50.515625 64.515625 \nQ 56.984375 54.828125 56.984375 36.375 \nQ 56.984375 17.96875 50.515625 8.265625 \nQ 44.046875 -1.421875 31.78125 -1.421875 \nQ 19.53125 -1.421875 13.0625 8.265625 \nQ 6.59375 17.96875 6.59375 36.375 \nQ 6.59375 54.828125 13.0625 64.515625 \nQ 19.53125 74.21875 31.78125 74.21875 \nz\n\" id=\"DejaVuSans-48\"/>\n      </defs>\n      <g transform=\"translate(36.492344 254.356563)scale(0.1 -0.1)\">\n       <use xlink:href=\"#DejaVuSans-48\"/>\n      </g>\n     </g>\n    </g>\n    <g id=\"xtick_2\">\n     <g id=\"line2d_2\">\n      <g>\n       <use style=\"stroke:#000000;stroke-width:0.8;\" x=\"86.861094\" xlink:href=\"#m99205d8a94\" y=\"239.758125\"/>\n      </g>\n     </g>\n     <g id=\"text_2\">\n      <!-- 1000 -->\n      <defs>\n       <path d=\"M 12.40625 8.296875 \nL 28.515625 8.296875 \nL 28.515625 63.921875 \nL 10.984375 60.40625 \nL 10.984375 69.390625 \nL 28.421875 72.90625 \nL 38.28125 72.90625 \nL 38.28125 8.296875 \nL 54.390625 8.296875 \nL 54.390625 0 \nL 12.40625 0 \nz\n\" id=\"DejaVuSans-49\"/>\n      </defs>\n      <g transform=\"translate(74.136094 254.356563)scale(0.1 -0.1)\">\n       <use xlink:href=\"#DejaVuSans-49\"/>\n       <use x=\"63.623047\" xlink:href=\"#DejaVuSans-48\"/>\n       <use x=\"127.246094\" xlink:href=\"#DejaVuSans-48\"/>\n       <use x=\"190.869141\" xlink:href=\"#DejaVuSans-48\"/>\n      </g>\n     </g>\n    </g>\n    <g id=\"xtick_3\">\n     <g id=\"line2d_3\">\n      <g>\n       <use style=\"stroke:#000000;stroke-width:0.8;\" x=\"134.048594\" xlink:href=\"#m99205d8a94\" y=\"239.758125\"/>\n      </g>\n     </g>\n     <g id=\"text_3\">\n      <!-- 2000 -->\n      <defs>\n       <path d=\"M 19.1875 8.296875 \nL 53.609375 8.296875 \nL 53.609375 0 \nL 7.328125 0 \nL 7.328125 8.296875 \nQ 12.9375 14.109375 22.625 23.890625 \nQ 32.328125 33.6875 34.8125 36.53125 \nQ 39.546875 41.84375 41.421875 45.53125 \nQ 43.3125 49.21875 43.3125 52.78125 \nQ 43.3125 58.59375 39.234375 62.25 \nQ 35.15625 65.921875 28.609375 65.921875 \nQ 23.96875 65.921875 18.8125 64.3125 \nQ 13.671875 62.703125 7.8125 59.421875 \nL 7.8125 69.390625 \nQ 13.765625 71.78125 18.9375 73 \nQ 24.125 74.21875 28.421875 74.21875 \nQ 39.75 74.21875 46.484375 68.546875 \nQ 53.21875 62.890625 53.21875 53.421875 \nQ 53.21875 48.921875 51.53125 44.890625 \nQ 49.859375 40.875 45.40625 35.40625 \nQ 44.1875 33.984375 37.640625 27.21875 \nQ 31.109375 20.453125 19.1875 8.296875 \nz\n\" id=\"DejaVuSans-50\"/>\n      </defs>\n      <g transform=\"translate(121.323594 254.356563)scale(0.1 -0.1)\">\n       <use xlink:href=\"#DejaVuSans-50\"/>\n       <use x=\"63.623047\" xlink:href=\"#DejaVuSans-48\"/>\n       <use x=\"127.246094\" xlink:href=\"#DejaVuSans-48\"/>\n       <use x=\"190.869141\" xlink:href=\"#DejaVuSans-48\"/>\n      </g>\n     </g>\n    </g>\n   </g>\n   <g id=\"matplotlib.axis_2\">\n    <g id=\"ytick_1\">\n     <g id=\"line2d_4\">\n      <defs>\n       <path d=\"M 0 0 \nL -3.5 0 \n\" id=\"me5b2f95436\" style=\"stroke:#000000;stroke-width:0.8;\"/>\n      </defs>\n      <g>\n       <use style=\"stroke:#000000;stroke-width:0.8;\" x=\"39.65\" xlink:href=\"#me5b2f95436\" y=\"22.341719\"/>\n      </g>\n     </g>\n     <g id=\"text_4\">\n      <!-- 0 -->\n      <g transform=\"translate(26.2875 26.140938)scale(0.1 -0.1)\">\n       <use xlink:href=\"#DejaVuSans-48\"/>\n      </g>\n     </g>\n    </g>\n    <g id=\"ytick_2\">\n     <g id=\"line2d_5\">\n      <g>\n       <use style=\"stroke:#000000;stroke-width:0.8;\" x=\"39.65\" xlink:href=\"#me5b2f95436\" y=\"69.529219\"/>\n      </g>\n     </g>\n     <g id=\"text_5\">\n      <!-- 1000 -->\n      <g transform=\"translate(7.2 73.328438)scale(0.1 -0.1)\">\n       <use xlink:href=\"#DejaVuSans-49\"/>\n       <use x=\"63.623047\" xlink:href=\"#DejaVuSans-48\"/>\n       <use x=\"127.246094\" xlink:href=\"#DejaVuSans-48\"/>\n       <use x=\"190.869141\" xlink:href=\"#DejaVuSans-48\"/>\n      </g>\n     </g>\n    </g>\n    <g id=\"ytick_3\">\n     <g id=\"line2d_6\">\n      <g>\n       <use style=\"stroke:#000000;stroke-width:0.8;\" x=\"39.65\" xlink:href=\"#me5b2f95436\" y=\"116.716719\"/>\n      </g>\n     </g>\n     <g id=\"text_6\">\n      <!-- 2000 -->\n      <g transform=\"translate(7.2 120.515938)scale(0.1 -0.1)\">\n       <use xlink:href=\"#DejaVuSans-50\"/>\n       <use x=\"63.623047\" xlink:href=\"#DejaVuSans-48\"/>\n       <use x=\"127.246094\" xlink:href=\"#DejaVuSans-48\"/>\n       <use x=\"190.869141\" xlink:href=\"#DejaVuSans-48\"/>\n      </g>\n     </g>\n    </g>\n    <g id=\"ytick_4\">\n     <g id=\"line2d_7\">\n      <g>\n       <use style=\"stroke:#000000;stroke-width:0.8;\" x=\"39.65\" xlink:href=\"#me5b2f95436\" y=\"163.904219\"/>\n      </g>\n     </g>\n     <g id=\"text_7\">\n      <!-- 3000 -->\n      <defs>\n       <path d=\"M 40.578125 39.3125 \nQ 47.65625 37.796875 51.625 33 \nQ 55.609375 28.21875 55.609375 21.1875 \nQ 55.609375 10.40625 48.1875 4.484375 \nQ 40.765625 -1.421875 27.09375 -1.421875 \nQ 22.515625 -1.421875 17.65625 -0.515625 \nQ 12.796875 0.390625 7.625 2.203125 \nL 7.625 11.71875 \nQ 11.71875 9.328125 16.59375 8.109375 \nQ 21.484375 6.890625 26.8125 6.890625 \nQ 36.078125 6.890625 40.9375 10.546875 \nQ 45.796875 14.203125 45.796875 21.1875 \nQ 45.796875 27.640625 41.28125 31.265625 \nQ 36.765625 34.90625 28.71875 34.90625 \nL 20.21875 34.90625 \nL 20.21875 43.015625 \nL 29.109375 43.015625 \nQ 36.375 43.015625 40.234375 45.921875 \nQ 44.09375 48.828125 44.09375 54.296875 \nQ 44.09375 59.90625 40.109375 62.90625 \nQ 36.140625 65.921875 28.71875 65.921875 \nQ 24.65625 65.921875 20.015625 65.03125 \nQ 15.375 64.15625 9.8125 62.3125 \nL 9.8125 71.09375 \nQ 15.4375 72.65625 20.34375 73.4375 \nQ 25.25 74.21875 29.59375 74.21875 \nQ 40.828125 74.21875 47.359375 69.109375 \nQ 53.90625 64.015625 53.90625 55.328125 \nQ 53.90625 49.265625 50.4375 45.09375 \nQ 46.96875 40.921875 40.578125 39.3125 \nz\n\" id=\"DejaVuSans-51\"/>\n      </defs>\n      <g transform=\"translate(7.2 167.703438)scale(0.1 -0.1)\">\n       <use xlink:href=\"#DejaVuSans-51\"/>\n       <use x=\"63.623047\" xlink:href=\"#DejaVuSans-48\"/>\n       <use x=\"127.246094\" xlink:href=\"#DejaVuSans-48\"/>\n       <use x=\"190.869141\" xlink:href=\"#DejaVuSans-48\"/>\n      </g>\n     </g>\n    </g>\n    <g id=\"ytick_5\">\n     <g id=\"line2d_8\">\n      <g>\n       <use style=\"stroke:#000000;stroke-width:0.8;\" x=\"39.65\" xlink:href=\"#me5b2f95436\" y=\"211.091719\"/>\n      </g>\n     </g>\n     <g id=\"text_8\">\n      <!-- 4000 -->\n      <defs>\n       <path d=\"M 37.796875 64.3125 \nL 12.890625 25.390625 \nL 37.796875 25.390625 \nz\nM 35.203125 72.90625 \nL 47.609375 72.90625 \nL 47.609375 25.390625 \nL 58.015625 25.390625 \nL 58.015625 17.1875 \nL 47.609375 17.1875 \nL 47.609375 0 \nL 37.796875 0 \nL 37.796875 17.1875 \nL 4.890625 17.1875 \nL 4.890625 26.703125 \nz\n\" id=\"DejaVuSans-52\"/>\n      </defs>\n      <g transform=\"translate(7.2 214.890938)scale(0.1 -0.1)\">\n       <use xlink:href=\"#DejaVuSans-52\"/>\n       <use x=\"63.623047\" xlink:href=\"#DejaVuSans-48\"/>\n       <use x=\"127.246094\" xlink:href=\"#DejaVuSans-48\"/>\n       <use x=\"190.869141\" xlink:href=\"#DejaVuSans-48\"/>\n      </g>\n     </g>\n    </g>\n   </g>\n   <g id=\"patch_3\">\n    <path d=\"M 39.65 239.758125 \nL 39.65 22.318125 \n\" style=\"fill:none;stroke:#000000;stroke-linecap:square;stroke-linejoin:miter;stroke-width:0.8;\"/>\n   </g>\n   <g id=\"patch_4\">\n    <path d=\"M 148.37 239.758125 \nL 148.37 22.318125 \n\" style=\"fill:none;stroke:#000000;stroke-linecap:square;stroke-linejoin:miter;stroke-width:0.8;\"/>\n   </g>\n   <g id=\"patch_5\">\n    <path d=\"M 39.65 239.758125 \nL 148.37 239.758125 \n\" style=\"fill:none;stroke:#000000;stroke-linecap:square;stroke-linejoin:miter;stroke-width:0.8;\"/>\n   </g>\n   <g id=\"patch_6\">\n    <path d=\"M 39.65 22.318125 \nL 148.37 22.318125 \n\" style=\"fill:none;stroke:#000000;stroke-linecap:square;stroke-linejoin:miter;stroke-width:0.8;\"/>\n   </g>\n   <g id=\"text_9\">\n    <!-- Original -->\n    <defs>\n     <path d=\"M 39.40625 66.21875 \nQ 28.65625 66.21875 22.328125 58.203125 \nQ 16.015625 50.203125 16.015625 36.375 \nQ 16.015625 22.609375 22.328125 14.59375 \nQ 28.65625 6.59375 39.40625 6.59375 \nQ 50.140625 6.59375 56.421875 14.59375 \nQ 62.703125 22.609375 62.703125 36.375 \nQ 62.703125 50.203125 56.421875 58.203125 \nQ 50.140625 66.21875 39.40625 66.21875 \nz\nM 39.40625 74.21875 \nQ 54.734375 74.21875 63.90625 63.9375 \nQ 73.09375 53.65625 73.09375 36.375 \nQ 73.09375 19.140625 63.90625 8.859375 \nQ 54.734375 -1.421875 39.40625 -1.421875 \nQ 24.03125 -1.421875 14.8125 8.828125 \nQ 5.609375 19.09375 5.609375 36.375 \nQ 5.609375 53.65625 14.8125 63.9375 \nQ 24.03125 74.21875 39.40625 74.21875 \nz\n\" id=\"DejaVuSans-79\"/>\n     <path d=\"M 41.109375 46.296875 \nQ 39.59375 47.171875 37.8125 47.578125 \nQ 36.03125 48 33.890625 48 \nQ 26.265625 48 22.1875 43.046875 \nQ 18.109375 38.09375 18.109375 28.8125 \nL 18.109375 0 \nL 9.078125 0 \nL 9.078125 54.6875 \nL 18.109375 54.6875 \nL 18.109375 46.1875 \nQ 20.953125 51.171875 25.484375 53.578125 \nQ 30.03125 56 36.53125 56 \nQ 37.453125 56 38.578125 55.875 \nQ 39.703125 55.765625 41.0625 55.515625 \nz\n\" id=\"DejaVuSans-114\"/>\n     <path d=\"M 9.421875 54.6875 \nL 18.40625 54.6875 \nL 18.40625 0 \nL 9.421875 0 \nz\nM 9.421875 75.984375 \nL 18.40625 75.984375 \nL 18.40625 64.59375 \nL 9.421875 64.59375 \nz\n\" id=\"DejaVuSans-105\"/>\n     <path d=\"M 45.40625 27.984375 \nQ 45.40625 37.75 41.375 43.109375 \nQ 37.359375 48.484375 30.078125 48.484375 \nQ 22.859375 48.484375 18.828125 43.109375 \nQ 14.796875 37.75 14.796875 27.984375 \nQ 14.796875 18.265625 18.828125 12.890625 \nQ 22.859375 7.515625 30.078125 7.515625 \nQ 37.359375 7.515625 41.375 12.890625 \nQ 45.40625 18.265625 45.40625 27.984375 \nz\nM 54.390625 6.78125 \nQ 54.390625 -7.171875 48.1875 -13.984375 \nQ 42 -20.796875 29.203125 -20.796875 \nQ 24.46875 -20.796875 20.265625 -20.09375 \nQ 16.0625 -19.390625 12.109375 -17.921875 \nL 12.109375 -9.1875 \nQ 16.0625 -11.328125 19.921875 -12.34375 \nQ 23.78125 -13.375 27.78125 -13.375 \nQ 36.625 -13.375 41.015625 -8.765625 \nQ 45.40625 -4.15625 45.40625 5.171875 \nL 45.40625 9.625 \nQ 42.625 4.78125 38.28125 2.390625 \nQ 33.9375 0 27.875 0 \nQ 17.828125 0 11.671875 7.65625 \nQ 5.515625 15.328125 5.515625 27.984375 \nQ 5.515625 40.671875 11.671875 48.328125 \nQ 17.828125 56 27.875 56 \nQ 33.9375 56 38.28125 53.609375 \nQ 42.625 51.21875 45.40625 46.390625 \nL 45.40625 54.6875 \nL 54.390625 54.6875 \nz\n\" id=\"DejaVuSans-103\"/>\n     <path d=\"M 54.890625 33.015625 \nL 54.890625 0 \nL 45.90625 0 \nL 45.90625 32.71875 \nQ 45.90625 40.484375 42.875 44.328125 \nQ 39.84375 48.1875 33.796875 48.1875 \nQ 26.515625 48.1875 22.3125 43.546875 \nQ 18.109375 38.921875 18.109375 30.90625 \nL 18.109375 0 \nL 9.078125 0 \nL 9.078125 54.6875 \nL 18.109375 54.6875 \nL 18.109375 46.1875 \nQ 21.34375 51.125 25.703125 53.5625 \nQ 30.078125 56 35.796875 56 \nQ 45.21875 56 50.046875 50.171875 \nQ 54.890625 44.34375 54.890625 33.015625 \nz\n\" id=\"DejaVuSans-110\"/>\n     <path d=\"M 34.28125 27.484375 \nQ 23.390625 27.484375 19.1875 25 \nQ 14.984375 22.515625 14.984375 16.5 \nQ 14.984375 11.71875 18.140625 8.90625 \nQ 21.296875 6.109375 26.703125 6.109375 \nQ 34.1875 6.109375 38.703125 11.40625 \nQ 43.21875 16.703125 43.21875 25.484375 \nL 43.21875 27.484375 \nz\nM 52.203125 31.203125 \nL 52.203125 0 \nL 43.21875 0 \nL 43.21875 8.296875 \nQ 40.140625 3.328125 35.546875 0.953125 \nQ 30.953125 -1.421875 24.3125 -1.421875 \nQ 15.921875 -1.421875 10.953125 3.296875 \nQ 6 8.015625 6 15.921875 \nQ 6 25.140625 12.171875 29.828125 \nQ 18.359375 34.515625 30.609375 34.515625 \nL 43.21875 34.515625 \nL 43.21875 35.40625 \nQ 43.21875 41.609375 39.140625 45 \nQ 35.0625 48.390625 27.6875 48.390625 \nQ 23 48.390625 18.546875 47.265625 \nQ 14.109375 46.140625 10.015625 43.890625 \nL 10.015625 52.203125 \nQ 14.9375 54.109375 19.578125 55.046875 \nQ 24.21875 56 28.609375 56 \nQ 40.484375 56 46.34375 49.84375 \nQ 52.203125 43.703125 52.203125 31.203125 \nz\n\" id=\"DejaVuSans-97\"/>\n     <path d=\"M 9.421875 75.984375 \nL 18.40625 75.984375 \nL 18.40625 0 \nL 9.421875 0 \nz\n\" id=\"DejaVuSans-108\"/>\n    </defs>\n    <g transform=\"translate(70.53125 16.318125)scale(0.12 -0.12)\">\n     <use xlink:href=\"#DejaVuSans-79\"/>\n     <use x=\"78.710938\" xlink:href=\"#DejaVuSans-114\"/>\n     <use x=\"119.824219\" xlink:href=\"#DejaVuSans-105\"/>\n     <use x=\"147.607422\" xlink:href=\"#DejaVuSans-103\"/>\n     <use x=\"211.083984\" xlink:href=\"#DejaVuSans-105\"/>\n     <use x=\"238.867188\" xlink:href=\"#DejaVuSans-110\"/>\n     <use x=\"302.246094\" xlink:href=\"#DejaVuSans-97\"/>\n     <use x=\"363.525391\" xlink:href=\"#DejaVuSans-108\"/>\n    </g>\n   </g>\n  </g>\n </g>\n <defs>\n  <clipPath id=\"p10e134f269\">\n   <rect height=\"217.44\" width=\"108.72\" x=\"39.65\" y=\"22.318125\"/>\n  </clipPath>\n </defs>\n</svg>\n",
      "image/png": "[encoded data removed]"
     },
     "metadata": {
      "needs_background": "light"
     }
    }
   ]
  },
  {
   "source": [
    "## Binarisierung\n",
    "https://www.geeksforgeeks.org/python-thresholding-techniques-using-opencv-set-3-otsu-thresholding/"
   ],
   "cell_type": "markdown",
   "metadata": {}
  },
  {
   "cell_type": "code",
   "execution_count": 4,
   "metadata": {},
   "outputs": [
    {
     "output_type": "execute_result",
     "data": {
      "text/plain": [
       "Text(0.5, 1.0, 'Gray')"
      ]
     },
     "metadata": {},
     "execution_count": 4
    },
    {
     "output_type": "display_data",
     "data": {
      "text/plain": "<Figure size 432x288 with 1 Axes>",
      "image/svg+xml": "<?xml version=\"1.0\" encoding=\"utf-8\" standalone=\"no\"?>\n<!DOCTYPE svg PUBLIC \"-//W3C//DTD SVG 1.1//EN\"\n  \"http://www.w3.org/Graphics/SVG/1.1/DTD/svg11.dtd\">\n<!-- Created with matplotlib (https://matplotlib.org/) -->\n<svg height=\"263.63625pt\" version=\"1.1\" viewBox=\"0 0 155.57 263.63625\" width=\"155.57pt\" xmlns=\"http://www.w3.org/2000/svg\" xmlns:xlink=\"http://www.w3.org/1999/xlink\">\n <defs>\n  <style type=\"text/css\">\n*{stroke-linecap:butt;stroke-linejoin:round;}\n  </style>\n </defs>\n <g id=\"figure_1\">\n  <g id=\"patch_1\">\n   <path d=\"M 0 263.63625 \nL 155.57 263.63625 \nL 155.57 0 \nL 0 0 \nz\n\" style=\"fill:none;\"/>\n  </g>\n  <g id=\"axes_1\">\n   <g id=\"patch_2\">\n    <path d=\"M 39.65 239.758125 \nL 148.37 239.758125 \nL 148.37 22.318125 \nL 39.65 22.318125 \nz\n\" style=\"fill:#ffffff;\"/>\n   </g>\n   <g clip-path=\"url(#p7dbd6ae403)\">\n    <image height=\"218\" id=\"imagea43e6462b3\" transform=\"scale(1 -1)translate(0 -218)\" width=\"109\" x=\"39.65\" xlink:href=\"data:image/png;base64,\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\" y=\"-21.758125\"/>\n   </g>\n   <g id=\"matplotlib.axis_1\">\n    <g id=\"xtick_1\">\n     <g id=\"line2d_1\">\n      <defs>\n       <path d=\"M 0 0 \nL 0 3.5 \n\" id=\"m6f6cb8e9a8\" style=\"stroke:#000000;stroke-width:0.8;\"/>\n      </defs>\n      <g>\n       <use style=\"stroke:#000000;stroke-width:0.8;\" x=\"39.673594\" xlink:href=\"#m6f6cb8e9a8\" y=\"239.758125\"/>\n      </g>\n     </g>\n     <g id=\"text_1\">\n      <!-- 0 -->\n      <defs>\n       <path d=\"M 31.78125 66.40625 \nQ 24.171875 66.40625 20.328125 58.90625 \nQ 16.5 51.421875 16.5 36.375 \nQ 16.5 21.390625 20.328125 13.890625 \nQ 24.171875 6.390625 31.78125 6.390625 \nQ 39.453125 6.390625 43.28125 13.890625 \nQ 47.125 21.390625 47.125 36.375 \nQ 47.125 51.421875 43.28125 58.90625 \nQ 39.453125 66.40625 31.78125 66.40625 \nz\nM 31.78125 74.21875 \nQ 44.046875 74.21875 50.515625 64.515625 \nQ 56.984375 54.828125 56.984375 36.375 \nQ 56.984375 17.96875 50.515625 8.265625 \nQ 44.046875 -1.421875 31.78125 -1.421875 \nQ 19.53125 -1.421875 13.0625 8.265625 \nQ 6.59375 17.96875 6.59375 36.375 \nQ 6.59375 54.828125 13.0625 64.515625 \nQ 19.53125 74.21875 31.78125 74.21875 \nz\n\" id=\"DejaVuSans-48\"/>\n      </defs>\n      <g transform=\"translate(36.492344 254.356563)scale(0.1 -0.1)\">\n       <use xlink:href=\"#DejaVuSans-48\"/>\n      </g>\n     </g>\n    </g>\n    <g id=\"xtick_2\">\n     <g id=\"line2d_2\">\n      <g>\n       <use style=\"stroke:#000000;stroke-width:0.8;\" x=\"86.861094\" xlink:href=\"#m6f6cb8e9a8\" y=\"239.758125\"/>\n      </g>\n     </g>\n     <g id=\"text_2\">\n      <!-- 1000 -->\n      <defs>\n       <path d=\"M 12.40625 8.296875 \nL 28.515625 8.296875 \nL 28.515625 63.921875 \nL 10.984375 60.40625 \nL 10.984375 69.390625 \nL 28.421875 72.90625 \nL 38.28125 72.90625 \nL 38.28125 8.296875 \nL 54.390625 8.296875 \nL 54.390625 0 \nL 12.40625 0 \nz\n\" id=\"DejaVuSans-49\"/>\n      </defs>\n      <g transform=\"translate(74.136094 254.356563)scale(0.1 -0.1)\">\n       <use xlink:href=\"#DejaVuSans-49\"/>\n       <use x=\"63.623047\" xlink:href=\"#DejaVuSans-48\"/>\n       <use x=\"127.246094\" xlink:href=\"#DejaVuSans-48\"/>\n       <use x=\"190.869141\" xlink:href=\"#DejaVuSans-48\"/>\n      </g>\n     </g>\n    </g>\n    <g id=\"xtick_3\">\n     <g id=\"line2d_3\">\n      <g>\n       <use style=\"stroke:#000000;stroke-width:0.8;\" x=\"134.048594\" xlink:href=\"#m6f6cb8e9a8\" y=\"239.758125\"/>\n      </g>\n     </g>\n     <g id=\"text_3\">\n      <!-- 2000 -->\n      <defs>\n       <path d=\"M 19.1875 8.296875 \nL 53.609375 8.296875 \nL 53.609375 0 \nL 7.328125 0 \nL 7.328125 8.296875 \nQ 12.9375 14.109375 22.625 23.890625 \nQ 32.328125 33.6875 34.8125 36.53125 \nQ 39.546875 41.84375 41.421875 45.53125 \nQ 43.3125 49.21875 43.3125 52.78125 \nQ 43.3125 58.59375 39.234375 62.25 \nQ 35.15625 65.921875 28.609375 65.921875 \nQ 23.96875 65.921875 18.8125 64.3125 \nQ 13.671875 62.703125 7.8125 59.421875 \nL 7.8125 69.390625 \nQ 13.765625 71.78125 18.9375 73 \nQ 24.125 74.21875 28.421875 74.21875 \nQ 39.75 74.21875 46.484375 68.546875 \nQ 53.21875 62.890625 53.21875 53.421875 \nQ 53.21875 48.921875 51.53125 44.890625 \nQ 49.859375 40.875 45.40625 35.40625 \nQ 44.1875 33.984375 37.640625 27.21875 \nQ 31.109375 20.453125 19.1875 8.296875 \nz\n\" id=\"DejaVuSans-50\"/>\n      </defs>\n      <g transform=\"translate(121.323594 254.356563)scale(0.1 -0.1)\">\n       <use xlink:href=\"#DejaVuSans-50\"/>\n       <use x=\"63.623047\" xlink:href=\"#DejaVuSans-48\"/>\n       <use x=\"127.246094\" xlink:href=\"#DejaVuSans-48\"/>\n       <use x=\"190.869141\" xlink:href=\"#DejaVuSans-48\"/>\n      </g>\n     </g>\n    </g>\n   </g>\n   <g id=\"matplotlib.axis_2\">\n    <g id=\"ytick_1\">\n     <g id=\"line2d_4\">\n      <defs>\n       <path d=\"M 0 0 \nL -3.5 0 \n\" id=\"m7a75ea12a2\" style=\"stroke:#000000;stroke-width:0.8;\"/>\n      </defs>\n      <g>\n       <use style=\"stroke:#000000;stroke-width:0.8;\" x=\"39.65\" xlink:href=\"#m7a75ea12a2\" y=\"22.341719\"/>\n      </g>\n     </g>\n     <g id=\"text_4\">\n      <!-- 0 -->\n      <g transform=\"translate(26.2875 26.140938)scale(0.1 -0.1)\">\n       <use xlink:href=\"#DejaVuSans-48\"/>\n      </g>\n     </g>\n    </g>\n    <g id=\"ytick_2\">\n     <g id=\"line2d_5\">\n      <g>\n       <use style=\"stroke:#000000;stroke-width:0.8;\" x=\"39.65\" xlink:href=\"#m7a75ea12a2\" y=\"69.529219\"/>\n      </g>\n     </g>\n     <g id=\"text_5\">\n      <!-- 1000 -->\n      <g transform=\"translate(7.2 73.328438)scale(0.1 -0.1)\">\n       <use xlink:href=\"#DejaVuSans-49\"/>\n       <use x=\"63.623047\" xlink:href=\"#DejaVuSans-48\"/>\n       <use x=\"127.246094\" xlink:href=\"#DejaVuSans-48\"/>\n       <use x=\"190.869141\" xlink:href=\"#DejaVuSans-48\"/>\n      </g>\n     </g>\n    </g>\n    <g id=\"ytick_3\">\n     <g id=\"line2d_6\">\n      <g>\n       <use style=\"stroke:#000000;stroke-width:0.8;\" x=\"39.65\" xlink:href=\"#m7a75ea12a2\" y=\"116.716719\"/>\n      </g>\n     </g>\n     <g id=\"text_6\">\n      <!-- 2000 -->\n      <g transform=\"translate(7.2 120.515938)scale(0.1 -0.1)\">\n       <use xlink:href=\"#DejaVuSans-50\"/>\n       <use x=\"63.623047\" xlink:href=\"#DejaVuSans-48\"/>\n       <use x=\"127.246094\" xlink:href=\"#DejaVuSans-48\"/>\n       <use x=\"190.869141\" xlink:href=\"#DejaVuSans-48\"/>\n      </g>\n     </g>\n    </g>\n    <g id=\"ytick_4\">\n     <g id=\"line2d_7\">\n      <g>\n       <use style=\"stroke:#000000;stroke-width:0.8;\" x=\"39.65\" xlink:href=\"#m7a75ea12a2\" y=\"163.904219\"/>\n      </g>\n     </g>\n     <g id=\"text_7\">\n      <!-- 3000 -->\n      <defs>\n       <path d=\"M 40.578125 39.3125 \nQ 47.65625 37.796875 51.625 33 \nQ 55.609375 28.21875 55.609375 21.1875 \nQ 55.609375 10.40625 48.1875 4.484375 \nQ 40.765625 -1.421875 27.09375 -1.421875 \nQ 22.515625 -1.421875 17.65625 -0.515625 \nQ 12.796875 0.390625 7.625 2.203125 \nL 7.625 11.71875 \nQ 11.71875 9.328125 16.59375 8.109375 \nQ 21.484375 6.890625 26.8125 6.890625 \nQ 36.078125 6.890625 40.9375 10.546875 \nQ 45.796875 14.203125 45.796875 21.1875 \nQ 45.796875 27.640625 41.28125 31.265625 \nQ 36.765625 34.90625 28.71875 34.90625 \nL 20.21875 34.90625 \nL 20.21875 43.015625 \nL 29.109375 43.015625 \nQ 36.375 43.015625 40.234375 45.921875 \nQ 44.09375 48.828125 44.09375 54.296875 \nQ 44.09375 59.90625 40.109375 62.90625 \nQ 36.140625 65.921875 28.71875 65.921875 \nQ 24.65625 65.921875 20.015625 65.03125 \nQ 15.375 64.15625 9.8125 62.3125 \nL 9.8125 71.09375 \nQ 15.4375 72.65625 20.34375 73.4375 \nQ 25.25 74.21875 29.59375 74.21875 \nQ 40.828125 74.21875 47.359375 69.109375 \nQ 53.90625 64.015625 53.90625 55.328125 \nQ 53.90625 49.265625 50.4375 45.09375 \nQ 46.96875 40.921875 40.578125 39.3125 \nz\n\" id=\"DejaVuSans-51\"/>\n      </defs>\n      <g transform=\"translate(7.2 167.703438)scale(0.1 -0.1)\">\n       <use xlink:href=\"#DejaVuSans-51\"/>\n       <use x=\"63.623047\" xlink:href=\"#DejaVuSans-48\"/>\n       <use x=\"127.246094\" xlink:href=\"#DejaVuSans-48\"/>\n       <use x=\"190.869141\" xlink:href=\"#DejaVuSans-48\"/>\n      </g>\n     </g>\n    </g>\n    <g id=\"ytick_5\">\n     <g id=\"line2d_8\">\n      <g>\n       <use style=\"stroke:#000000;stroke-width:0.8;\" x=\"39.65\" xlink:href=\"#m7a75ea12a2\" y=\"211.091719\"/>\n      </g>\n     </g>\n     <g id=\"text_8\">\n      <!-- 4000 -->\n      <defs>\n       <path d=\"M 37.796875 64.3125 \nL 12.890625 25.390625 \nL 37.796875 25.390625 \nz\nM 35.203125 72.90625 \nL 47.609375 72.90625 \nL 47.609375 25.390625 \nL 58.015625 25.390625 \nL 58.015625 17.1875 \nL 47.609375 17.1875 \nL 47.609375 0 \nL 37.796875 0 \nL 37.796875 17.1875 \nL 4.890625 17.1875 \nL 4.890625 26.703125 \nz\n\" id=\"DejaVuSans-52\"/>\n      </defs>\n      <g transform=\"translate(7.2 214.890938)scale(0.1 -0.1)\">\n       <use xlink:href=\"#DejaVuSans-52\"/>\n       <use x=\"63.623047\" xlink:href=\"#DejaVuSans-48\"/>\n       <use x=\"127.246094\" xlink:href=\"#DejaVuSans-48\"/>\n       <use x=\"190.869141\" xlink:href=\"#DejaVuSans-48\"/>\n      </g>\n     </g>\n    </g>\n   </g>\n   <g id=\"patch_3\">\n    <path d=\"M 39.65 239.758125 \nL 39.65 22.318125 \n\" style=\"fill:none;stroke:#000000;stroke-linecap:square;stroke-linejoin:miter;stroke-width:0.8;\"/>\n   </g>\n   <g id=\"patch_4\">\n    <path d=\"M 148.37 239.758125 \nL 148.37 22.318125 \n\" style=\"fill:none;stroke:#000000;stroke-linecap:square;stroke-linejoin:miter;stroke-width:0.8;\"/>\n   </g>\n   <g id=\"patch_5\">\n    <path d=\"M 39.65 239.758125 \nL 148.37 239.758125 \n\" style=\"fill:none;stroke:#000000;stroke-linecap:square;stroke-linejoin:miter;stroke-width:0.8;\"/>\n   </g>\n   <g id=\"patch_6\">\n    <path d=\"M 39.65 22.318125 \nL 148.37 22.318125 \n\" style=\"fill:none;stroke:#000000;stroke-linecap:square;stroke-linejoin:miter;stroke-width:0.8;\"/>\n   </g>\n   <g id=\"text_9\">\n    <!-- Gray -->\n    <defs>\n     <path d=\"M 59.515625 10.40625 \nL 59.515625 29.984375 \nL 43.40625 29.984375 \nL 43.40625 38.09375 \nL 69.28125 38.09375 \nL 69.28125 6.78125 \nQ 63.578125 2.734375 56.6875 0.65625 \nQ 49.8125 -1.421875 42 -1.421875 \nQ 24.90625 -1.421875 15.25 8.5625 \nQ 5.609375 18.5625 5.609375 36.375 \nQ 5.609375 54.25 15.25 64.234375 \nQ 24.90625 74.21875 42 74.21875 \nQ 49.125 74.21875 55.546875 72.453125 \nQ 61.96875 70.703125 67.390625 67.28125 \nL 67.390625 56.78125 \nQ 61.921875 61.421875 55.765625 63.765625 \nQ 49.609375 66.109375 42.828125 66.109375 \nQ 29.4375 66.109375 22.71875 58.640625 \nQ 16.015625 51.171875 16.015625 36.375 \nQ 16.015625 21.625 22.71875 14.15625 \nQ 29.4375 6.6875 42.828125 6.6875 \nQ 48.046875 6.6875 52.140625 7.59375 \nQ 56.25 8.5 59.515625 10.40625 \nz\n\" id=\"DejaVuSans-71\"/>\n     <path d=\"M 41.109375 46.296875 \nQ 39.59375 47.171875 37.8125 47.578125 \nQ 36.03125 48 33.890625 48 \nQ 26.265625 48 22.1875 43.046875 \nQ 18.109375 38.09375 18.109375 28.8125 \nL 18.109375 0 \nL 9.078125 0 \nL 9.078125 54.6875 \nL 18.109375 54.6875 \nL 18.109375 46.1875 \nQ 20.953125 51.171875 25.484375 53.578125 \nQ 30.03125 56 36.53125 56 \nQ 37.453125 56 38.578125 55.875 \nQ 39.703125 55.765625 41.0625 55.515625 \nz\n\" id=\"DejaVuSans-114\"/>\n     <path d=\"M 34.28125 27.484375 \nQ 23.390625 27.484375 19.1875 25 \nQ 14.984375 22.515625 14.984375 16.5 \nQ 14.984375 11.71875 18.140625 8.90625 \nQ 21.296875 6.109375 26.703125 6.109375 \nQ 34.1875 6.109375 38.703125 11.40625 \nQ 43.21875 16.703125 43.21875 25.484375 \nL 43.21875 27.484375 \nz\nM 52.203125 31.203125 \nL 52.203125 0 \nL 43.21875 0 \nL 43.21875 8.296875 \nQ 40.140625 3.328125 35.546875 0.953125 \nQ 30.953125 -1.421875 24.3125 -1.421875 \nQ 15.921875 -1.421875 10.953125 3.296875 \nQ 6 8.015625 6 15.921875 \nQ 6 25.140625 12.171875 29.828125 \nQ 18.359375 34.515625 30.609375 34.515625 \nL 43.21875 34.515625 \nL 43.21875 35.40625 \nQ 43.21875 41.609375 39.140625 45 \nQ 35.0625 48.390625 27.6875 48.390625 \nQ 23 48.390625 18.546875 47.265625 \nQ 14.109375 46.140625 10.015625 43.890625 \nL 10.015625 52.203125 \nQ 14.9375 54.109375 19.578125 55.046875 \nQ 24.21875 56 28.609375 56 \nQ 40.484375 56 46.34375 49.84375 \nQ 52.203125 43.703125 52.203125 31.203125 \nz\n\" id=\"DejaVuSans-97\"/>\n     <path d=\"M 32.171875 -5.078125 \nQ 28.375 -14.84375 24.75 -17.8125 \nQ 21.140625 -20.796875 15.09375 -20.796875 \nL 7.90625 -20.796875 \nL 7.90625 -13.28125 \nL 13.1875 -13.28125 \nQ 16.890625 -13.28125 18.9375 -11.515625 \nQ 21 -9.765625 23.484375 -3.21875 \nL 25.09375 0.875 \nL 2.984375 54.6875 \nL 12.5 54.6875 \nL 29.59375 11.921875 \nL 46.6875 54.6875 \nL 56.203125 54.6875 \nz\n\" id=\"DejaVuSans-121\"/>\n    </defs>\n    <g transform=\"translate(79.66625 16.318125)scale(0.12 -0.12)\">\n     <use xlink:href=\"#DejaVuSans-71\"/>\n     <use x=\"77.490234\" xlink:href=\"#DejaVuSans-114\"/>\n     <use x=\"118.603516\" xlink:href=\"#DejaVuSans-97\"/>\n     <use x=\"179.882812\" xlink:href=\"#DejaVuSans-121\"/>\n    </g>\n   </g>\n  </g>\n </g>\n <defs>\n  <clipPath id=\"p7dbd6ae403\">\n   <rect height=\"217.44\" width=\"108.72\" x=\"39.65\" y=\"22.318125\"/>\n  </clipPath>\n </defs>\n</svg>\n",
      "image/png": "[encoded data removed]"
     },
     "metadata": {
      "needs_background": "light"
     }
    }
   ],
   "source": [
    "# thresh1 = cv2.adaptiveThreshold(blurred,255,125,cv2.THRESH_BINARY,11,5)\n",
    "gray = cv2.cvtColor(image, cv2.COLOR_BGR2GRAY) \n",
    "plt.imshow(gray, cmap=\"gray\", vmin=0, vmax=255)\n",
    "plt.title(\"Gray\")"
   ]
  },
  {
   "cell_type": "code",
   "execution_count": 5,
   "metadata": {},
   "outputs": [
    {
     "output_type": "execute_result",
     "data": {
      "text/plain": [
       "<matplotlib.image.AxesImage at 0x7fa6422533d0>"
      ]
     },
     "metadata": {},
     "execution_count": 5
    },
    {
     "output_type": "display_data",
     "data": {
      "text/plain": "<Figure size 432x288 with 1 Axes>",
      "image/svg+xml": "<?xml version=\"1.0\" encoding=\"utf-8\" standalone=\"no\"?>\n<!DOCTYPE svg PUBLIC \"-//W3C//DTD SVG 1.1//EN\"\n  \"http://www.w3.org/Graphics/SVG/1.1/DTD/svg11.dtd\">\n<!-- Created with matplotlib (https://matplotlib.org/) -->\n<svg height=\"252.29375pt\" version=\"1.1\" viewBox=\"0 0 155.57 252.29375\" width=\"155.57pt\" xmlns=\"http://www.w3.org/2000/svg\" xmlns:xlink=\"http://www.w3.org/1999/xlink\">\n <defs>\n  <style type=\"text/css\">\n*{stroke-linecap:butt;stroke-linejoin:round;}\n  </style>\n </defs>\n <g id=\"figure_1\">\n  <g id=\"patch_1\">\n   <path d=\"M 0 252.29375 \nL 155.57 252.29375 \nL 155.57 0 \nL 0 0 \nz\n\" style=\"fill:none;\"/>\n  </g>\n  <g id=\"axes_1\">\n   <g id=\"patch_2\">\n    <path d=\"M 39.65 228.415625 \nL 148.37 228.415625 \nL 148.37 10.975625 \nL 39.65 10.975625 \nz\n\" style=\"fill:#ffffff;\"/>\n   </g>\n   <g clip-path=\"url(#pb55d95fb6e)\">\n    <image height=\"218\" id=\"image28178d9698\" transform=\"scale(1 -1)translate(0 -218)\" width=\"109\" x=\"39.65\" xlink:href=\"data:image/png;base64,\niVBORw0KGgoAAAANSUhEUgAAAG0AAADaCAYAAACsN8ybAAAABHNCSVQICAgIfAhkiAAABYRJREFUeJztnety7CgMBvHWef9Xnv3FKZYFbAxC+ma6q1JJJo5vjcTFNr5SSp8EUvzjvQMwD9IEQZogSBMEaYIgTRCkCYI0QZAmCNIEQZogSBMEaYIgTRCkCYI0QZAmCNIEQZogSBMEaYIgTRCkCYI0QZAmCNIEQZogSBMEaYIgTRCkCYI0QZAmCNIEQZogSBMEaYIgTRCkCYI0QZAmCNIEQZogSBMEaYIgTRCkCYI0QZAmCNIEQZogSBMEaYIgTRCkCYI0QZAmCNIEQZogSBMEaRN8PjHepYS0h0QRllJgaZFOUua6rr8/e+5fWGnlCYpClIIUVlpkvOUdl/bkgPMy3ifnCeW+5i9r/listNzxnOZmDuZJavx8Pv9Z96l0Wm+r3u6J/TCJtHrH74TNlNB62fok1lG6u+S3pNTbqPdvN2aRdl3XIxmtv7cOOq+vtdzTz+v9U2VLpLVO8tMT04rK67qmU1BvW3Xh2S2sLFSn2Joee6lqtHzv99H/zqScuu5b5ck6rAVuk/amDqmjKX/11lEu09v+aN/yOlbl9Y51Z+EYYVKn3dFrXY5O6I4TUa6/tb06S4wiZpQlRp/t4Eob3ii/a+dGJXVHhPTWl39ufX9KKw1bpclQIyKjtLjKXdTkv5ffV1O9FS7pcRaLBsRdOitPfLQugkuk1aW6/Lxs8ludqF5Dpq7Tog6jLddpbw4syiWOFnW91vq7N8cjrUw5rXQ06khbnrDe0FsESTUukdajVbqjRWUEicel9SSMOsy7m/ureItzuZ52l3rqZSIJS+n/w22n98+t9dg62N5n3iW7ZGaw2gqXhkhPxF1DJAL1uKPH/rmkx7trY9FEtTg1ONzCJT32Smm0umtETuU/EWklreb9qL8ULQK9Gkmh+mlqeBWiUKP8LSJGWKash08WXiJtA6OLqRaEjzQFTgpLCWlbeHvh9PX2EulxK0SaIFZ3NpcgTRCkGWA9UoI0YyzSJNKMsLwKgDRBkGaI1fAW0hYZpT+rcVM61wfYLY5IM4aGiBCWtyMgzYjWY8i7BCLNiFak7UqVEo86KWLZQEOaIT/xJOg3QUNEEMtnEZBmgPWt7YyIHIAREUCaIkgzhrFHISyb/HSujbC8uYdIEwRphlh1h5BmiNW9/UudazrW91jUazREDOD5NFEsnw4l0ozgXn4xrJ/BJtIMsJ7LmNajEaRHQWiIiEGTX4STk1YTaZs4OZUgkbaZE40zpAmCNEGQtsBoPmMmfwnI3WvD6FwHZCTGugVJk/8lp+d4LCHSXtJ659opkLaA14A50hbxmDEcaZPUrwbzmJuf62kv8J69nEibwPNVJSU0+SfxjrKUiDRJiLQJRq++PAmRNkE5bZJnmkTaJBHe74a0SbyFpUSd9hfLCch2Q6R1KIenvPtlNUhL7fFDz1H8O5akRTuYN/SmRIp8bK+lRUsZb6gHf1s/R+S1tIhven9C/a6z+m5ghWP6yQnNWm/4jR5dJT9xaaYlRE1UyXKklUSWWKZzVVmZ5Sa/Qmc0k8cOR/crKrAl0lol2PMERC88q2wZxnp6kixbnN9Wb40wGxEpm9bluN7K5Y1WX2oU3d8oLKVDw1hliV/pE/WW771nOurY4SpbW4+ZVlpqNVjqujD/352c0XZ+AZNI6z0CVL8wp5XaegO1pdhvi5xZTCJtlqd10a9GVo2rNCS8w+V62reMTHjhIu2JrF+vt0aEqNNgDm43EARpgiBNEKQJgjRBkCYI0gRBmiBIEwRpgiBNEKQJgjRBkCYI0gRBmiBIEwRpgiBNEKQJgjRBkCYI0gRBmiBIEwRpgiBNEKQJgjRBkCYI0gRBmiBIEwRpgiBNEKQJgjRBkCYI0gRBmiBIEwRpgiBNEKQJgjRBkCbIv1Go+LMz036QAAAAAElFTkSuQmCC\" y=\"-10.415625\"/>\n   </g>\n   <g id=\"matplotlib.axis_1\">\n    <g id=\"xtick_1\">\n     <g id=\"line2d_1\">\n      <defs>\n       <path d=\"M 0 0 \nL 0 3.5 \n\" id=\"m94eac975f7\" style=\"stroke:#000000;stroke-width:0.8;\"/>\n      </defs>\n      <g>\n       <use style=\"stroke:#000000;stroke-width:0.8;\" x=\"39.673594\" xlink:href=\"#m94eac975f7\" y=\"228.415625\"/>\n      </g>\n     </g>\n     <g id=\"text_1\">\n      <!-- 0 -->\n      <defs>\n       <path d=\"M 31.78125 66.40625 \nQ 24.171875 66.40625 20.328125 58.90625 \nQ 16.5 51.421875 16.5 36.375 \nQ 16.5 21.390625 20.328125 13.890625 \nQ 24.171875 6.390625 31.78125 6.390625 \nQ 39.453125 6.390625 43.28125 13.890625 \nQ 47.125 21.390625 47.125 36.375 \nQ 47.125 51.421875 43.28125 58.90625 \nQ 39.453125 66.40625 31.78125 66.40625 \nz\nM 31.78125 74.21875 \nQ 44.046875 74.21875 50.515625 64.515625 \nQ 56.984375 54.828125 56.984375 36.375 \nQ 56.984375 17.96875 50.515625 8.265625 \nQ 44.046875 -1.421875 31.78125 -1.421875 \nQ 19.53125 -1.421875 13.0625 8.265625 \nQ 6.59375 17.96875 6.59375 36.375 \nQ 6.59375 54.828125 13.0625 64.515625 \nQ 19.53125 74.21875 31.78125 74.21875 \nz\n\" id=\"DejaVuSans-48\"/>\n      </defs>\n      <g transform=\"translate(36.492344 243.014062)scale(0.1 -0.1)\">\n       <use xlink:href=\"#DejaVuSans-48\"/>\n      </g>\n     </g>\n    </g>\n    <g id=\"xtick_2\">\n     <g id=\"line2d_2\">\n      <g>\n       <use style=\"stroke:#000000;stroke-width:0.8;\" x=\"86.861094\" xlink:href=\"#m94eac975f7\" y=\"228.415625\"/>\n      </g>\n     </g>\n     <g id=\"text_2\">\n      <!-- 1000 -->\n      <defs>\n       <path d=\"M 12.40625 8.296875 \nL 28.515625 8.296875 \nL 28.515625 63.921875 \nL 10.984375 60.40625 \nL 10.984375 69.390625 \nL 28.421875 72.90625 \nL 38.28125 72.90625 \nL 38.28125 8.296875 \nL 54.390625 8.296875 \nL 54.390625 0 \nL 12.40625 0 \nz\n\" id=\"DejaVuSans-49\"/>\n      </defs>\n      <g transform=\"translate(74.136094 243.014062)scale(0.1 -0.1)\">\n       <use xlink:href=\"#DejaVuSans-49\"/>\n       <use x=\"63.623047\" xlink:href=\"#DejaVuSans-48\"/>\n       <use x=\"127.246094\" xlink:href=\"#DejaVuSans-48\"/>\n       <use x=\"190.869141\" xlink:href=\"#DejaVuSans-48\"/>\n      </g>\n     </g>\n    </g>\n    <g id=\"xtick_3\">\n     <g id=\"line2d_3\">\n      <g>\n       <use style=\"stroke:#000000;stroke-width:0.8;\" x=\"134.048594\" xlink:href=\"#m94eac975f7\" y=\"228.415625\"/>\n      </g>\n     </g>\n     <g id=\"text_3\">\n      <!-- 2000 -->\n      <defs>\n       <path d=\"M 19.1875 8.296875 \nL 53.609375 8.296875 \nL 53.609375 0 \nL 7.328125 0 \nL 7.328125 8.296875 \nQ 12.9375 14.109375 22.625 23.890625 \nQ 32.328125 33.6875 34.8125 36.53125 \nQ 39.546875 41.84375 41.421875 45.53125 \nQ 43.3125 49.21875 43.3125 52.78125 \nQ 43.3125 58.59375 39.234375 62.25 \nQ 35.15625 65.921875 28.609375 65.921875 \nQ 23.96875 65.921875 18.8125 64.3125 \nQ 13.671875 62.703125 7.8125 59.421875 \nL 7.8125 69.390625 \nQ 13.765625 71.78125 18.9375 73 \nQ 24.125 74.21875 28.421875 74.21875 \nQ 39.75 74.21875 46.484375 68.546875 \nQ 53.21875 62.890625 53.21875 53.421875 \nQ 53.21875 48.921875 51.53125 44.890625 \nQ 49.859375 40.875 45.40625 35.40625 \nQ 44.1875 33.984375 37.640625 27.21875 \nQ 31.109375 20.453125 19.1875 8.296875 \nz\n\" id=\"DejaVuSans-50\"/>\n      </defs>\n      <g transform=\"translate(121.323594 243.014062)scale(0.1 -0.1)\">\n       <use xlink:href=\"#DejaVuSans-50\"/>\n       <use x=\"63.623047\" xlink:href=\"#DejaVuSans-48\"/>\n       <use x=\"127.246094\" xlink:href=\"#DejaVuSans-48\"/>\n       <use x=\"190.869141\" xlink:href=\"#DejaVuSans-48\"/>\n      </g>\n     </g>\n    </g>\n   </g>\n   <g id=\"matplotlib.axis_2\">\n    <g id=\"ytick_1\">\n     <g id=\"line2d_4\">\n      <defs>\n       <path d=\"M 0 0 \nL -3.5 0 \n\" id=\"ma397f09b52\" style=\"stroke:#000000;stroke-width:0.8;\"/>\n      </defs>\n      <g>\n       <use style=\"stroke:#000000;stroke-width:0.8;\" x=\"39.65\" xlink:href=\"#ma397f09b52\" y=\"10.999219\"/>\n      </g>\n     </g>\n     <g id=\"text_4\">\n      <!-- 0 -->\n      <g transform=\"translate(26.2875 14.798438)scale(0.1 -0.1)\">\n       <use xlink:href=\"#DejaVuSans-48\"/>\n      </g>\n     </g>\n    </g>\n    <g id=\"ytick_2\">\n     <g id=\"line2d_5\">\n      <g>\n       <use style=\"stroke:#000000;stroke-width:0.8;\" x=\"39.65\" xlink:href=\"#ma397f09b52\" y=\"58.186719\"/>\n      </g>\n     </g>\n     <g id=\"text_5\">\n      <!-- 1000 -->\n      <g transform=\"translate(7.2 61.985938)scale(0.1 -0.1)\">\n       <use xlink:href=\"#DejaVuSans-49\"/>\n       <use x=\"63.623047\" xlink:href=\"#DejaVuSans-48\"/>\n       <use x=\"127.246094\" xlink:href=\"#DejaVuSans-48\"/>\n       <use x=\"190.869141\" xlink:href=\"#DejaVuSans-48\"/>\n      </g>\n     </g>\n    </g>\n    <g id=\"ytick_3\">\n     <g id=\"line2d_6\">\n      <g>\n       <use style=\"stroke:#000000;stroke-width:0.8;\" x=\"39.65\" xlink:href=\"#ma397f09b52\" y=\"105.374219\"/>\n      </g>\n     </g>\n     <g id=\"text_6\">\n      <!-- 2000 -->\n      <g transform=\"translate(7.2 109.173438)scale(0.1 -0.1)\">\n       <use xlink:href=\"#DejaVuSans-50\"/>\n       <use x=\"63.623047\" xlink:href=\"#DejaVuSans-48\"/>\n       <use x=\"127.246094\" xlink:href=\"#DejaVuSans-48\"/>\n       <use x=\"190.869141\" xlink:href=\"#DejaVuSans-48\"/>\n      </g>\n     </g>\n    </g>\n    <g id=\"ytick_4\">\n     <g id=\"line2d_7\">\n      <g>\n       <use style=\"stroke:#000000;stroke-width:0.8;\" x=\"39.65\" xlink:href=\"#ma397f09b52\" y=\"152.561719\"/>\n      </g>\n     </g>\n     <g id=\"text_7\">\n      <!-- 3000 -->\n      <defs>\n       <path d=\"M 40.578125 39.3125 \nQ 47.65625 37.796875 51.625 33 \nQ 55.609375 28.21875 55.609375 21.1875 \nQ 55.609375 10.40625 48.1875 4.484375 \nQ 40.765625 -1.421875 27.09375 -1.421875 \nQ 22.515625 -1.421875 17.65625 -0.515625 \nQ 12.796875 0.390625 7.625 2.203125 \nL 7.625 11.71875 \nQ 11.71875 9.328125 16.59375 8.109375 \nQ 21.484375 6.890625 26.8125 6.890625 \nQ 36.078125 6.890625 40.9375 10.546875 \nQ 45.796875 14.203125 45.796875 21.1875 \nQ 45.796875 27.640625 41.28125 31.265625 \nQ 36.765625 34.90625 28.71875 34.90625 \nL 20.21875 34.90625 \nL 20.21875 43.015625 \nL 29.109375 43.015625 \nQ 36.375 43.015625 40.234375 45.921875 \nQ 44.09375 48.828125 44.09375 54.296875 \nQ 44.09375 59.90625 40.109375 62.90625 \nQ 36.140625 65.921875 28.71875 65.921875 \nQ 24.65625 65.921875 20.015625 65.03125 \nQ 15.375 64.15625 9.8125 62.3125 \nL 9.8125 71.09375 \nQ 15.4375 72.65625 20.34375 73.4375 \nQ 25.25 74.21875 29.59375 74.21875 \nQ 40.828125 74.21875 47.359375 69.109375 \nQ 53.90625 64.015625 53.90625 55.328125 \nQ 53.90625 49.265625 50.4375 45.09375 \nQ 46.96875 40.921875 40.578125 39.3125 \nz\n\" id=\"DejaVuSans-51\"/>\n      </defs>\n      <g transform=\"translate(7.2 156.360938)scale(0.1 -0.1)\">\n       <use xlink:href=\"#DejaVuSans-51\"/>\n       <use x=\"63.623047\" xlink:href=\"#DejaVuSans-48\"/>\n       <use x=\"127.246094\" xlink:href=\"#DejaVuSans-48\"/>\n       <use x=\"190.869141\" xlink:href=\"#DejaVuSans-48\"/>\n      </g>\n     </g>\n    </g>\n    <g id=\"ytick_5\">\n     <g id=\"line2d_8\">\n      <g>\n       <use style=\"stroke:#000000;stroke-width:0.8;\" x=\"39.65\" xlink:href=\"#ma397f09b52\" y=\"199.749219\"/>\n      </g>\n     </g>\n     <g id=\"text_8\">\n      <!-- 4000 -->\n      <defs>\n       <path d=\"M 37.796875 64.3125 \nL 12.890625 25.390625 \nL 37.796875 25.390625 \nz\nM 35.203125 72.90625 \nL 47.609375 72.90625 \nL 47.609375 25.390625 \nL 58.015625 25.390625 \nL 58.015625 17.1875 \nL 47.609375 17.1875 \nL 47.609375 0 \nL 37.796875 0 \nL 37.796875 17.1875 \nL 4.890625 17.1875 \nL 4.890625 26.703125 \nz\n\" id=\"DejaVuSans-52\"/>\n      </defs>\n      <g transform=\"translate(7.2 203.548438)scale(0.1 -0.1)\">\n       <use xlink:href=\"#DejaVuSans-52\"/>\n       <use x=\"63.623047\" xlink:href=\"#DejaVuSans-48\"/>\n       <use x=\"127.246094\" xlink:href=\"#DejaVuSans-48\"/>\n       <use x=\"190.869141\" xlink:href=\"#DejaVuSans-48\"/>\n      </g>\n     </g>\n    </g>\n   </g>\n   <g id=\"patch_3\">\n    <path d=\"M 39.65 228.415625 \nL 39.65 10.975625 \n\" style=\"fill:none;stroke:#000000;stroke-linecap:square;stroke-linejoin:miter;stroke-width:0.8;\"/>\n   </g>\n   <g id=\"patch_4\">\n    <path d=\"M 148.37 228.415625 \nL 148.37 10.975625 \n\" style=\"fill:none;stroke:#000000;stroke-linecap:square;stroke-linejoin:miter;stroke-width:0.8;\"/>\n   </g>\n   <g id=\"patch_5\">\n    <path d=\"M 39.65 228.415625 \nL 148.37 228.415625 \n\" style=\"fill:none;stroke:#000000;stroke-linecap:square;stroke-linejoin:miter;stroke-width:0.8;\"/>\n   </g>\n   <g id=\"patch_6\">\n    <path d=\"M 39.65 10.975625 \nL 148.37 10.975625 \n\" style=\"fill:none;stroke:#000000;stroke-linecap:square;stroke-linejoin:miter;stroke-width:0.8;\"/>\n   </g>\n  </g>\n </g>\n <defs>\n  <clipPath id=\"pb55d95fb6e\">\n   <rect height=\"217.44\" width=\"108.72\" x=\"39.65\" y=\"10.975625\"/>\n  </clipPath>\n </defs>\n</svg>\n",
      "image/png": "[encoded data removed]"
     },
     "metadata": {
      "needs_background": "light"
     }
    }
   ],
   "source": [
    "th,binImg  = cv2.threshold(gray, 128, 255, cv2.THRESH_BINARY)\n",
    "plt.imshow(binImg,cmap=\"gray\")"
   ]
  },
  {
   "cell_type": "code",
   "execution_count": 6,
   "metadata": {},
   "outputs": [
    {
     "output_type": "execute_result",
     "data": {
      "text/plain": [
       "Text(0.5, 1.0, 'dilate')"
      ]
     },
     "metadata": {},
     "execution_count": 6
    },
    {
     "output_type": "display_data",
     "data": {
      "text/plain": "<Figure size 432x288 with 1 Axes>",
      "image/svg+xml": "<?xml version=\"1.0\" encoding=\"utf-8\" standalone=\"no\"?>\n<!DOCTYPE svg PUBLIC \"-//W3C//DTD SVG 1.1//EN\"\n  \"http://www.w3.org/Graphics/SVG/1.1/DTD/svg11.dtd\">\n<!-- Created with matplotlib (https://matplotlib.org/) -->\n<svg height=\"263.63625pt\" version=\"1.1\" viewBox=\"0 0 155.57 263.63625\" width=\"155.57pt\" xmlns=\"http://www.w3.org/2000/svg\" xmlns:xlink=\"http://www.w3.org/1999/xlink\">\n <defs>\n  <style type=\"text/css\">\n*{stroke-linecap:butt;stroke-linejoin:round;}\n  </style>\n </defs>\n <g id=\"figure_1\">\n  <g id=\"patch_1\">\n   <path d=\"M 0 263.63625 \nL 155.57 263.63625 \nL 155.57 0 \nL 0 0 \nz\n\" style=\"fill:none;\"/>\n  </g>\n  <g id=\"axes_1\">\n   <g id=\"patch_2\">\n    <path d=\"M 39.65 239.758125 \nL 148.37 239.758125 \nL 148.37 22.318125 \nL 39.65 22.318125 \nz\n\" style=\"fill:#ffffff;\"/>\n   </g>\n   <g clip-path=\"url(#p411835bcb2)\">\n    <image height=\"218\" id=\"image97aa9531a5\" transform=\"scale(1 -1)translate(0 -218)\" width=\"109\" x=\"39.65\" xlink:href=\"data:image/png;base64,\niVBORw0KGgoAAAANSUhEUgAAAG0AAADaCAYAAACsN8ybAAAABHNCSVQICAgIfAhkiAAABYRJREFUeJztnety7CgMBvHWef9Xnv3FKZYFbAxC+ma6q1JJJo5vjcTFNr5SSp8EUvzjvQMwD9IEQZogSBMEaYIgTRCkCYI0QZAmCNIEQZogSBMEaYIgTRCkCYI0QZAmCNIEQZogSBMEaYIgTRCkCYI0QZAmCNIEQZogSBMEaYIgTRCkCYI0QZAmCNIEQZogSBMEaYIgTRCkCYI0QZAmCNIEQZogSBMEaYIgTRCkCYI0QZAmCNIEQZogSBMEaYIgTRCkCYI0QZAmCNIEQZogSBMEaRN8PjHepYS0h0QRllJgaZFOUua6rr8/e+5fWGnlCYpClIIUVlpkvOUdl/bkgPMy3ifnCeW+5i9r/listNzxnOZmDuZJavx8Pv9Z96l0Wm+r3u6J/TCJtHrH74TNlNB62fok1lG6u+S3pNTbqPdvN2aRdl3XIxmtv7cOOq+vtdzTz+v9U2VLpLVO8tMT04rK67qmU1BvW3Xh2S2sLFSn2Joee6lqtHzv99H/zqScuu5b5ck6rAVuk/amDqmjKX/11lEu09v+aN/yOlbl9Y51Z+EYYVKn3dFrXY5O6I4TUa6/tb06S4wiZpQlRp/t4Eob3ii/a+dGJXVHhPTWl39ufX9KKw1bpclQIyKjtLjKXdTkv5ffV1O9FS7pcRaLBsRdOitPfLQugkuk1aW6/Lxs8ludqF5Dpq7Tog6jLddpbw4syiWOFnW91vq7N8cjrUw5rXQ06khbnrDe0FsESTUukdajVbqjRWUEicel9SSMOsy7m/ureItzuZ52l3rqZSIJS+n/w22n98+t9dg62N5n3iW7ZGaw2gqXhkhPxF1DJAL1uKPH/rmkx7trY9FEtTg1ONzCJT32Smm0umtETuU/EWklreb9qL8ULQK9Gkmh+mlqeBWiUKP8LSJGWKash08WXiJtA6OLqRaEjzQFTgpLCWlbeHvh9PX2EulxK0SaIFZ3NpcgTRCkGWA9UoI0YyzSJNKMsLwKgDRBkGaI1fAW0hYZpT+rcVM61wfYLY5IM4aGiBCWtyMgzYjWY8i7BCLNiFak7UqVEo86KWLZQEOaIT/xJOg3QUNEEMtnEZBmgPWt7YyIHIAREUCaIkgzhrFHISyb/HSujbC8uYdIEwRphlh1h5BmiNW9/UudazrW91jUazREDOD5NFEsnw4l0ozgXn4xrJ/BJtIMsJ7LmNajEaRHQWiIiEGTX4STk1YTaZs4OZUgkbaZE40zpAmCNEGQtsBoPmMmfwnI3WvD6FwHZCTGugVJk/8lp+d4LCHSXtJ659opkLaA14A50hbxmDEcaZPUrwbzmJuf62kv8J69nEibwPNVJSU0+SfxjrKUiDRJiLQJRq++PAmRNkE5bZJnmkTaJBHe74a0SbyFpUSd9hfLCch2Q6R1KIenvPtlNUhL7fFDz1H8O5akRTuYN/SmRIp8bK+lRUsZb6gHf1s/R+S1tIhven9C/a6z+m5ghWP6yQnNWm/4jR5dJT9xaaYlRE1UyXKklUSWWKZzVVmZ5Sa/Qmc0k8cOR/crKrAl0lol2PMERC88q2wZxnp6kixbnN9Wb40wGxEpm9bluN7K5Y1WX2oU3d8oLKVDw1hliV/pE/WW771nOurY4SpbW4+ZVlpqNVjqujD/352c0XZ+AZNI6z0CVL8wp5XaegO1pdhvi5xZTCJtlqd10a9GVo2rNCS8w+V62reMTHjhIu2JrF+vt0aEqNNgDm43EARpgiBNEKQJgjRBkCYI0gRBmiBIEwRpgiBNEKQJgjRBkCYI0gRBmiBIEwRpgiBNEKQJgjRBkCYI0gRBmiBIEwRpgiBNEKQJgjRBkCYI0gRBmiBIEwRpgiBNEKQJgjRBkCYI0gRBmiBIEwRpgiBNEKQJgjRBkCbIv1Go+LMz036QAAAAAElFTkSuQmCC\" y=\"-21.758125\"/>\n   </g>\n   <g id=\"matplotlib.axis_1\">\n    <g id=\"xtick_1\">\n     <g id=\"line2d_1\">\n      <defs>\n       <path d=\"M 0 0 \nL 0 3.5 \n\" id=\"m95089f48fb\" style=\"stroke:#000000;stroke-width:0.8;\"/>\n      </defs>\n      <g>\n       <use style=\"stroke:#000000;stroke-width:0.8;\" x=\"39.673594\" xlink:href=\"#m95089f48fb\" y=\"239.758125\"/>\n      </g>\n     </g>\n     <g id=\"text_1\">\n      <!-- 0 -->\n      <defs>\n       <path d=\"M 31.78125 66.40625 \nQ 24.171875 66.40625 20.328125 58.90625 \nQ 16.5 51.421875 16.5 36.375 \nQ 16.5 21.390625 20.328125 13.890625 \nQ 24.171875 6.390625 31.78125 6.390625 \nQ 39.453125 6.390625 43.28125 13.890625 \nQ 47.125 21.390625 47.125 36.375 \nQ 47.125 51.421875 43.28125 58.90625 \nQ 39.453125 66.40625 31.78125 66.40625 \nz\nM 31.78125 74.21875 \nQ 44.046875 74.21875 50.515625 64.515625 \nQ 56.984375 54.828125 56.984375 36.375 \nQ 56.984375 17.96875 50.515625 8.265625 \nQ 44.046875 -1.421875 31.78125 -1.421875 \nQ 19.53125 -1.421875 13.0625 8.265625 \nQ 6.59375 17.96875 6.59375 36.375 \nQ 6.59375 54.828125 13.0625 64.515625 \nQ 19.53125 74.21875 31.78125 74.21875 \nz\n\" id=\"DejaVuSans-48\"/>\n      </defs>\n      <g transform=\"translate(36.492344 254.356563)scale(0.1 -0.1)\">\n       <use xlink:href=\"#DejaVuSans-48\"/>\n      </g>\n     </g>\n    </g>\n    <g id=\"xtick_2\">\n     <g id=\"line2d_2\">\n      <g>\n       <use style=\"stroke:#000000;stroke-width:0.8;\" x=\"86.861094\" xlink:href=\"#m95089f48fb\" y=\"239.758125\"/>\n      </g>\n     </g>\n     <g id=\"text_2\">\n      <!-- 1000 -->\n      <defs>\n       <path d=\"M 12.40625 8.296875 \nL 28.515625 8.296875 \nL 28.515625 63.921875 \nL 10.984375 60.40625 \nL 10.984375 69.390625 \nL 28.421875 72.90625 \nL 38.28125 72.90625 \nL 38.28125 8.296875 \nL 54.390625 8.296875 \nL 54.390625 0 \nL 12.40625 0 \nz\n\" id=\"DejaVuSans-49\"/>\n      </defs>\n      <g transform=\"translate(74.136094 254.356563)scale(0.1 -0.1)\">\n       <use xlink:href=\"#DejaVuSans-49\"/>\n       <use x=\"63.623047\" xlink:href=\"#DejaVuSans-48\"/>\n       <use x=\"127.246094\" xlink:href=\"#DejaVuSans-48\"/>\n       <use x=\"190.869141\" xlink:href=\"#DejaVuSans-48\"/>\n      </g>\n     </g>\n    </g>\n    <g id=\"xtick_3\">\n     <g id=\"line2d_3\">\n      <g>\n       <use style=\"stroke:#000000;stroke-width:0.8;\" x=\"134.048594\" xlink:href=\"#m95089f48fb\" y=\"239.758125\"/>\n      </g>\n     </g>\n     <g id=\"text_3\">\n      <!-- 2000 -->\n      <defs>\n       <path d=\"M 19.1875 8.296875 \nL 53.609375 8.296875 \nL 53.609375 0 \nL 7.328125 0 \nL 7.328125 8.296875 \nQ 12.9375 14.109375 22.625 23.890625 \nQ 32.328125 33.6875 34.8125 36.53125 \nQ 39.546875 41.84375 41.421875 45.53125 \nQ 43.3125 49.21875 43.3125 52.78125 \nQ 43.3125 58.59375 39.234375 62.25 \nQ 35.15625 65.921875 28.609375 65.921875 \nQ 23.96875 65.921875 18.8125 64.3125 \nQ 13.671875 62.703125 7.8125 59.421875 \nL 7.8125 69.390625 \nQ 13.765625 71.78125 18.9375 73 \nQ 24.125 74.21875 28.421875 74.21875 \nQ 39.75 74.21875 46.484375 68.546875 \nQ 53.21875 62.890625 53.21875 53.421875 \nQ 53.21875 48.921875 51.53125 44.890625 \nQ 49.859375 40.875 45.40625 35.40625 \nQ 44.1875 33.984375 37.640625 27.21875 \nQ 31.109375 20.453125 19.1875 8.296875 \nz\n\" id=\"DejaVuSans-50\"/>\n      </defs>\n      <g transform=\"translate(121.323594 254.356563)scale(0.1 -0.1)\">\n       <use xlink:href=\"#DejaVuSans-50\"/>\n       <use x=\"63.623047\" xlink:href=\"#DejaVuSans-48\"/>\n       <use x=\"127.246094\" xlink:href=\"#DejaVuSans-48\"/>\n       <use x=\"190.869141\" xlink:href=\"#DejaVuSans-48\"/>\n      </g>\n     </g>\n    </g>\n   </g>\n   <g id=\"matplotlib.axis_2\">\n    <g id=\"ytick_1\">\n     <g id=\"line2d_4\">\n      <defs>\n       <path d=\"M 0 0 \nL -3.5 0 \n\" id=\"m51007e9fc9\" style=\"stroke:#000000;stroke-width:0.8;\"/>\n      </defs>\n      <g>\n       <use style=\"stroke:#000000;stroke-width:0.8;\" x=\"39.65\" xlink:href=\"#m51007e9fc9\" y=\"22.341719\"/>\n      </g>\n     </g>\n     <g id=\"text_4\">\n      <!-- 0 -->\n      <g transform=\"translate(26.2875 26.140938)scale(0.1 -0.1)\">\n       <use xlink:href=\"#DejaVuSans-48\"/>\n      </g>\n     </g>\n    </g>\n    <g id=\"ytick_2\">\n     <g id=\"line2d_5\">\n      <g>\n       <use style=\"stroke:#000000;stroke-width:0.8;\" x=\"39.65\" xlink:href=\"#m51007e9fc9\" y=\"69.529219\"/>\n      </g>\n     </g>\n     <g id=\"text_5\">\n      <!-- 1000 -->\n      <g transform=\"translate(7.2 73.328438)scale(0.1 -0.1)\">\n       <use xlink:href=\"#DejaVuSans-49\"/>\n       <use x=\"63.623047\" xlink:href=\"#DejaVuSans-48\"/>\n       <use x=\"127.246094\" xlink:href=\"#DejaVuSans-48\"/>\n       <use x=\"190.869141\" xlink:href=\"#DejaVuSans-48\"/>\n      </g>\n     </g>\n    </g>\n    <g id=\"ytick_3\">\n     <g id=\"line2d_6\">\n      <g>\n       <use style=\"stroke:#000000;stroke-width:0.8;\" x=\"39.65\" xlink:href=\"#m51007e9fc9\" y=\"116.716719\"/>\n      </g>\n     </g>\n     <g id=\"text_6\">\n      <!-- 2000 -->\n      <g transform=\"translate(7.2 120.515938)scale(0.1 -0.1)\">\n       <use xlink:href=\"#DejaVuSans-50\"/>\n       <use x=\"63.623047\" xlink:href=\"#DejaVuSans-48\"/>\n       <use x=\"127.246094\" xlink:href=\"#DejaVuSans-48\"/>\n       <use x=\"190.869141\" xlink:href=\"#DejaVuSans-48\"/>\n      </g>\n     </g>\n    </g>\n    <g id=\"ytick_4\">\n     <g id=\"line2d_7\">\n      <g>\n       <use style=\"stroke:#000000;stroke-width:0.8;\" x=\"39.65\" xlink:href=\"#m51007e9fc9\" y=\"163.904219\"/>\n      </g>\n     </g>\n     <g id=\"text_7\">\n      <!-- 3000 -->\n      <defs>\n       <path d=\"M 40.578125 39.3125 \nQ 47.65625 37.796875 51.625 33 \nQ 55.609375 28.21875 55.609375 21.1875 \nQ 55.609375 10.40625 48.1875 4.484375 \nQ 40.765625 -1.421875 27.09375 -1.421875 \nQ 22.515625 -1.421875 17.65625 -0.515625 \nQ 12.796875 0.390625 7.625 2.203125 \nL 7.625 11.71875 \nQ 11.71875 9.328125 16.59375 8.109375 \nQ 21.484375 6.890625 26.8125 6.890625 \nQ 36.078125 6.890625 40.9375 10.546875 \nQ 45.796875 14.203125 45.796875 21.1875 \nQ 45.796875 27.640625 41.28125 31.265625 \nQ 36.765625 34.90625 28.71875 34.90625 \nL 20.21875 34.90625 \nL 20.21875 43.015625 \nL 29.109375 43.015625 \nQ 36.375 43.015625 40.234375 45.921875 \nQ 44.09375 48.828125 44.09375 54.296875 \nQ 44.09375 59.90625 40.109375 62.90625 \nQ 36.140625 65.921875 28.71875 65.921875 \nQ 24.65625 65.921875 20.015625 65.03125 \nQ 15.375 64.15625 9.8125 62.3125 \nL 9.8125 71.09375 \nQ 15.4375 72.65625 20.34375 73.4375 \nQ 25.25 74.21875 29.59375 74.21875 \nQ 40.828125 74.21875 47.359375 69.109375 \nQ 53.90625 64.015625 53.90625 55.328125 \nQ 53.90625 49.265625 50.4375 45.09375 \nQ 46.96875 40.921875 40.578125 39.3125 \nz\n\" id=\"DejaVuSans-51\"/>\n      </defs>\n      <g transform=\"translate(7.2 167.703438)scale(0.1 -0.1)\">\n       <use xlink:href=\"#DejaVuSans-51\"/>\n       <use x=\"63.623047\" xlink:href=\"#DejaVuSans-48\"/>\n       <use x=\"127.246094\" xlink:href=\"#DejaVuSans-48\"/>\n       <use x=\"190.869141\" xlink:href=\"#DejaVuSans-48\"/>\n      </g>\n     </g>\n    </g>\n    <g id=\"ytick_5\">\n     <g id=\"line2d_8\">\n      <g>\n       <use style=\"stroke:#000000;stroke-width:0.8;\" x=\"39.65\" xlink:href=\"#m51007e9fc9\" y=\"211.091719\"/>\n      </g>\n     </g>\n     <g id=\"text_8\">\n      <!-- 4000 -->\n      <defs>\n       <path d=\"M 37.796875 64.3125 \nL 12.890625 25.390625 \nL 37.796875 25.390625 \nz\nM 35.203125 72.90625 \nL 47.609375 72.90625 \nL 47.609375 25.390625 \nL 58.015625 25.390625 \nL 58.015625 17.1875 \nL 47.609375 17.1875 \nL 47.609375 0 \nL 37.796875 0 \nL 37.796875 17.1875 \nL 4.890625 17.1875 \nL 4.890625 26.703125 \nz\n\" id=\"DejaVuSans-52\"/>\n      </defs>\n      <g transform=\"translate(7.2 214.890938)scale(0.1 -0.1)\">\n       <use xlink:href=\"#DejaVuSans-52\"/>\n       <use x=\"63.623047\" xlink:href=\"#DejaVuSans-48\"/>\n       <use x=\"127.246094\" xlink:href=\"#DejaVuSans-48\"/>\n       <use x=\"190.869141\" xlink:href=\"#DejaVuSans-48\"/>\n      </g>\n     </g>\n    </g>\n   </g>\n   <g id=\"patch_3\">\n    <path d=\"M 39.65 239.758125 \nL 39.65 22.318125 \n\" style=\"fill:none;stroke:#000000;stroke-linecap:square;stroke-linejoin:miter;stroke-width:0.8;\"/>\n   </g>\n   <g id=\"patch_4\">\n    <path d=\"M 148.37 239.758125 \nL 148.37 22.318125 \n\" style=\"fill:none;stroke:#000000;stroke-linecap:square;stroke-linejoin:miter;stroke-width:0.8;\"/>\n   </g>\n   <g id=\"patch_5\">\n    <path d=\"M 39.65 239.758125 \nL 148.37 239.758125 \n\" style=\"fill:none;stroke:#000000;stroke-linecap:square;stroke-linejoin:miter;stroke-width:0.8;\"/>\n   </g>\n   <g id=\"patch_6\">\n    <path d=\"M 39.65 22.318125 \nL 148.37 22.318125 \n\" style=\"fill:none;stroke:#000000;stroke-linecap:square;stroke-linejoin:miter;stroke-width:0.8;\"/>\n   </g>\n   <g id=\"text_9\">\n    <!-- dilate -->\n    <defs>\n     <path d=\"M 45.40625 46.390625 \nL 45.40625 75.984375 \nL 54.390625 75.984375 \nL 54.390625 0 \nL 45.40625 0 \nL 45.40625 8.203125 \nQ 42.578125 3.328125 38.25 0.953125 \nQ 33.9375 -1.421875 27.875 -1.421875 \nQ 17.96875 -1.421875 11.734375 6.484375 \nQ 5.515625 14.40625 5.515625 27.296875 \nQ 5.515625 40.1875 11.734375 48.09375 \nQ 17.96875 56 27.875 56 \nQ 33.9375 56 38.25 53.625 \nQ 42.578125 51.265625 45.40625 46.390625 \nz\nM 14.796875 27.296875 \nQ 14.796875 17.390625 18.875 11.75 \nQ 22.953125 6.109375 30.078125 6.109375 \nQ 37.203125 6.109375 41.296875 11.75 \nQ 45.40625 17.390625 45.40625 27.296875 \nQ 45.40625 37.203125 41.296875 42.84375 \nQ 37.203125 48.484375 30.078125 48.484375 \nQ 22.953125 48.484375 18.875 42.84375 \nQ 14.796875 37.203125 14.796875 27.296875 \nz\n\" id=\"DejaVuSans-100\"/>\n     <path d=\"M 9.421875 54.6875 \nL 18.40625 54.6875 \nL 18.40625 0 \nL 9.421875 0 \nz\nM 9.421875 75.984375 \nL 18.40625 75.984375 \nL 18.40625 64.59375 \nL 9.421875 64.59375 \nz\n\" id=\"DejaVuSans-105\"/>\n     <path d=\"M 9.421875 75.984375 \nL 18.40625 75.984375 \nL 18.40625 0 \nL 9.421875 0 \nz\n\" id=\"DejaVuSans-108\"/>\n     <path d=\"M 34.28125 27.484375 \nQ 23.390625 27.484375 19.1875 25 \nQ 14.984375 22.515625 14.984375 16.5 \nQ 14.984375 11.71875 18.140625 8.90625 \nQ 21.296875 6.109375 26.703125 6.109375 \nQ 34.1875 6.109375 38.703125 11.40625 \nQ 43.21875 16.703125 43.21875 25.484375 \nL 43.21875 27.484375 \nz\nM 52.203125 31.203125 \nL 52.203125 0 \nL 43.21875 0 \nL 43.21875 8.296875 \nQ 40.140625 3.328125 35.546875 0.953125 \nQ 30.953125 -1.421875 24.3125 -1.421875 \nQ 15.921875 -1.421875 10.953125 3.296875 \nQ 6 8.015625 6 15.921875 \nQ 6 25.140625 12.171875 29.828125 \nQ 18.359375 34.515625 30.609375 34.515625 \nL 43.21875 34.515625 \nL 43.21875 35.40625 \nQ 43.21875 41.609375 39.140625 45 \nQ 35.0625 48.390625 27.6875 48.390625 \nQ 23 48.390625 18.546875 47.265625 \nQ 14.109375 46.140625 10.015625 43.890625 \nL 10.015625 52.203125 \nQ 14.9375 54.109375 19.578125 55.046875 \nQ 24.21875 56 28.609375 56 \nQ 40.484375 56 46.34375 49.84375 \nQ 52.203125 43.703125 52.203125 31.203125 \nz\n\" id=\"DejaVuSans-97\"/>\n     <path d=\"M 18.3125 70.21875 \nL 18.3125 54.6875 \nL 36.8125 54.6875 \nL 36.8125 47.703125 \nL 18.3125 47.703125 \nL 18.3125 18.015625 \nQ 18.3125 11.328125 20.140625 9.421875 \nQ 21.96875 7.515625 27.59375 7.515625 \nL 36.8125 7.515625 \nL 36.8125 0 \nL 27.59375 0 \nQ 17.1875 0 13.234375 3.875 \nQ 9.28125 7.765625 9.28125 18.015625 \nL 9.28125 47.703125 \nL 2.6875 47.703125 \nL 2.6875 54.6875 \nL 9.28125 54.6875 \nL 9.28125 70.21875 \nz\n\" id=\"DejaVuSans-116\"/>\n     <path d=\"M 56.203125 29.59375 \nL 56.203125 25.203125 \nL 14.890625 25.203125 \nQ 15.484375 15.921875 20.484375 11.0625 \nQ 25.484375 6.203125 34.421875 6.203125 \nQ 39.59375 6.203125 44.453125 7.46875 \nQ 49.3125 8.734375 54.109375 11.28125 \nL 54.109375 2.78125 \nQ 49.265625 0.734375 44.1875 -0.34375 \nQ 39.109375 -1.421875 33.890625 -1.421875 \nQ 20.796875 -1.421875 13.15625 6.1875 \nQ 5.515625 13.8125 5.515625 26.8125 \nQ 5.515625 40.234375 12.765625 48.109375 \nQ 20.015625 56 32.328125 56 \nQ 43.359375 56 49.78125 48.890625 \nQ 56.203125 41.796875 56.203125 29.59375 \nz\nM 47.21875 32.234375 \nQ 47.125 39.59375 43.09375 43.984375 \nQ 39.0625 48.390625 32.421875 48.390625 \nQ 24.90625 48.390625 20.390625 44.140625 \nQ 15.875 39.890625 15.1875 32.171875 \nz\n\" id=\"DejaVuSans-101\"/>\n    </defs>\n    <g transform=\"translate(77.14625 16.318125)scale(0.12 -0.12)\">\n     <use xlink:href=\"#DejaVuSans-100\"/>\n     <use x=\"63.476562\" xlink:href=\"#DejaVuSans-105\"/>\n     <use x=\"91.259766\" xlink:href=\"#DejaVuSans-108\"/>\n     <use x=\"119.042969\" xlink:href=\"#DejaVuSans-97\"/>\n     <use x=\"180.322266\" xlink:href=\"#DejaVuSans-116\"/>\n     <use x=\"219.53125\" xlink:href=\"#DejaVuSans-101\"/>\n    </g>\n   </g>\n  </g>\n </g>\n <defs>\n  <clipPath id=\"p411835bcb2\">\n   <rect height=\"217.44\" width=\"108.72\" x=\"39.65\" y=\"22.318125\"/>\n  </clipPath>\n </defs>\n</svg>\n",
      "image/png": "[encoded data removed]"
     },
     "metadata": {
      "needs_background": "light"
     }
    }
   ],
   "source": [
    "erode = cv2.erode(binImg,erodeKernel,iterations=1)\n",
    "plt.imshow(erode, cmap=\"gray\")\n",
    "plt.title(\"dilate\")"
   ]
  },
  {
   "cell_type": "code",
   "execution_count": 7,
   "metadata": {},
   "outputs": [
    {
     "output_type": "execute_result",
     "data": {
      "text/plain": [
       "Text(0.5, 1.0, 'erode')"
      ]
     },
     "metadata": {},
     "execution_count": 7
    },
    {
     "output_type": "display_data",
     "data": {
      "text/plain": "<Figure size 432x288 with 1 Axes>",
      "image/svg+xml": "<?xml version=\"1.0\" encoding=\"utf-8\" standalone=\"no\"?>\n<!DOCTYPE svg PUBLIC \"-//W3C//DTD SVG 1.1//EN\"\n  \"http://www.w3.org/Graphics/SVG/1.1/DTD/svg11.dtd\">\n<!-- Created with matplotlib (https://matplotlib.org/) -->\n<svg height=\"263.63625pt\" version=\"1.1\" viewBox=\"0 0 155.57 263.63625\" width=\"155.57pt\" xmlns=\"http://www.w3.org/2000/svg\" xmlns:xlink=\"http://www.w3.org/1999/xlink\">\n <defs>\n  <style type=\"text/css\">\n*{stroke-linecap:butt;stroke-linejoin:round;}\n  </style>\n </defs>\n <g id=\"figure_1\">\n  <g id=\"patch_1\">\n   <path d=\"M 0 263.63625 \nL 155.57 263.63625 \nL 155.57 0 \nL 0 0 \nz\n\" style=\"fill:none;\"/>\n  </g>\n  <g id=\"axes_1\">\n   <g id=\"patch_2\">\n    <path d=\"M 39.65 239.758125 \nL 148.37 239.758125 \nL 148.37 22.318125 \nL 39.65 22.318125 \nz\n\" style=\"fill:#ffffff;\"/>\n   </g>\n   <g clip-path=\"url(#p803f13c810)\">\n    <image height=\"218\" id=\"image09d917cdd8\" transform=\"scale(1 -1)translate(0 -218)\" width=\"109\" x=\"39.65\" xlink:href=\"data:image/png;base64,\niVBORw0KGgoAAAANSUhEUgAAAG0AAADaCAYAAACsN8ybAAAABHNCSVQICAgIfAhkiAAABYRJREFUeJztnety7CgMBvHWef9Xnv3FKZYFbAxC+ma6q1JJJo5vjcTFNr5SSp8EUvzjvQMwD9IEQZogSBMEaYIgTRCkCYI0QZAmCNIEQZogSBMEaYIgTRCkCYI0QZAmCNIEQZogSBMEaYIgTRCkCYI0QZAmCNIEQZogSBMEaYIgTRCkCYI0QZAmCNIEQZogSBMEaYIgTRCkCYI0QZAmCNIEQZogSBMEaYIgTRCkCYI0QZAmCNIEQZogSBMEaYIgTRCkCYI0QZAmCNIEQZogSBMEaRN8PjHepYS0h0QRllJgaZFOUua6rr8/e+5fWGnlCYpClIIUVlpkvOUdl/bkgPMy3ifnCeW+5i9r/listNzxnOZmDuZJavx8Pv9Z96l0Wm+r3u6J/TCJtHrH74TNlNB62fok1lG6u+S3pNTbqPdvN2aRdl3XIxmtv7cOOq+vtdzTz+v9U2VLpLVO8tMT04rK67qmU1BvW3Xh2S2sLFSn2Joee6lqtHzv99H/zqScuu5b5ck6rAVuk/amDqmjKX/11lEu09v+aN/yOlbl9Y51Z+EYYVKn3dFrXY5O6I4TUa6/tb06S4wiZpQlRp/t4Eob3ii/a+dGJXVHhPTWl39ufX9KKw1bpclQIyKjtLjKXdTkv5ffV1O9FS7pcRaLBsRdOitPfLQugkuk1aW6/Lxs8ludqF5Dpq7Tog6jLddpbw4syiWOFnW91vq7N8cjrUw5rXQ06khbnrDe0FsESTUukdajVbqjRWUEicel9SSMOsy7m/ureItzuZ52l3rqZSIJS+n/w22n98+t9dg62N5n3iW7ZGaw2gqXhkhPxF1DJAL1uKPH/rmkx7trY9FEtTg1ONzCJT32Smm0umtETuU/EWklreb9qL8ULQK9Gkmh+mlqeBWiUKP8LSJGWKash08WXiJtA6OLqRaEjzQFTgpLCWlbeHvh9PX2EulxK0SaIFZ3NpcgTRCkGWA9UoI0YyzSJNKMsLwKgDRBkGaI1fAW0hYZpT+rcVM61wfYLY5IM4aGiBCWtyMgzYjWY8i7BCLNiFak7UqVEo86KWLZQEOaIT/xJOg3QUNEEMtnEZBmgPWt7YyIHIAREUCaIkgzhrFHISyb/HSujbC8uYdIEwRphlh1h5BmiNW9/UudazrW91jUazREDOD5NFEsnw4l0ozgXn4xrJ/BJtIMsJ7LmNajEaRHQWiIiEGTX4STk1YTaZs4OZUgkbaZE40zpAmCNEGQtsBoPmMmfwnI3WvD6FwHZCTGugVJk/8lp+d4LCHSXtJ659opkLaA14A50hbxmDEcaZPUrwbzmJuf62kv8J69nEibwPNVJSU0+SfxjrKUiDRJiLQJRq++PAmRNkE5bZJnmkTaJBHe74a0SbyFpUSd9hfLCch2Q6R1KIenvPtlNUhL7fFDz1H8O5akRTuYN/SmRIp8bK+lRUsZb6gHf1s/R+S1tIhven9C/a6z+m5ghWP6yQnNWm/4jR5dJT9xaaYlRE1UyXKklUSWWKZzVVmZ5Sa/Qmc0k8cOR/crKrAl0lol2PMERC88q2wZxnp6kixbnN9Wb40wGxEpm9bluN7K5Y1WX2oU3d8oLKVDw1hliV/pE/WW771nOurY4SpbW4+ZVlpqNVjqujD/352c0XZ+AZNI6z0CVL8wp5XaegO1pdhvi5xZTCJtlqd10a9GVo2rNCS8w+V62reMTHjhIu2JrF+vt0aEqNNgDm43EARpgiBNEKQJgjRBkCYI0gRBmiBIEwRpgiBNEKQJgjRBkCYI0gRBmiBIEwRpgiBNEKQJgjRBkCYI0gRBmiBIEwRpgiBNEKQJgjRBkCYI0gRBmiBIEwRpgiBNEKQJgjRBkCYI0gRBmiBIEwRpgiBNEKQJgjRBkCbIv1Go+LMz036QAAAAAElFTkSuQmCC\" y=\"-21.758125\"/>\n   </g>\n   <g id=\"matplotlib.axis_1\">\n    <g id=\"xtick_1\">\n     <g id=\"line2d_1\">\n      <defs>\n       <path d=\"M 0 0 \nL 0 3.5 \n\" id=\"m974857eccb\" style=\"stroke:#000000;stroke-width:0.8;\"/>\n      </defs>\n      <g>\n       <use style=\"stroke:#000000;stroke-width:0.8;\" x=\"39.673594\" xlink:href=\"#m974857eccb\" y=\"239.758125\"/>\n      </g>\n     </g>\n     <g id=\"text_1\">\n      <!-- 0 -->\n      <defs>\n       <path d=\"M 31.78125 66.40625 \nQ 24.171875 66.40625 20.328125 58.90625 \nQ 16.5 51.421875 16.5 36.375 \nQ 16.5 21.390625 20.328125 13.890625 \nQ 24.171875 6.390625 31.78125 6.390625 \nQ 39.453125 6.390625 43.28125 13.890625 \nQ 47.125 21.390625 47.125 36.375 \nQ 47.125 51.421875 43.28125 58.90625 \nQ 39.453125 66.40625 31.78125 66.40625 \nz\nM 31.78125 74.21875 \nQ 44.046875 74.21875 50.515625 64.515625 \nQ 56.984375 54.828125 56.984375 36.375 \nQ 56.984375 17.96875 50.515625 8.265625 \nQ 44.046875 -1.421875 31.78125 -1.421875 \nQ 19.53125 -1.421875 13.0625 8.265625 \nQ 6.59375 17.96875 6.59375 36.375 \nQ 6.59375 54.828125 13.0625 64.515625 \nQ 19.53125 74.21875 31.78125 74.21875 \nz\n\" id=\"DejaVuSans-48\"/>\n      </defs>\n      <g transform=\"translate(36.492344 254.356563)scale(0.1 -0.1)\">\n       <use xlink:href=\"#DejaVuSans-48\"/>\n      </g>\n     </g>\n    </g>\n    <g id=\"xtick_2\">\n     <g id=\"line2d_2\">\n      <g>\n       <use style=\"stroke:#000000;stroke-width:0.8;\" x=\"86.861094\" xlink:href=\"#m974857eccb\" y=\"239.758125\"/>\n      </g>\n     </g>\n     <g id=\"text_2\">\n      <!-- 1000 -->\n      <defs>\n       <path d=\"M 12.40625 8.296875 \nL 28.515625 8.296875 \nL 28.515625 63.921875 \nL 10.984375 60.40625 \nL 10.984375 69.390625 \nL 28.421875 72.90625 \nL 38.28125 72.90625 \nL 38.28125 8.296875 \nL 54.390625 8.296875 \nL 54.390625 0 \nL 12.40625 0 \nz\n\" id=\"DejaVuSans-49\"/>\n      </defs>\n      <g transform=\"translate(74.136094 254.356563)scale(0.1 -0.1)\">\n       <use xlink:href=\"#DejaVuSans-49\"/>\n       <use x=\"63.623047\" xlink:href=\"#DejaVuSans-48\"/>\n       <use x=\"127.246094\" xlink:href=\"#DejaVuSans-48\"/>\n       <use x=\"190.869141\" xlink:href=\"#DejaVuSans-48\"/>\n      </g>\n     </g>\n    </g>\n    <g id=\"xtick_3\">\n     <g id=\"line2d_3\">\n      <g>\n       <use style=\"stroke:#000000;stroke-width:0.8;\" x=\"134.048594\" xlink:href=\"#m974857eccb\" y=\"239.758125\"/>\n      </g>\n     </g>\n     <g id=\"text_3\">\n      <!-- 2000 -->\n      <defs>\n       <path d=\"M 19.1875 8.296875 \nL 53.609375 8.296875 \nL 53.609375 0 \nL 7.328125 0 \nL 7.328125 8.296875 \nQ 12.9375 14.109375 22.625 23.890625 \nQ 32.328125 33.6875 34.8125 36.53125 \nQ 39.546875 41.84375 41.421875 45.53125 \nQ 43.3125 49.21875 43.3125 52.78125 \nQ 43.3125 58.59375 39.234375 62.25 \nQ 35.15625 65.921875 28.609375 65.921875 \nQ 23.96875 65.921875 18.8125 64.3125 \nQ 13.671875 62.703125 7.8125 59.421875 \nL 7.8125 69.390625 \nQ 13.765625 71.78125 18.9375 73 \nQ 24.125 74.21875 28.421875 74.21875 \nQ 39.75 74.21875 46.484375 68.546875 \nQ 53.21875 62.890625 53.21875 53.421875 \nQ 53.21875 48.921875 51.53125 44.890625 \nQ 49.859375 40.875 45.40625 35.40625 \nQ 44.1875 33.984375 37.640625 27.21875 \nQ 31.109375 20.453125 19.1875 8.296875 \nz\n\" id=\"DejaVuSans-50\"/>\n      </defs>\n      <g transform=\"translate(121.323594 254.356563)scale(0.1 -0.1)\">\n       <use xlink:href=\"#DejaVuSans-50\"/>\n       <use x=\"63.623047\" xlink:href=\"#DejaVuSans-48\"/>\n       <use x=\"127.246094\" xlink:href=\"#DejaVuSans-48\"/>\n       <use x=\"190.869141\" xlink:href=\"#DejaVuSans-48\"/>\n      </g>\n     </g>\n    </g>\n   </g>\n   <g id=\"matplotlib.axis_2\">\n    <g id=\"ytick_1\">\n     <g id=\"line2d_4\">\n      <defs>\n       <path d=\"M 0 0 \nL -3.5 0 \n\" id=\"m9ce6c46da7\" style=\"stroke:#000000;stroke-width:0.8;\"/>\n      </defs>\n      <g>\n       <use style=\"stroke:#000000;stroke-width:0.8;\" x=\"39.65\" xlink:href=\"#m9ce6c46da7\" y=\"22.341719\"/>\n      </g>\n     </g>\n     <g id=\"text_4\">\n      <!-- 0 -->\n      <g transform=\"translate(26.2875 26.140938)scale(0.1 -0.1)\">\n       <use xlink:href=\"#DejaVuSans-48\"/>\n      </g>\n     </g>\n    </g>\n    <g id=\"ytick_2\">\n     <g id=\"line2d_5\">\n      <g>\n       <use style=\"stroke:#000000;stroke-width:0.8;\" x=\"39.65\" xlink:href=\"#m9ce6c46da7\" y=\"69.529219\"/>\n      </g>\n     </g>\n     <g id=\"text_5\">\n      <!-- 1000 -->\n      <g transform=\"translate(7.2 73.328438)scale(0.1 -0.1)\">\n       <use xlink:href=\"#DejaVuSans-49\"/>\n       <use x=\"63.623047\" xlink:href=\"#DejaVuSans-48\"/>\n       <use x=\"127.246094\" xlink:href=\"#DejaVuSans-48\"/>\n       <use x=\"190.869141\" xlink:href=\"#DejaVuSans-48\"/>\n      </g>\n     </g>\n    </g>\n    <g id=\"ytick_3\">\n     <g id=\"line2d_6\">\n      <g>\n       <use style=\"stroke:#000000;stroke-width:0.8;\" x=\"39.65\" xlink:href=\"#m9ce6c46da7\" y=\"116.716719\"/>\n      </g>\n     </g>\n     <g id=\"text_6\">\n      <!-- 2000 -->\n      <g transform=\"translate(7.2 120.515938)scale(0.1 -0.1)\">\n       <use xlink:href=\"#DejaVuSans-50\"/>\n       <use x=\"63.623047\" xlink:href=\"#DejaVuSans-48\"/>\n       <use x=\"127.246094\" xlink:href=\"#DejaVuSans-48\"/>\n       <use x=\"190.869141\" xlink:href=\"#DejaVuSans-48\"/>\n      </g>\n     </g>\n    </g>\n    <g id=\"ytick_4\">\n     <g id=\"line2d_7\">\n      <g>\n       <use style=\"stroke:#000000;stroke-width:0.8;\" x=\"39.65\" xlink:href=\"#m9ce6c46da7\" y=\"163.904219\"/>\n      </g>\n     </g>\n     <g id=\"text_7\">\n      <!-- 3000 -->\n      <defs>\n       <path d=\"M 40.578125 39.3125 \nQ 47.65625 37.796875 51.625 33 \nQ 55.609375 28.21875 55.609375 21.1875 \nQ 55.609375 10.40625 48.1875 4.484375 \nQ 40.765625 -1.421875 27.09375 -1.421875 \nQ 22.515625 -1.421875 17.65625 -0.515625 \nQ 12.796875 0.390625 7.625 2.203125 \nL 7.625 11.71875 \nQ 11.71875 9.328125 16.59375 8.109375 \nQ 21.484375 6.890625 26.8125 6.890625 \nQ 36.078125 6.890625 40.9375 10.546875 \nQ 45.796875 14.203125 45.796875 21.1875 \nQ 45.796875 27.640625 41.28125 31.265625 \nQ 36.765625 34.90625 28.71875 34.90625 \nL 20.21875 34.90625 \nL 20.21875 43.015625 \nL 29.109375 43.015625 \nQ 36.375 43.015625 40.234375 45.921875 \nQ 44.09375 48.828125 44.09375 54.296875 \nQ 44.09375 59.90625 40.109375 62.90625 \nQ 36.140625 65.921875 28.71875 65.921875 \nQ 24.65625 65.921875 20.015625 65.03125 \nQ 15.375 64.15625 9.8125 62.3125 \nL 9.8125 71.09375 \nQ 15.4375 72.65625 20.34375 73.4375 \nQ 25.25 74.21875 29.59375 74.21875 \nQ 40.828125 74.21875 47.359375 69.109375 \nQ 53.90625 64.015625 53.90625 55.328125 \nQ 53.90625 49.265625 50.4375 45.09375 \nQ 46.96875 40.921875 40.578125 39.3125 \nz\n\" id=\"DejaVuSans-51\"/>\n      </defs>\n      <g transform=\"translate(7.2 167.703438)scale(0.1 -0.1)\">\n       <use xlink:href=\"#DejaVuSans-51\"/>\n       <use x=\"63.623047\" xlink:href=\"#DejaVuSans-48\"/>\n       <use x=\"127.246094\" xlink:href=\"#DejaVuSans-48\"/>\n       <use x=\"190.869141\" xlink:href=\"#DejaVuSans-48\"/>\n      </g>\n     </g>\n    </g>\n    <g id=\"ytick_5\">\n     <g id=\"line2d_8\">\n      <g>\n       <use style=\"stroke:#000000;stroke-width:0.8;\" x=\"39.65\" xlink:href=\"#m9ce6c46da7\" y=\"211.091719\"/>\n      </g>\n     </g>\n     <g id=\"text_8\">\n      <!-- 4000 -->\n      <defs>\n       <path d=\"M 37.796875 64.3125 \nL 12.890625 25.390625 \nL 37.796875 25.390625 \nz\nM 35.203125 72.90625 \nL 47.609375 72.90625 \nL 47.609375 25.390625 \nL 58.015625 25.390625 \nL 58.015625 17.1875 \nL 47.609375 17.1875 \nL 47.609375 0 \nL 37.796875 0 \nL 37.796875 17.1875 \nL 4.890625 17.1875 \nL 4.890625 26.703125 \nz\n\" id=\"DejaVuSans-52\"/>\n      </defs>\n      <g transform=\"translate(7.2 214.890938)scale(0.1 -0.1)\">\n       <use xlink:href=\"#DejaVuSans-52\"/>\n       <use x=\"63.623047\" xlink:href=\"#DejaVuSans-48\"/>\n       <use x=\"127.246094\" xlink:href=\"#DejaVuSans-48\"/>\n       <use x=\"190.869141\" xlink:href=\"#DejaVuSans-48\"/>\n      </g>\n     </g>\n    </g>\n   </g>\n   <g id=\"patch_3\">\n    <path d=\"M 39.65 239.758125 \nL 39.65 22.318125 \n\" style=\"fill:none;stroke:#000000;stroke-linecap:square;stroke-linejoin:miter;stroke-width:0.8;\"/>\n   </g>\n   <g id=\"patch_4\">\n    <path d=\"M 148.37 239.758125 \nL 148.37 22.318125 \n\" style=\"fill:none;stroke:#000000;stroke-linecap:square;stroke-linejoin:miter;stroke-width:0.8;\"/>\n   </g>\n   <g id=\"patch_5\">\n    <path d=\"M 39.65 239.758125 \nL 148.37 239.758125 \n\" style=\"fill:none;stroke:#000000;stroke-linecap:square;stroke-linejoin:miter;stroke-width:0.8;\"/>\n   </g>\n   <g id=\"patch_6\">\n    <path d=\"M 39.65 22.318125 \nL 148.37 22.318125 \n\" style=\"fill:none;stroke:#000000;stroke-linecap:square;stroke-linejoin:miter;stroke-width:0.8;\"/>\n   </g>\n   <g id=\"text_9\">\n    <!-- erode -->\n    <defs>\n     <path d=\"M 56.203125 29.59375 \nL 56.203125 25.203125 \nL 14.890625 25.203125 \nQ 15.484375 15.921875 20.484375 11.0625 \nQ 25.484375 6.203125 34.421875 6.203125 \nQ 39.59375 6.203125 44.453125 7.46875 \nQ 49.3125 8.734375 54.109375 11.28125 \nL 54.109375 2.78125 \nQ 49.265625 0.734375 44.1875 -0.34375 \nQ 39.109375 -1.421875 33.890625 -1.421875 \nQ 20.796875 -1.421875 13.15625 6.1875 \nQ 5.515625 13.8125 5.515625 26.8125 \nQ 5.515625 40.234375 12.765625 48.109375 \nQ 20.015625 56 32.328125 56 \nQ 43.359375 56 49.78125 48.890625 \nQ 56.203125 41.796875 56.203125 29.59375 \nz\nM 47.21875 32.234375 \nQ 47.125 39.59375 43.09375 43.984375 \nQ 39.0625 48.390625 32.421875 48.390625 \nQ 24.90625 48.390625 20.390625 44.140625 \nQ 15.875 39.890625 15.1875 32.171875 \nz\n\" id=\"DejaVuSans-101\"/>\n     <path d=\"M 41.109375 46.296875 \nQ 39.59375 47.171875 37.8125 47.578125 \nQ 36.03125 48 33.890625 48 \nQ 26.265625 48 22.1875 43.046875 \nQ 18.109375 38.09375 18.109375 28.8125 \nL 18.109375 0 \nL 9.078125 0 \nL 9.078125 54.6875 \nL 18.109375 54.6875 \nL 18.109375 46.1875 \nQ 20.953125 51.171875 25.484375 53.578125 \nQ 30.03125 56 36.53125 56 \nQ 37.453125 56 38.578125 55.875 \nQ 39.703125 55.765625 41.0625 55.515625 \nz\n\" id=\"DejaVuSans-114\"/>\n     <path d=\"M 30.609375 48.390625 \nQ 23.390625 48.390625 19.1875 42.75 \nQ 14.984375 37.109375 14.984375 27.296875 \nQ 14.984375 17.484375 19.15625 11.84375 \nQ 23.34375 6.203125 30.609375 6.203125 \nQ 37.796875 6.203125 41.984375 11.859375 \nQ 46.1875 17.53125 46.1875 27.296875 \nQ 46.1875 37.015625 41.984375 42.703125 \nQ 37.796875 48.390625 30.609375 48.390625 \nz\nM 30.609375 56 \nQ 42.328125 56 49.015625 48.375 \nQ 55.71875 40.765625 55.71875 27.296875 \nQ 55.71875 13.875 49.015625 6.21875 \nQ 42.328125 -1.421875 30.609375 -1.421875 \nQ 18.84375 -1.421875 12.171875 6.21875 \nQ 5.515625 13.875 5.515625 27.296875 \nQ 5.515625 40.765625 12.171875 48.375 \nQ 18.84375 56 30.609375 56 \nz\n\" id=\"DejaVuSans-111\"/>\n     <path d=\"M 45.40625 46.390625 \nL 45.40625 75.984375 \nL 54.390625 75.984375 \nL 54.390625 0 \nL 45.40625 0 \nL 45.40625 8.203125 \nQ 42.578125 3.328125 38.25 0.953125 \nQ 33.9375 -1.421875 27.875 -1.421875 \nQ 17.96875 -1.421875 11.734375 6.484375 \nQ 5.515625 14.40625 5.515625 27.296875 \nQ 5.515625 40.1875 11.734375 48.09375 \nQ 17.96875 56 27.875 56 \nQ 33.9375 56 38.25 53.625 \nQ 42.578125 51.265625 45.40625 46.390625 \nz\nM 14.796875 27.296875 \nQ 14.796875 17.390625 18.875 11.75 \nQ 22.953125 6.109375 30.078125 6.109375 \nQ 37.203125 6.109375 41.296875 11.75 \nQ 45.40625 17.390625 45.40625 27.296875 \nQ 45.40625 37.203125 41.296875 42.84375 \nQ 37.203125 48.484375 30.078125 48.484375 \nQ 22.953125 48.484375 18.875 42.84375 \nQ 14.796875 37.203125 14.796875 27.296875 \nz\n\" id=\"DejaVuSans-100\"/>\n    </defs>\n    <g transform=\"translate(76.68125 16.318125)scale(0.12 -0.12)\">\n     <use xlink:href=\"#DejaVuSans-101\"/>\n     <use x=\"61.523438\" xlink:href=\"#DejaVuSans-114\"/>\n     <use x=\"102.605469\" xlink:href=\"#DejaVuSans-111\"/>\n     <use x=\"163.787109\" xlink:href=\"#DejaVuSans-100\"/>\n     <use x=\"227.263672\" xlink:href=\"#DejaVuSans-101\"/>\n    </g>\n   </g>\n  </g>\n </g>\n <defs>\n  <clipPath id=\"p803f13c810\">\n   <rect height=\"217.44\" width=\"108.72\" x=\"39.65\" y=\"22.318125\"/>\n  </clipPath>\n </defs>\n</svg>\n",
      "image/png": "[encoded data removed]"
     },
     "metadata": {
      "needs_background": "light"
     }
    }
   ],
   "source": [
    "dilate = cv2.dilate(erode,dilateKernel,iterations=1)\n",
    "plt.imshow(dilate, cmap=\"gray\")\n",
    "plt.title(\"erode\")"
   ]
  },
  {
   "cell_type": "code",
   "execution_count": 8,
   "metadata": {},
   "outputs": [
    {
     "output_type": "execute_result",
     "data": {
      "text/plain": [
       "Text(0.5, 1.0, 'Canny')"
      ]
     },
     "metadata": {},
     "execution_count": 8
    },
    {
     "output_type": "display_data",
     "data": {
      "text/plain": "<Figure size 432x288 with 1 Axes>",
      "image/svg+xml": "<?xml version=\"1.0\" encoding=\"utf-8\" standalone=\"no\"?>\n<!DOCTYPE svg PUBLIC \"-//W3C//DTD SVG 1.1//EN\"\n  \"http://www.w3.org/Graphics/SVG/1.1/DTD/svg11.dtd\">\n<!-- Created with matplotlib (https://matplotlib.org/) -->\n<svg height=\"263.63625pt\" version=\"1.1\" viewBox=\"0 0 155.57 263.63625\" width=\"155.57pt\" xmlns=\"http://www.w3.org/2000/svg\" xmlns:xlink=\"http://www.w3.org/1999/xlink\">\n <defs>\n  <style type=\"text/css\">\n*{stroke-linecap:butt;stroke-linejoin:round;}\n  </style>\n </defs>\n <g id=\"figure_1\">\n  <g id=\"patch_1\">\n   <path d=\"M 0 263.63625 \nL 155.57 263.63625 \nL 155.57 0 \nL 0 0 \nz\n\" style=\"fill:none;\"/>\n  </g>\n  <g id=\"axes_1\">\n   <g id=\"patch_2\">\n    <path d=\"M 39.65 239.758125 \nL 148.37 239.758125 \nL 148.37 22.318125 \nL 39.65 22.318125 \nz\n\" style=\"fill:#ffffff;\"/>\n   </g>\n   <g clip-path=\"url(#p3ab50ac97a)\">\n    <image height=\"218\" id=\"imagef1523734a6\" transform=\"scale(1 -1)translate(0 -218)\" width=\"109\" x=\"39.65\" xlink:href=\"data:image/png;base64,\niVBORw0KGgoAAAANSUhEUgAAAG0AAADaCAYAAACsN8ybAAAABHNCSVQICAgIfAhkiAAABRhJREFUeJztndu2qygUBbH//5/th9P2YHC8gLKQilVvO8kOxmIiIOqSUlqToPjn7Q2QdpQGRGlAlAZEaUCUBkRpQJQGRGlAlAZEaUCUBkRpQJQGRGlAlAZEaUCUBkRpQJQGRGlAlAZEaUCUBkRpQJQGRGlAlAZEaUCUBkRpQJQGRGlAlAZEaUCUBkRpQJQGRGlAlAZEaUCUBkRpQJQGRGlAlAZEaUCUBkRpQJQGRGlAlAZEaUCUBkRpQJQGRGmNrOv7z55Ykk/AwGHSGpghZSkprYllWVJK78tTGhCl3WBLXMmoBCqtgSspRzJ7o7RK1nWtTlh04uzyAxmWtK327dXCdV0PXz/7++r1SM7KzN+L2LahSTtrYvY+m9L5Qb987+r7W8pv+Y4e39tCt6SVSapJxVktXJbldEfsvXc0jrqqAC2clbsHJmn5hrbsqKMaeyd1v0yXpO3VpjwptbXtSNhV6vIyrsrqXfPfOJ52TVpZ448Scpao3mm6U9bT744mVNrdz0TQ87jWWm7vMsOOaT1T0ZsZeoBP6CKN9IMjthXX5ScI2+vNHnVc7gyMR//+V6axIjsHT8jLf3tbzphqwnhZliFd6KMySmGjhw+1TCUtpTFNzdkA/qiTUvs9I+hyTGvlbqIia/YmYK953Bt7vsk0p2ZGTPb+CsObx5amZoZanTP6ZOcRw6XVziGWn327V7ltwwzn9KZpHqm80WxP0zz2/p9R5B2XUdtp0m6Qj+Pe6DxNN04jcXW+MKrZnGoaa3Zql9FF/7ZXktbSg9z7+y2u1qyMqoge04B4TOtA9DrHEqV1IB901042P0FpHbhav9kbpT0gT9eoc4Ep2RFBYtKAKC0Ar0+TvzBpgUQlzqQBMWlBRB7XlPaQo8uOIyePbR6DiRBo0gLxzDWImtVbT7B5HEDvxCkNiM1jIFHL6kwaEJMWSFTSlBZI1CVSShtEz96j0gKJmn9UWgDRa0fsPQbj3COIyNs6mTQgJg2I0oAoLZApu/yzXDc2K1FLDh5JI17NOYLoymzz2Imz2xP2RmmdGHFd2v9lJcdpOExaECYNTMR0lkkLoDxjjbjFu/zBxaoQRty5x6QBMWkBOCMyMTVyXEI3GTXHLDsikzPqrIfSOlF7t9Ue2HsEYtI6MPKm0ykp7REjb4GbY/PYmRHHNJPWgdGJU9oNyqccfuJJhfIMk9bI6J7iHiYNiElr4O2EbZg0ICatgVmSprQGRt7G/QylVTKDrA2l/ceVlJkem6y0gnK2Y28N49tXC9l7BPLZpM36YL0aPiFtT0jZxO1dU1Y2lbPwqeZxb1Z+5NqOXnwiaRvlM6n3RM2arpyfTdpbz6AeQcjdDVpff1r+3umSvdmL/HPb+/lrM6crp1vSyDWXRpdj2hNhPWt363dRklXSRVrZXW7ZGb1k5xWn9uwytWUI6T1e3Z4hemA7+sGqo+kmLR/vbH9vXNXo2ntwlB2Jsuy97flFXuvyH+3U1p1dNotXMn+BodLOBrN3dm5t6n6NUGl3JZVTS18Q0cLrMyJHj62620R+ganmHo9OMLacVf4Cryct52uJucs0SVNYPVMlTeqYJmlSj9KAKA2I0oAoDYjSgCgNiNKAKA2I0oAoDYjSgCgNiNKAKA2I0oAoDYjSgCgNiNKAKA2I0oAoDYjSgCgNiNKAKA2I0oAoDYjSgCgNiNKAKA2I0oAoDYjSgCgNiNKAKA2I0oAoDYjSgCgNiNKAKA2I0oD8C6/dDajaIlq3AAAAAElFTkSuQmCC\" y=\"-21.758125\"/>\n   </g>\n   <g id=\"matplotlib.axis_1\">\n    <g id=\"xtick_1\">\n     <g id=\"line2d_1\">\n      <defs>\n       <path d=\"M 0 0 \nL 0 3.5 \n\" id=\"m317a44ffb0\" style=\"stroke:#000000;stroke-width:0.8;\"/>\n      </defs>\n      <g>\n       <use style=\"stroke:#000000;stroke-width:0.8;\" x=\"39.673594\" xlink:href=\"#m317a44ffb0\" y=\"239.758125\"/>\n      </g>\n     </g>\n     <g id=\"text_1\">\n      <!-- 0 -->\n      <defs>\n       <path d=\"M 31.78125 66.40625 \nQ 24.171875 66.40625 20.328125 58.90625 \nQ 16.5 51.421875 16.5 36.375 \nQ 16.5 21.390625 20.328125 13.890625 \nQ 24.171875 6.390625 31.78125 6.390625 \nQ 39.453125 6.390625 43.28125 13.890625 \nQ 47.125 21.390625 47.125 36.375 \nQ 47.125 51.421875 43.28125 58.90625 \nQ 39.453125 66.40625 31.78125 66.40625 \nz\nM 31.78125 74.21875 \nQ 44.046875 74.21875 50.515625 64.515625 \nQ 56.984375 54.828125 56.984375 36.375 \nQ 56.984375 17.96875 50.515625 8.265625 \nQ 44.046875 -1.421875 31.78125 -1.421875 \nQ 19.53125 -1.421875 13.0625 8.265625 \nQ 6.59375 17.96875 6.59375 36.375 \nQ 6.59375 54.828125 13.0625 64.515625 \nQ 19.53125 74.21875 31.78125 74.21875 \nz\n\" id=\"DejaVuSans-48\"/>\n      </defs>\n      <g transform=\"translate(36.492344 254.356563)scale(0.1 -0.1)\">\n       <use xlink:href=\"#DejaVuSans-48\"/>\n      </g>\n     </g>\n    </g>\n    <g id=\"xtick_2\">\n     <g id=\"line2d_2\">\n      <g>\n       <use style=\"stroke:#000000;stroke-width:0.8;\" x=\"86.861094\" xlink:href=\"#m317a44ffb0\" y=\"239.758125\"/>\n      </g>\n     </g>\n     <g id=\"text_2\">\n      <!-- 1000 -->\n      <defs>\n       <path d=\"M 12.40625 8.296875 \nL 28.515625 8.296875 \nL 28.515625 63.921875 \nL 10.984375 60.40625 \nL 10.984375 69.390625 \nL 28.421875 72.90625 \nL 38.28125 72.90625 \nL 38.28125 8.296875 \nL 54.390625 8.296875 \nL 54.390625 0 \nL 12.40625 0 \nz\n\" id=\"DejaVuSans-49\"/>\n      </defs>\n      <g transform=\"translate(74.136094 254.356563)scale(0.1 -0.1)\">\n       <use xlink:href=\"#DejaVuSans-49\"/>\n       <use x=\"63.623047\" xlink:href=\"#DejaVuSans-48\"/>\n       <use x=\"127.246094\" xlink:href=\"#DejaVuSans-48\"/>\n       <use x=\"190.869141\" xlink:href=\"#DejaVuSans-48\"/>\n      </g>\n     </g>\n    </g>\n    <g id=\"xtick_3\">\n     <g id=\"line2d_3\">\n      <g>\n       <use style=\"stroke:#000000;stroke-width:0.8;\" x=\"134.048594\" xlink:href=\"#m317a44ffb0\" y=\"239.758125\"/>\n      </g>\n     </g>\n     <g id=\"text_3\">\n      <!-- 2000 -->\n      <defs>\n       <path d=\"M 19.1875 8.296875 \nL 53.609375 8.296875 \nL 53.609375 0 \nL 7.328125 0 \nL 7.328125 8.296875 \nQ 12.9375 14.109375 22.625 23.890625 \nQ 32.328125 33.6875 34.8125 36.53125 \nQ 39.546875 41.84375 41.421875 45.53125 \nQ 43.3125 49.21875 43.3125 52.78125 \nQ 43.3125 58.59375 39.234375 62.25 \nQ 35.15625 65.921875 28.609375 65.921875 \nQ 23.96875 65.921875 18.8125 64.3125 \nQ 13.671875 62.703125 7.8125 59.421875 \nL 7.8125 69.390625 \nQ 13.765625 71.78125 18.9375 73 \nQ 24.125 74.21875 28.421875 74.21875 \nQ 39.75 74.21875 46.484375 68.546875 \nQ 53.21875 62.890625 53.21875 53.421875 \nQ 53.21875 48.921875 51.53125 44.890625 \nQ 49.859375 40.875 45.40625 35.40625 \nQ 44.1875 33.984375 37.640625 27.21875 \nQ 31.109375 20.453125 19.1875 8.296875 \nz\n\" id=\"DejaVuSans-50\"/>\n      </defs>\n      <g transform=\"translate(121.323594 254.356563)scale(0.1 -0.1)\">\n       <use xlink:href=\"#DejaVuSans-50\"/>\n       <use x=\"63.623047\" xlink:href=\"#DejaVuSans-48\"/>\n       <use x=\"127.246094\" xlink:href=\"#DejaVuSans-48\"/>\n       <use x=\"190.869141\" xlink:href=\"#DejaVuSans-48\"/>\n      </g>\n     </g>\n    </g>\n   </g>\n   <g id=\"matplotlib.axis_2\">\n    <g id=\"ytick_1\">\n     <g id=\"line2d_4\">\n      <defs>\n       <path d=\"M 0 0 \nL -3.5 0 \n\" id=\"m2c21bbc944\" style=\"stroke:#000000;stroke-width:0.8;\"/>\n      </defs>\n      <g>\n       <use style=\"stroke:#000000;stroke-width:0.8;\" x=\"39.65\" xlink:href=\"#m2c21bbc944\" y=\"22.341719\"/>\n      </g>\n     </g>\n     <g id=\"text_4\">\n      <!-- 0 -->\n      <g transform=\"translate(26.2875 26.140938)scale(0.1 -0.1)\">\n       <use xlink:href=\"#DejaVuSans-48\"/>\n      </g>\n     </g>\n    </g>\n    <g id=\"ytick_2\">\n     <g id=\"line2d_5\">\n      <g>\n       <use style=\"stroke:#000000;stroke-width:0.8;\" x=\"39.65\" xlink:href=\"#m2c21bbc944\" y=\"69.529219\"/>\n      </g>\n     </g>\n     <g id=\"text_5\">\n      <!-- 1000 -->\n      <g transform=\"translate(7.2 73.328438)scale(0.1 -0.1)\">\n       <use xlink:href=\"#DejaVuSans-49\"/>\n       <use x=\"63.623047\" xlink:href=\"#DejaVuSans-48\"/>\n       <use x=\"127.246094\" xlink:href=\"#DejaVuSans-48\"/>\n       <use x=\"190.869141\" xlink:href=\"#DejaVuSans-48\"/>\n      </g>\n     </g>\n    </g>\n    <g id=\"ytick_3\">\n     <g id=\"line2d_6\">\n      <g>\n       <use style=\"stroke:#000000;stroke-width:0.8;\" x=\"39.65\" xlink:href=\"#m2c21bbc944\" y=\"116.716719\"/>\n      </g>\n     </g>\n     <g id=\"text_6\">\n      <!-- 2000 -->\n      <g transform=\"translate(7.2 120.515938)scale(0.1 -0.1)\">\n       <use xlink:href=\"#DejaVuSans-50\"/>\n       <use x=\"63.623047\" xlink:href=\"#DejaVuSans-48\"/>\n       <use x=\"127.246094\" xlink:href=\"#DejaVuSans-48\"/>\n       <use x=\"190.869141\" xlink:href=\"#DejaVuSans-48\"/>\n      </g>\n     </g>\n    </g>\n    <g id=\"ytick_4\">\n     <g id=\"line2d_7\">\n      <g>\n       <use style=\"stroke:#000000;stroke-width:0.8;\" x=\"39.65\" xlink:href=\"#m2c21bbc944\" y=\"163.904219\"/>\n      </g>\n     </g>\n     <g id=\"text_7\">\n      <!-- 3000 -->\n      <defs>\n       <path d=\"M 40.578125 39.3125 \nQ 47.65625 37.796875 51.625 33 \nQ 55.609375 28.21875 55.609375 21.1875 \nQ 55.609375 10.40625 48.1875 4.484375 \nQ 40.765625 -1.421875 27.09375 -1.421875 \nQ 22.515625 -1.421875 17.65625 -0.515625 \nQ 12.796875 0.390625 7.625 2.203125 \nL 7.625 11.71875 \nQ 11.71875 9.328125 16.59375 8.109375 \nQ 21.484375 6.890625 26.8125 6.890625 \nQ 36.078125 6.890625 40.9375 10.546875 \nQ 45.796875 14.203125 45.796875 21.1875 \nQ 45.796875 27.640625 41.28125 31.265625 \nQ 36.765625 34.90625 28.71875 34.90625 \nL 20.21875 34.90625 \nL 20.21875 43.015625 \nL 29.109375 43.015625 \nQ 36.375 43.015625 40.234375 45.921875 \nQ 44.09375 48.828125 44.09375 54.296875 \nQ 44.09375 59.90625 40.109375 62.90625 \nQ 36.140625 65.921875 28.71875 65.921875 \nQ 24.65625 65.921875 20.015625 65.03125 \nQ 15.375 64.15625 9.8125 62.3125 \nL 9.8125 71.09375 \nQ 15.4375 72.65625 20.34375 73.4375 \nQ 25.25 74.21875 29.59375 74.21875 \nQ 40.828125 74.21875 47.359375 69.109375 \nQ 53.90625 64.015625 53.90625 55.328125 \nQ 53.90625 49.265625 50.4375 45.09375 \nQ 46.96875 40.921875 40.578125 39.3125 \nz\n\" id=\"DejaVuSans-51\"/>\n      </defs>\n      <g transform=\"translate(7.2 167.703438)scale(0.1 -0.1)\">\n       <use xlink:href=\"#DejaVuSans-51\"/>\n       <use x=\"63.623047\" xlink:href=\"#DejaVuSans-48\"/>\n       <use x=\"127.246094\" xlink:href=\"#DejaVuSans-48\"/>\n       <use x=\"190.869141\" xlink:href=\"#DejaVuSans-48\"/>\n      </g>\n     </g>\n    </g>\n    <g id=\"ytick_5\">\n     <g id=\"line2d_8\">\n      <g>\n       <use style=\"stroke:#000000;stroke-width:0.8;\" x=\"39.65\" xlink:href=\"#m2c21bbc944\" y=\"211.091719\"/>\n      </g>\n     </g>\n     <g id=\"text_8\">\n      <!-- 4000 -->\n      <defs>\n       <path d=\"M 37.796875 64.3125 \nL 12.890625 25.390625 \nL 37.796875 25.390625 \nz\nM 35.203125 72.90625 \nL 47.609375 72.90625 \nL 47.609375 25.390625 \nL 58.015625 25.390625 \nL 58.015625 17.1875 \nL 47.609375 17.1875 \nL 47.609375 0 \nL 37.796875 0 \nL 37.796875 17.1875 \nL 4.890625 17.1875 \nL 4.890625 26.703125 \nz\n\" id=\"DejaVuSans-52\"/>\n      </defs>\n      <g transform=\"translate(7.2 214.890938)scale(0.1 -0.1)\">\n       <use xlink:href=\"#DejaVuSans-52\"/>\n       <use x=\"63.623047\" xlink:href=\"#DejaVuSans-48\"/>\n       <use x=\"127.246094\" xlink:href=\"#DejaVuSans-48\"/>\n       <use x=\"190.869141\" xlink:href=\"#DejaVuSans-48\"/>\n      </g>\n     </g>\n    </g>\n   </g>\n   <g id=\"patch_3\">\n    <path d=\"M 39.65 239.758125 \nL 39.65 22.318125 \n\" style=\"fill:none;stroke:#000000;stroke-linecap:square;stroke-linejoin:miter;stroke-width:0.8;\"/>\n   </g>\n   <g id=\"patch_4\">\n    <path d=\"M 148.37 239.758125 \nL 148.37 22.318125 \n\" style=\"fill:none;stroke:#000000;stroke-linecap:square;stroke-linejoin:miter;stroke-width:0.8;\"/>\n   </g>\n   <g id=\"patch_5\">\n    <path d=\"M 39.65 239.758125 \nL 148.37 239.758125 \n\" style=\"fill:none;stroke:#000000;stroke-linecap:square;stroke-linejoin:miter;stroke-width:0.8;\"/>\n   </g>\n   <g id=\"patch_6\">\n    <path d=\"M 39.65 22.318125 \nL 148.37 22.318125 \n\" style=\"fill:none;stroke:#000000;stroke-linecap:square;stroke-linejoin:miter;stroke-width:0.8;\"/>\n   </g>\n   <g id=\"text_9\">\n    <!-- Canny -->\n    <defs>\n     <path d=\"M 64.40625 67.28125 \nL 64.40625 56.890625 \nQ 59.421875 61.53125 53.78125 63.8125 \nQ 48.140625 66.109375 41.796875 66.109375 \nQ 29.296875 66.109375 22.65625 58.46875 \nQ 16.015625 50.828125 16.015625 36.375 \nQ 16.015625 21.96875 22.65625 14.328125 \nQ 29.296875 6.6875 41.796875 6.6875 \nQ 48.140625 6.6875 53.78125 8.984375 \nQ 59.421875 11.28125 64.40625 15.921875 \nL 64.40625 5.609375 \nQ 59.234375 2.09375 53.4375 0.328125 \nQ 47.65625 -1.421875 41.21875 -1.421875 \nQ 24.65625 -1.421875 15.125 8.703125 \nQ 5.609375 18.84375 5.609375 36.375 \nQ 5.609375 53.953125 15.125 64.078125 \nQ 24.65625 74.21875 41.21875 74.21875 \nQ 47.75 74.21875 53.53125 72.484375 \nQ 59.328125 70.75 64.40625 67.28125 \nz\n\" id=\"DejaVuSans-67\"/>\n     <path d=\"M 34.28125 27.484375 \nQ 23.390625 27.484375 19.1875 25 \nQ 14.984375 22.515625 14.984375 16.5 \nQ 14.984375 11.71875 18.140625 8.90625 \nQ 21.296875 6.109375 26.703125 6.109375 \nQ 34.1875 6.109375 38.703125 11.40625 \nQ 43.21875 16.703125 43.21875 25.484375 \nL 43.21875 27.484375 \nz\nM 52.203125 31.203125 \nL 52.203125 0 \nL 43.21875 0 \nL 43.21875 8.296875 \nQ 40.140625 3.328125 35.546875 0.953125 \nQ 30.953125 -1.421875 24.3125 -1.421875 \nQ 15.921875 -1.421875 10.953125 3.296875 \nQ 6 8.015625 6 15.921875 \nQ 6 25.140625 12.171875 29.828125 \nQ 18.359375 34.515625 30.609375 34.515625 \nL 43.21875 34.515625 \nL 43.21875 35.40625 \nQ 43.21875 41.609375 39.140625 45 \nQ 35.0625 48.390625 27.6875 48.390625 \nQ 23 48.390625 18.546875 47.265625 \nQ 14.109375 46.140625 10.015625 43.890625 \nL 10.015625 52.203125 \nQ 14.9375 54.109375 19.578125 55.046875 \nQ 24.21875 56 28.609375 56 \nQ 40.484375 56 46.34375 49.84375 \nQ 52.203125 43.703125 52.203125 31.203125 \nz\n\" id=\"DejaVuSans-97\"/>\n     <path d=\"M 54.890625 33.015625 \nL 54.890625 0 \nL 45.90625 0 \nL 45.90625 32.71875 \nQ 45.90625 40.484375 42.875 44.328125 \nQ 39.84375 48.1875 33.796875 48.1875 \nQ 26.515625 48.1875 22.3125 43.546875 \nQ 18.109375 38.921875 18.109375 30.90625 \nL 18.109375 0 \nL 9.078125 0 \nL 9.078125 54.6875 \nL 18.109375 54.6875 \nL 18.109375 46.1875 \nQ 21.34375 51.125 25.703125 53.5625 \nQ 30.078125 56 35.796875 56 \nQ 45.21875 56 50.046875 50.171875 \nQ 54.890625 44.34375 54.890625 33.015625 \nz\n\" id=\"DejaVuSans-110\"/>\n     <path d=\"M 32.171875 -5.078125 \nQ 28.375 -14.84375 24.75 -17.8125 \nQ 21.140625 -20.796875 15.09375 -20.796875 \nL 7.90625 -20.796875 \nL 7.90625 -13.28125 \nL 13.1875 -13.28125 \nQ 16.890625 -13.28125 18.9375 -11.515625 \nQ 21 -9.765625 23.484375 -3.21875 \nL 25.09375 0.875 \nL 2.984375 54.6875 \nL 12.5 54.6875 \nL 29.59375 11.921875 \nL 46.6875 54.6875 \nL 56.203125 54.6875 \nz\n\" id=\"DejaVuSans-121\"/>\n    </defs>\n    <g transform=\"translate(74.987187 16.318125)scale(0.12 -0.12)\">\n     <use xlink:href=\"#DejaVuSans-67\"/>\n     <use x=\"69.824219\" xlink:href=\"#DejaVuSans-97\"/>\n     <use x=\"131.103516\" xlink:href=\"#DejaVuSans-110\"/>\n     <use x=\"194.482422\" xlink:href=\"#DejaVuSans-110\"/>\n     <use x=\"257.861328\" xlink:href=\"#DejaVuSans-121\"/>\n    </g>\n   </g>\n  </g>\n </g>\n <defs>\n  <clipPath id=\"p3ab50ac97a\">\n   <rect height=\"217.44\" width=\"108.72\" x=\"39.65\" y=\"22.318125\"/>\n  </clipPath>\n </defs>\n</svg>\n",
      "image/png": "[encoded data removed]"
     },
     "metadata": {
      "needs_background": "light"
     }
    }
   ],
   "source": [
    "canny = cv2.Canny(dilate,0,30)\n",
    "height,width = canny.shape\n",
    "plt.imshow(canny, cmap=\"gray\")\n",
    "plt.title(\"Canny\")"
   ]
  },
  {
   "cell_type": "code",
   "execution_count": 9,
   "metadata": {},
   "outputs": [],
   "source": [
    "def align_straight(cannyImg):\n",
    "        img,contours,hierachies = cv2.findContours(cannyImg,cv2.RETR_TREE,cv2.CHAIN_APPROX_NONE)\n",
    "        rotAngle = 0\n",
    "        for i,contour in enumerate(contours):\n",
    "            hNext, hPrev, hChild, hParent = hierachies[0][i]\n",
    "            minArea = cv2.minAreaRect(contour)\n",
    "            contWidth = minArea[1][0]\n",
    "            contHeight = minArea[1][1]\n",
    "            contAngle = minArea[2]       \n",
    "            #print(contHeight, contWidth, contAngle)\\n\",\n",
    "    \n",
    "            if (contWidth<contHeight):\n",
    "                height = contWidth\n",
    "                width = contHeight\n",
    "                rotAngle = 90\n",
    "            else:\n",
    "                height = contHeight\n",
    "                width = contWidth\n",
    "                rotAngle = 0\n",
    "            \n",
    "            if(height==0) or (width==0):\n",
    "                scale = -1\n",
    "                fillFactor = -1\n",
    "            else:\n",
    "                scale = width/height\n",
    "                area_rect = height*width\n",
    "                letter_rect = cv2.contourArea(contour)\n",
    "                fillFactor = letter_rect/area_rect\n",
    "                #print(\\\"Contour: \\\",i, \\\" / scale: \\\",scale,\\\" / width: \\\",width, \\\" / height:\\\",height,\\\"/ Fill:\\\",fillFactor)\n",
    "            if(scale>C_5_6_Scale[0] and scale<C_5_6_Scale[1]) and (hChild != -1) and (hParent == -1) and (fillFactor > 0.95):\n",
    "                #print(\\\"ALL CRITERIA TRUE: Contour: \\\",i, \\\" / scale: \\\",scale,\\\" / width: \\\",width, \\\" / height:\\\",height,\\\"/ Fill:\\\",fillFactor)\n",
    "                rotAngle -= contAngle\n",
    "                return im.rotate_bound(cannyImg,rotAngle), rotAngle"
   ]
  },
  {
   "cell_type": "code",
   "execution_count": 10,
   "metadata": {},
   "outputs": [
    {
     "output_type": "execute_result",
     "data": {
      "text/plain": [
       "<matplotlib.image.AxesImage at 0x7fa6420d8d50>"
      ]
     },
     "metadata": {},
     "execution_count": 10
    },
    {
     "output_type": "display_data",
     "data": {
      "text/plain": "<Figure size 432x288 with 1 Axes>",
      "image/svg+xml": "<?xml version=\"1.0\" encoding=\"utf-8\" standalone=\"no\"?>\n<!DOCTYPE svg PUBLIC \"-//W3C//DTD SVG 1.1//EN\"\n  \"http://www.w3.org/Graphics/SVG/1.1/DTD/svg11.dtd\">\n<!-- Created with matplotlib (https://matplotlib.org/) -->\n<svg height=\"252.29375pt\" version=\"1.1\" viewBox=\"0 0 155.57 252.29375\" width=\"155.57pt\" xmlns=\"http://www.w3.org/2000/svg\" xmlns:xlink=\"http://www.w3.org/1999/xlink\">\n <defs>\n  <style type=\"text/css\">\n*{stroke-linecap:butt;stroke-linejoin:round;}\n  </style>\n </defs>\n <g id=\"figure_1\">\n  <g id=\"patch_1\">\n   <path d=\"M 0 252.29375 \nL 155.57 252.29375 \nL 155.57 0 \nL 0 0 \nz\n\" style=\"fill:none;\"/>\n  </g>\n  <g id=\"axes_1\">\n   <g id=\"patch_2\">\n    <path d=\"M 39.65 228.415625 \nL 148.37 228.415625 \nL 148.37 10.975625 \nL 39.65 10.975625 \nz\n\" style=\"fill:#ffffff;\"/>\n   </g>\n   <g clip-path=\"url(#pf97f981abc)\">\n    <image height=\"218\" id=\"image9eef87589f\" transform=\"scale(1 -1)translate(0 -218)\" width=\"109\" x=\"39.65\" xlink:href=\"data:image/png;base64,\niVBORw0KGgoAAAANSUhEUgAAAG0AAADaCAYAAACsN8ybAAAABHNCSVQICAgIfAhkiAAABRhJREFUeJztndu2qygUBbH//5/th9P2YHC8gLKQilVvO8kOxmIiIOqSUlqToPjn7Q2QdpQGRGlAlAZEaUCUBkRpQJQGRGlAlAZEaUCUBkRpQJQGRGlAlAZEaUCUBkRpQJQGRGlAlAZEaUCUBkRpQJQGRGlAlAZEaUCUBkRpQJQGRGlAlAZEaUCUBkRpQJQGRGlAlAZEaUCUBkRpQJQGRGlAlAZEaUCUBkRpQJQGRGlAlAZEaUCUBkRpQJQGRGmNrOv7z55Ykk/AwGHSGpghZSkprYllWVJK78tTGhCl3WBLXMmoBCqtgSspRzJ7o7RK1nWtTlh04uzyAxmWtK327dXCdV0PXz/7++r1SM7KzN+L2LahSTtrYvY+m9L5Qb987+r7W8pv+Y4e39tCt6SVSapJxVktXJbldEfsvXc0jrqqAC2clbsHJmn5hrbsqKMaeyd1v0yXpO3VpjwptbXtSNhV6vIyrsrqXfPfOJ52TVpZ448Scpao3mm6U9bT744mVNrdz0TQ87jWWm7vMsOOaT1T0ZsZeoBP6CKN9IMjthXX5ScI2+vNHnVc7gyMR//+V6axIjsHT8jLf3tbzphqwnhZliFd6KMySmGjhw+1TCUtpTFNzdkA/qiTUvs9I+hyTGvlbqIia/YmYK953Bt7vsk0p2ZGTPb+CsObx5amZoZanTP6ZOcRw6XVziGWn327V7ltwwzn9KZpHqm80WxP0zz2/p9R5B2XUdtp0m6Qj+Pe6DxNN04jcXW+MKrZnGoaa3Zql9FF/7ZXktbSg9z7+y2u1qyMqoge04B4TOtA9DrHEqV1IB901042P0FpHbhav9kbpT0gT9eoc4Ep2RFBYtKAKC0Ar0+TvzBpgUQlzqQBMWlBRB7XlPaQo8uOIyePbR6DiRBo0gLxzDWImtVbT7B5HEDvxCkNiM1jIFHL6kwaEJMWSFTSlBZI1CVSShtEz96j0gKJmn9UWgDRa0fsPQbj3COIyNs6mTQgJg2I0oAoLZApu/yzXDc2K1FLDh5JI17NOYLoymzz2Imz2xP2RmmdGHFd2v9lJcdpOExaECYNTMR0lkkLoDxjjbjFu/zBxaoQRty5x6QBMWkBOCMyMTVyXEI3GTXHLDsikzPqrIfSOlF7t9Ue2HsEYtI6MPKm0ykp7REjb4GbY/PYmRHHNJPWgdGJU9oNyqccfuJJhfIMk9bI6J7iHiYNiElr4O2EbZg0ICatgVmSprQGRt7G/QylVTKDrA2l/ceVlJkem6y0gnK2Y28N49tXC9l7BPLZpM36YL0aPiFtT0jZxO1dU1Y2lbPwqeZxb1Z+5NqOXnwiaRvlM6n3RM2arpyfTdpbz6AeQcjdDVpff1r+3umSvdmL/HPb+/lrM6crp1vSyDWXRpdj2hNhPWt363dRklXSRVrZXW7ZGb1k5xWn9uwytWUI6T1e3Z4hemA7+sGqo+kmLR/vbH9vXNXo2ntwlB2Jsuy97flFXuvyH+3U1p1dNotXMn+BodLOBrN3dm5t6n6NUGl3JZVTS18Q0cLrMyJHj62620R+ganmHo9OMLacVf4Cryct52uJucs0SVNYPVMlTeqYJmlSj9KAKA2I0oAoDYjSgCgNiNKAKA2I0oAoDYjSgCgNiNKAKA2I0oAoDYjSgCgNiNKAKA2I0oAoDYjSgCgNiNKAKA2I0oAoDYjSgCgNiNKAKA2I0oAoDYjSgCgNiNKAKA2I0oAoDYjSgCgNiNKAKA2I0oD8C6/dDajaIlq3AAAAAElFTkSuQmCC\" y=\"-10.415625\"/>\n   </g>\n   <g id=\"matplotlib.axis_1\">\n    <g id=\"xtick_1\">\n     <g id=\"line2d_1\">\n      <defs>\n       <path d=\"M 0 0 \nL 0 3.5 \n\" id=\"m96219f89dd\" style=\"stroke:#000000;stroke-width:0.8;\"/>\n      </defs>\n      <g>\n       <use style=\"stroke:#000000;stroke-width:0.8;\" x=\"39.673594\" xlink:href=\"#m96219f89dd\" y=\"228.415625\"/>\n      </g>\n     </g>\n     <g id=\"text_1\">\n      <!-- 0 -->\n      <defs>\n       <path d=\"M 31.78125 66.40625 \nQ 24.171875 66.40625 20.328125 58.90625 \nQ 16.5 51.421875 16.5 36.375 \nQ 16.5 21.390625 20.328125 13.890625 \nQ 24.171875 6.390625 31.78125 6.390625 \nQ 39.453125 6.390625 43.28125 13.890625 \nQ 47.125 21.390625 47.125 36.375 \nQ 47.125 51.421875 43.28125 58.90625 \nQ 39.453125 66.40625 31.78125 66.40625 \nz\nM 31.78125 74.21875 \nQ 44.046875 74.21875 50.515625 64.515625 \nQ 56.984375 54.828125 56.984375 36.375 \nQ 56.984375 17.96875 50.515625 8.265625 \nQ 44.046875 -1.421875 31.78125 -1.421875 \nQ 19.53125 -1.421875 13.0625 8.265625 \nQ 6.59375 17.96875 6.59375 36.375 \nQ 6.59375 54.828125 13.0625 64.515625 \nQ 19.53125 74.21875 31.78125 74.21875 \nz\n\" id=\"DejaVuSans-48\"/>\n      </defs>\n      <g transform=\"translate(36.492344 243.014062)scale(0.1 -0.1)\">\n       <use xlink:href=\"#DejaVuSans-48\"/>\n      </g>\n     </g>\n    </g>\n    <g id=\"xtick_2\">\n     <g id=\"line2d_2\">\n      <g>\n       <use style=\"stroke:#000000;stroke-width:0.8;\" x=\"86.861094\" xlink:href=\"#m96219f89dd\" y=\"228.415625\"/>\n      </g>\n     </g>\n     <g id=\"text_2\">\n      <!-- 1000 -->\n      <defs>\n       <path d=\"M 12.40625 8.296875 \nL 28.515625 8.296875 \nL 28.515625 63.921875 \nL 10.984375 60.40625 \nL 10.984375 69.390625 \nL 28.421875 72.90625 \nL 38.28125 72.90625 \nL 38.28125 8.296875 \nL 54.390625 8.296875 \nL 54.390625 0 \nL 12.40625 0 \nz\n\" id=\"DejaVuSans-49\"/>\n      </defs>\n      <g transform=\"translate(74.136094 243.014062)scale(0.1 -0.1)\">\n       <use xlink:href=\"#DejaVuSans-49\"/>\n       <use x=\"63.623047\" xlink:href=\"#DejaVuSans-48\"/>\n       <use x=\"127.246094\" xlink:href=\"#DejaVuSans-48\"/>\n       <use x=\"190.869141\" xlink:href=\"#DejaVuSans-48\"/>\n      </g>\n     </g>\n    </g>\n    <g id=\"xtick_3\">\n     <g id=\"line2d_3\">\n      <g>\n       <use style=\"stroke:#000000;stroke-width:0.8;\" x=\"134.048594\" xlink:href=\"#m96219f89dd\" y=\"228.415625\"/>\n      </g>\n     </g>\n     <g id=\"text_3\">\n      <!-- 2000 -->\n      <defs>\n       <path d=\"M 19.1875 8.296875 \nL 53.609375 8.296875 \nL 53.609375 0 \nL 7.328125 0 \nL 7.328125 8.296875 \nQ 12.9375 14.109375 22.625 23.890625 \nQ 32.328125 33.6875 34.8125 36.53125 \nQ 39.546875 41.84375 41.421875 45.53125 \nQ 43.3125 49.21875 43.3125 52.78125 \nQ 43.3125 58.59375 39.234375 62.25 \nQ 35.15625 65.921875 28.609375 65.921875 \nQ 23.96875 65.921875 18.8125 64.3125 \nQ 13.671875 62.703125 7.8125 59.421875 \nL 7.8125 69.390625 \nQ 13.765625 71.78125 18.9375 73 \nQ 24.125 74.21875 28.421875 74.21875 \nQ 39.75 74.21875 46.484375 68.546875 \nQ 53.21875 62.890625 53.21875 53.421875 \nQ 53.21875 48.921875 51.53125 44.890625 \nQ 49.859375 40.875 45.40625 35.40625 \nQ 44.1875 33.984375 37.640625 27.21875 \nQ 31.109375 20.453125 19.1875 8.296875 \nz\n\" id=\"DejaVuSans-50\"/>\n      </defs>\n      <g transform=\"translate(121.323594 243.014062)scale(0.1 -0.1)\">\n       <use xlink:href=\"#DejaVuSans-50\"/>\n       <use x=\"63.623047\" xlink:href=\"#DejaVuSans-48\"/>\n       <use x=\"127.246094\" xlink:href=\"#DejaVuSans-48\"/>\n       <use x=\"190.869141\" xlink:href=\"#DejaVuSans-48\"/>\n      </g>\n     </g>\n    </g>\n   </g>\n   <g id=\"matplotlib.axis_2\">\n    <g id=\"ytick_1\">\n     <g id=\"line2d_4\">\n      <defs>\n       <path d=\"M 0 0 \nL -3.5 0 \n\" id=\"mcd545164c6\" style=\"stroke:#000000;stroke-width:0.8;\"/>\n      </defs>\n      <g>\n       <use style=\"stroke:#000000;stroke-width:0.8;\" x=\"39.65\" xlink:href=\"#mcd545164c6\" y=\"10.999219\"/>\n      </g>\n     </g>\n     <g id=\"text_4\">\n      <!-- 0 -->\n      <g transform=\"translate(26.2875 14.798438)scale(0.1 -0.1)\">\n       <use xlink:href=\"#DejaVuSans-48\"/>\n      </g>\n     </g>\n    </g>\n    <g id=\"ytick_2\">\n     <g id=\"line2d_5\">\n      <g>\n       <use style=\"stroke:#000000;stroke-width:0.8;\" x=\"39.65\" xlink:href=\"#mcd545164c6\" y=\"58.186719\"/>\n      </g>\n     </g>\n     <g id=\"text_5\">\n      <!-- 1000 -->\n      <g transform=\"translate(7.2 61.985938)scale(0.1 -0.1)\">\n       <use xlink:href=\"#DejaVuSans-49\"/>\n       <use x=\"63.623047\" xlink:href=\"#DejaVuSans-48\"/>\n       <use x=\"127.246094\" xlink:href=\"#DejaVuSans-48\"/>\n       <use x=\"190.869141\" xlink:href=\"#DejaVuSans-48\"/>\n      </g>\n     </g>\n    </g>\n    <g id=\"ytick_3\">\n     <g id=\"line2d_6\">\n      <g>\n       <use style=\"stroke:#000000;stroke-width:0.8;\" x=\"39.65\" xlink:href=\"#mcd545164c6\" y=\"105.374219\"/>\n      </g>\n     </g>\n     <g id=\"text_6\">\n      <!-- 2000 -->\n      <g transform=\"translate(7.2 109.173438)scale(0.1 -0.1)\">\n       <use xlink:href=\"#DejaVuSans-50\"/>\n       <use x=\"63.623047\" xlink:href=\"#DejaVuSans-48\"/>\n       <use x=\"127.246094\" xlink:href=\"#DejaVuSans-48\"/>\n       <use x=\"190.869141\" xlink:href=\"#DejaVuSans-48\"/>\n      </g>\n     </g>\n    </g>\n    <g id=\"ytick_4\">\n     <g id=\"line2d_7\">\n      <g>\n       <use style=\"stroke:#000000;stroke-width:0.8;\" x=\"39.65\" xlink:href=\"#mcd545164c6\" y=\"152.561719\"/>\n      </g>\n     </g>\n     <g id=\"text_7\">\n      <!-- 3000 -->\n      <defs>\n       <path d=\"M 40.578125 39.3125 \nQ 47.65625 37.796875 51.625 33 \nQ 55.609375 28.21875 55.609375 21.1875 \nQ 55.609375 10.40625 48.1875 4.484375 \nQ 40.765625 -1.421875 27.09375 -1.421875 \nQ 22.515625 -1.421875 17.65625 -0.515625 \nQ 12.796875 0.390625 7.625 2.203125 \nL 7.625 11.71875 \nQ 11.71875 9.328125 16.59375 8.109375 \nQ 21.484375 6.890625 26.8125 6.890625 \nQ 36.078125 6.890625 40.9375 10.546875 \nQ 45.796875 14.203125 45.796875 21.1875 \nQ 45.796875 27.640625 41.28125 31.265625 \nQ 36.765625 34.90625 28.71875 34.90625 \nL 20.21875 34.90625 \nL 20.21875 43.015625 \nL 29.109375 43.015625 \nQ 36.375 43.015625 40.234375 45.921875 \nQ 44.09375 48.828125 44.09375 54.296875 \nQ 44.09375 59.90625 40.109375 62.90625 \nQ 36.140625 65.921875 28.71875 65.921875 \nQ 24.65625 65.921875 20.015625 65.03125 \nQ 15.375 64.15625 9.8125 62.3125 \nL 9.8125 71.09375 \nQ 15.4375 72.65625 20.34375 73.4375 \nQ 25.25 74.21875 29.59375 74.21875 \nQ 40.828125 74.21875 47.359375 69.109375 \nQ 53.90625 64.015625 53.90625 55.328125 \nQ 53.90625 49.265625 50.4375 45.09375 \nQ 46.96875 40.921875 40.578125 39.3125 \nz\n\" id=\"DejaVuSans-51\"/>\n      </defs>\n      <g transform=\"translate(7.2 156.360938)scale(0.1 -0.1)\">\n       <use xlink:href=\"#DejaVuSans-51\"/>\n       <use x=\"63.623047\" xlink:href=\"#DejaVuSans-48\"/>\n       <use x=\"127.246094\" xlink:href=\"#DejaVuSans-48\"/>\n       <use x=\"190.869141\" xlink:href=\"#DejaVuSans-48\"/>\n      </g>\n     </g>\n    </g>\n    <g id=\"ytick_5\">\n     <g id=\"line2d_8\">\n      <g>\n       <use style=\"stroke:#000000;stroke-width:0.8;\" x=\"39.65\" xlink:href=\"#mcd545164c6\" y=\"199.749219\"/>\n      </g>\n     </g>\n     <g id=\"text_8\">\n      <!-- 4000 -->\n      <defs>\n       <path d=\"M 37.796875 64.3125 \nL 12.890625 25.390625 \nL 37.796875 25.390625 \nz\nM 35.203125 72.90625 \nL 47.609375 72.90625 \nL 47.609375 25.390625 \nL 58.015625 25.390625 \nL 58.015625 17.1875 \nL 47.609375 17.1875 \nL 47.609375 0 \nL 37.796875 0 \nL 37.796875 17.1875 \nL 4.890625 17.1875 \nL 4.890625 26.703125 \nz\n\" id=\"DejaVuSans-52\"/>\n      </defs>\n      <g transform=\"translate(7.2 203.548438)scale(0.1 -0.1)\">\n       <use xlink:href=\"#DejaVuSans-52\"/>\n       <use x=\"63.623047\" xlink:href=\"#DejaVuSans-48\"/>\n       <use x=\"127.246094\" xlink:href=\"#DejaVuSans-48\"/>\n       <use x=\"190.869141\" xlink:href=\"#DejaVuSans-48\"/>\n      </g>\n     </g>\n    </g>\n   </g>\n   <g id=\"patch_3\">\n    <path d=\"M 39.65 228.415625 \nL 39.65 10.975625 \n\" style=\"fill:none;stroke:#000000;stroke-linecap:square;stroke-linejoin:miter;stroke-width:0.8;\"/>\n   </g>\n   <g id=\"patch_4\">\n    <path d=\"M 148.37 228.415625 \nL 148.37 10.975625 \n\" style=\"fill:none;stroke:#000000;stroke-linecap:square;stroke-linejoin:miter;stroke-width:0.8;\"/>\n   </g>\n   <g id=\"patch_5\">\n    <path d=\"M 39.65 228.415625 \nL 148.37 228.415625 \n\" style=\"fill:none;stroke:#000000;stroke-linecap:square;stroke-linejoin:miter;stroke-width:0.8;\"/>\n   </g>\n   <g id=\"patch_6\">\n    <path d=\"M 39.65 10.975625 \nL 148.37 10.975625 \n\" style=\"fill:none;stroke:#000000;stroke-linecap:square;stroke-linejoin:miter;stroke-width:0.8;\"/>\n   </g>\n  </g>\n </g>\n <defs>\n  <clipPath id=\"pf97f981abc\">\n   <rect height=\"217.44\" width=\"108.72\" x=\"39.65\" y=\"10.975625\"/>\n  </clipPath>\n </defs>\n</svg>\n",
      "image/png": "[encoded data removed]"
     },
     "metadata": {
      "needs_background": "light"
     }
    }
   ],
   "source": [
    "plt.imshow(canny,cmap=\"gray\")"
   ]
  },
  {
   "cell_type": "code",
   "execution_count": 11,
   "metadata": {},
   "outputs": [
    {
     "output_type": "error",
     "ename": "TypeError",
     "evalue": "cannot unpack non-iterable NoneType object",
     "traceback": [
      "\u001b[0;31m---------------------------------------------------------------------------\u001b[0m",
      "\u001b[0;31mTypeError\u001b[0m                                 Traceback (most recent call last)",
      "\u001b[0;32m<ipython-input-11-6c282b12e1bc>\u001b[0m in \u001b[0;36m<module>\u001b[0;34m\u001b[0m\n\u001b[0;32m----> 1\u001b[0;31m \u001b[0;34m[\u001b[0m\u001b[0maligned_image\u001b[0m\u001b[0;34m,\u001b[0m\u001b[0mletterAngle\u001b[0m\u001b[0;34m]\u001b[0m \u001b[0;34m=\u001b[0m \u001b[0malign_straight\u001b[0m\u001b[0;34m(\u001b[0m\u001b[0mdilate\u001b[0m\u001b[0;34m)\u001b[0m\u001b[0;34m\u001b[0m\u001b[0;34m\u001b[0m\u001b[0m\n\u001b[0m\u001b[1;32m      2\u001b[0m \u001b[0mplt\u001b[0m\u001b[0;34m.\u001b[0m\u001b[0mimshow\u001b[0m\u001b[0;34m(\u001b[0m\u001b[0maligned_image\u001b[0m\u001b[0;34m,\u001b[0m\u001b[0mcmap\u001b[0m\u001b[0;34m=\u001b[0m\u001b[0;34m\"gray\"\u001b[0m\u001b[0;34m)\u001b[0m\u001b[0;34m\u001b[0m\u001b[0;34m\u001b[0m\u001b[0m\n\u001b[1;32m      3\u001b[0m \u001b[0mplt\u001b[0m\u001b[0;34m.\u001b[0m\u001b[0mtitle\u001b[0m\u001b[0;34m(\u001b[0m\u001b[0;34m\"straight-aligned\"\u001b[0m\u001b[0;34m)\u001b[0m\u001b[0;34m\u001b[0m\u001b[0;34m\u001b[0m\u001b[0m\n",
      "\u001b[0;31mTypeError\u001b[0m: cannot unpack non-iterable NoneType object"
     ]
    }
   ],
   "source": [
    "[aligned_image,letterAngle] = align_straight(dilate)\n",
    "plt.imshow(aligned_image,cmap=\"gray\")\n",
    "plt.title(\"straight-aligned\")"
   ]
  },
  {
   "cell_type": "code",
   "execution_count": null,
   "metadata": {},
   "outputs": [],
   "source": [
    "img,contours,hierachy = cv2.findContours(aligned_image,cv2.RETR_TREE,cv2.CHAIN_APPROX_NONE)\n",
    "# Hierarchie [Previous, Next, Child, Parent]"
   ]
  },
  {
   "source": [
    "def sizeSort(element):\n",
    "    return len(element)\n",
    "contours.sort(reverse=True,key=sizeSort)\n",
    "# Print the 5 biggest Contoursizes\n",
    "for index,contour in enumerate(contours):\n",
    "    if(index<6):\n",
    "        print(contour.size)"
   ],
   "cell_type": "code",
   "metadata": {
    "tags": []
   },
   "execution_count": null,
   "outputs": []
  },
  {
   "source": [
    "## Get the Moments\n",
    "https://docs.opencv.org/3.1.0/dd/d49/tutorial_py_contour_features.html"
   ],
   "cell_type": "markdown",
   "metadata": {}
  },
  {
   "cell_type": "code",
   "execution_count": null,
   "metadata": {
    "tags": []
   },
   "outputs": [],
   "source": [
    "# https://docs.opencv.org/3.1.0/dd/d49/tutorial_py_contour_features.html\n",
    "def findLetter(img):\n",
    "        img,contours,hierachies = cv2.findContours(img,cv2.RETR_TREE,cv2.CHAIN_APPROX_NONE) \n",
    "        letter ={} \n",
    "        for i,contour in enumerate(contours): \n",
    "            hNext, hPrev, hChild, hParent = hierachies[0][i] \n",
    "            minArea = cv2.minAreaRect(contour) \n",
    "             \n",
    "            rectWidth = minArea[1][0] \n",
    "            rectHeight = minArea[1][1] \n",
    "            if (rectHeight<rectWidth): \n",
    "                height = rectHeight \n",
    "                width = rectWidth \n",
    "            else: \n",
    "                height = rectWidth \n",
    "                width = rectHeight \n",
    "             \n",
    "            if(height==0 or width==0): \n",
    "                scale = -1 \n",
    "                fillFactor = -1 \n",
    "            else: \n",
    "                scale = width/height \n",
    "                area_rect = height*width \n",
    "                letter_rect = cv2.contourArea(contour) \n",
    "                fillFactor = letter_rect/area_rect \n",
    "                 \n",
    "            if(scale>C_5_6_Scale[0] and scale<C_5_6_Scale[1]) and (hChild != -1) and (hParent == -1) and (fillFactor > 0.95): \n",
    "                #print(\\\"Contour: \\\",i, \\\" / scale: \\\",scale,\\\" / width: \\\",width, \\\" / height:\\\",height,\\\"/ Fill:\\\",fillFactor) \n",
    "                letter = { \n",
    "                    \"width\": int(width), \n",
    "                    \"height\" : int(height), \n",
    "                    \"centerX\" : int(minArea[0][0]), \n",
    "                    \"centerY\" : int(minArea[0][1]), \n",
    "                    \"contour\": contour \n",
    "                    } \n",
    "                return letter"
   ]
  },
  {
   "cell_type": "code",
   "execution_count": null,
   "metadata": {},
   "outputs": [],
   "source": [
    "letterValue = findLetter(aligned_image)\n",
    "if letterValue is None:\n",
    "      raise SystemExit(\"letter not found\")\n",
    "# Highlight the Contour of Find Letter and show center of Letter\n",
    "highlightedContour = aligned_image.copy()\n",
    "highlightedContour = cv2.circle(highlightedContour,(letterValue[\"centerX\"],letterValue[\"centerY\"]),radius=30, color=(0,0,255),thickness=-1)\n",
    "cv2.drawContours(highlightedContour, letterValue[\"contour\"], -1, (0, 0, 255), 20) \n",
    "plt.imshow(highlightedContour)"
   ]
  },
  {
   "source": [
    "## ROI of Letter"
   ],
   "cell_type": "markdown",
   "metadata": {}
  },
  {
   "cell_type": "code",
   "execution_count": null,
   "metadata": {},
   "outputs": [],
   "source": [
    "xStart = int(letterValue[\"centerX\"]-letterValue[\"width\"]/2)\n",
    "xEnd = int(letterValue[\"centerX\"]+letterValue[\"width\"]/2)\n",
    "yStart = int(letterValue[\"centerY\"]-letterValue[\"height\"]/2)\n",
    "yEnd = int(letterValue[\"centerY\"]+letterValue[\"height\"]/2)\n",
    "letter =aligned_image[yStart:yEnd,xStart:xEnd]\n",
    "plt.imshow(letter, cmap=\"gray\")"
   ]
  },
  {
   "cell_type": "code",
   "execution_count": null,
   "metadata": {},
   "outputs": [],
   "source": [
    "pixelPerMM = letterValue[\"width\"]/C_5_6_Metrics[0]\n",
    "# StampZone [width, height] amount of Pixel\n",
    "stampZoneMetrics = [int(stampZone[0]*pixelPerMM),int(stampZone[1]*pixelPerMM)]\n",
    "# get the rigth Top StampZone\n",
    "rightTop = letter[0:stampZoneMetrics[1],letterValue[\"width\"]-stampZoneMetrics[0]:letterValue[\"width\"]]\n",
    "plt.imshow(rightTop, cmap=\"gray\")"
   ]
  },
  {
   "source": [
    "### Check if stamp is there"
   ],
   "cell_type": "markdown",
   "metadata": {}
  },
  {
   "source": [
    "def checkStamp(stampZone, pixelPerMM):  \n",
    "    imgStamp,cStamp,hStamp = cv2.findContours(stampZone,cv2.RETR_TREE,cv2.CHAIN_APPROX_NONE)\n",
    "    stamp_found = False   \n",
    "    if (len(cStamp)!=0):                #No contour found  \n",
    "        for index,contour in enumerate(cStamp):           \n",
    "            #( center (x,y), (width, height), angle of rotation ).  \n",
    "            hNext, hPrev, hChild, hParent = hStamp[0][index]  \n",
    "            approx = cv2.approxPolyDP(contour,10,True)  \n",
    "            minArea = cv2.minAreaRect(approx)  \n",
    "            #print(minArea)  \n",
    "            width = minArea[1][0]  \n",
    "            height = minArea[1][1]                \n",
    "            if (hChild != -1) and (hParent == -1):      #Extract Parent contour  \n",
    "                # stamp minSize 22x28  \n",
    "                contourWidth = width/pixelPerMM  \n",
    "                contourHeigth = height/pixelPerMM  \n",
    "                #print(contourHeigth, contourWidth)  \n",
    "                if((contourWidth >= stampMinSize[0]) and (contourHeigth >= stampMinSize[1])):  \n",
    "                    stamp_found = True  \n",
    "                else:  \n",
    "                    stamp_found = False  \n",
    "    return stamp_found  \n",
    "       \n",
    "def align_correct(roiLetter,pixelPerMM):\n",
    "    height,width = roiLetter.shape\n",
    "    # StampZone [width, height] amount of Pixel\n",
    "    stampZoneMetrics = [int(stampZone[0]*pixelPerMM),int(stampZone[1]*pixelPerMM)]\n",
    "    # get the rigth Top StampZone\n",
    "    offset = 20\n",
    "    rightTop = roiLetter[0+offset:stampZoneMetrics[1]-offset,width-stampZoneMetrics[0]+offset:width-offset]\n",
    "    stamp_found = checkStamp(rightTop,pixelPerMM) \n",
    "    if stamp_found:\n",
    "        return roiLetter,0, stamp_found\n",
    "    else:\n",
    "        return im.rotate_bound(roiLetter,180),180, stamp_found\n"
   ],
   "cell_type": "code",
   "metadata": {},
   "execution_count": null,
   "outputs": []
  },
  {
   "cell_type": "code",
   "execution_count": null,
   "metadata": {},
   "outputs": [],
   "source": [
    "def extractLetter(image): \n",
    "    #Preprocessing \n",
    "    gray = cv2.cvtColor(image, cv2.COLOR_BGR2GRAY)  \n",
    "    th,binImg  = cv2.threshold(gray, 128, 255, cv2.THRESH_BINARY) \n",
    "    erode = cv2.erode(binImg,erodeKernel,iterations=1) \n",
    "    dilate = cv2.dilate(erode,dilateKernel,iterations=1)  \n",
    "    #Not needed! canny = cv2.Canny(dilate,0,30) \n",
    "      \n",
    "    #Rotate image wide side down \n",
    "    aligned_image,letterAngle = align_straight(dilate) \n",
    "    height, width = aligned_image.shape[:2] \n",
    "      \n",
    "    #Extract ROI of letter and calculate pixel Size \n",
    "    letterValue = findLetter(aligned_image) \n",
    "    if letterValue is None: \n",
    "        raise SystemExit(\"letter not found\") \n",
    "    xStart = int(letterValue[\"centerX\"]-letterValue[\"width\"]/2) \n",
    "    xEnd = int(letterValue[\"centerX\"]+letterValue[\"width\"]/2) \n",
    "    yStart = int(letterValue[\"centerY\"]-letterValue[\"height\"]/2) \n",
    "    yEnd = int(letterValue[\"centerY\"]+letterValue[\"height\"]/2) \n",
    "    letter = aligned_image[yStart:yEnd,xStart:xEnd] \n",
    "    pixelPerMM = letterValue[\"width\"]/C_5_6_Metrics[0] \n",
    "      \n",
    "    #Align images with stamp in the upper right corner \n",
    "    correct_aligned,turnAngle,found = align_correct(letter, pixelPerMM) \n",
    "      \n",
    "    #Calculate turning angle and return extracted Letter \n",
    "    letterAngle = (letterAngle + turnAngle)%360 \n",
    "      \n",
    "    if found: \n",
    "        extracted = im.rotate_bound(gray,letterAngle)[yStart:yEnd,xStart:xEnd] \n",
    "    else: \n",
    "        extracted = im.rotate_bound(gray,letterAngle)[height-yEnd:height-yStart,width-xEnd:width-xStart] \n",
    "      \n",
    "    return extracted, letterAngle, pixelPerMM "
   ]
  },
  {
   "cell_type": "code",
   "execution_count": null,
   "metadata": {},
   "outputs": [],
   "source": [
    "letterGray, letterAngle, pixelPerMM = extractLetter(image)\n",
    "plt.imshow(letterGray,cmap=\"gray\")"
   ]
  },
  {
   "source": [
    "## Get AddressField"
   ],
   "cell_type": "markdown",
   "metadata": {}
  },
  {
   "cell_type": "code",
   "execution_count": null,
   "metadata": {},
   "outputs": [],
   "source": [
    "height, width = letterGray.shape\n",
    "pixelMargin = margin*pixelPerMM\n",
    "startX = int(pixelMargin)\n",
    "endX = int(width-pixelMargin)\n",
    "startY = int(stampZone[1]*pixelPerMM)\n",
    "endY = int(height-pixelMargin)\n",
    "addressField = letterGray[startY:endY, startX:endX]\n",
    "[heightAF, widthAF] = addressField.shape\n",
    "plt.imshow(addressField, cmap=\"gray\")\n",
    "plt.title(\"addressfield\")"
   ]
  },
  {
   "cell_type": "code",
   "execution_count": null,
   "metadata": {},
   "outputs": [],
   "source": [
    "def getBlurValue(height, blurScale):\n",
    "    scale = int(height / blurScale)\n",
    "    if scale % 2 == 0:\n",
    "        scale += 1\n",
    "    if scale < 3:\n",
    "        scale = 3\n",
    "    print(\"Value of the blur: \" + str(scale))\n",
    "    return scale"
   ]
  },
  {
   "cell_type": "code",
   "execution_count": null,
   "metadata": {},
   "outputs": [],
   "source": [
    "blurrValueAF = getBlurValue(heightAF, 97)\n",
    "blurrAFKernel = (blurrValueAF, blurrValueAF)\n",
    "blurrAF = cv2.blur(addressField, blurrAFKernel)\n",
    "plt.imshow(blurrAF, cmap=\"gray\")"
   ]
  },
  {
   "cell_type": "code",
   "execution_count": null,
   "metadata": {},
   "outputs": [],
   "source": [
    "def getClassBorder(grayImage, area=[0, 255]):\n",
    "    flattenArray = grayImage.flatten()\n",
    "    filtered = pydash.filter_(\n",
    "        flattenArray, lambda x: x > area[0] and x < area[1])\n",
    "    amount, binEdges, _ = plt.hist(filtered, bins=9)\n",
    "    maxBeginEdge = binEdges[np.where(amount == amount.max())]\n",
    "    print(\"area: \" + str(area))\n",
    "    print(\"amount of pixels: \" + str(len(flattenArray)))\n",
    "    print(\"Begin of Edge of the max Grayscale Histogram: \" + str(maxBeginEdge))\n",
    "    binEgde = int(maxBeginEdge - 2)\n",
    "    return binEgde"
   ]
  },
  {
   "cell_type": "code",
   "execution_count": null,
   "metadata": {},
   "outputs": [],
   "source": [
    "binEdge = getClassBorder(addressField, [50, 200])"
   ]
  },
  {
   "cell_type": "code",
   "execution_count": null,
   "metadata": {},
   "outputs": [],
   "source": [
    "th, binAF = cv2.threshold(blurrAF, binEdge, 255, cv2.THRESH_BINARY)\n",
    "plt.imshow(binAF, cmap=\"gray\")"
   ]
  },
  {
   "cell_type": "code",
   "execution_count": null,
   "metadata": {},
   "outputs": [],
   "source": [
    "canny = cv2.Canny(binAF, 100, 200)\n",
    "plt.imshow(canny, cmap=\"gray\")"
   ]
  },
  {
   "cell_type": "code",
   "execution_count": null,
   "metadata": {},
   "outputs": [],
   "source": [
    "imgAF, contoursAF, hierachyAF = cv2.findContours(\n",
    "    binAF, cv2.RETR_TREE, cv2.CHAIN_APPROX_NONE)\n",
    "\n",
    "contourImg = np.zeros((heightAF, widthAF, 3))\n",
    "for index, contour in enumerate(contoursAF):\n",
    "    r = random.random()\n",
    "    g = random.random()\n",
    "    b = random.random()\n",
    "    cv2.drawContours(contourImg, contoursAF, index, (r, g, b), 5)\n",
    "plt.imshow(contourImg)"
   ]
  },
  {
   "source": [
    "## Display Function\n",
    "https://gist.github.com/soply/f3eec2e79c165e39c9d540e916142ae1"
   ],
   "cell_type": "markdown",
   "metadata": {}
  },
  {
   "cell_type": "code",
   "execution_count": null,
   "metadata": {},
   "outputs": [],
   "source": [
    "def show_images(images, cols=1, titles=None):\n",
    "    \"\"\"Display a list of images in a single figure with matplotlib.\n",
    "\n",
    "    Parameters\n",
    "    ---------\n",
    "    images: List of np.arrays compatible with plt.imshow.\n",
    "\n",
    "    cols (Default = 1): Number of columns in figure (number of rows is \n",
    "                        set to np.ceil(n_images/float(cols))).\n",
    "\n",
    "    titles: List of titles corresponding to each image. Must have\n",
    "            the same length as titles.\n",
    "    \"\"\"\n",
    "    assert((titles is None)or (len(images) == len(titles)))\n",
    "    n_images = len(images)\n",
    "    if titles is None:\n",
    "        titles = ['Image (%d)' % i for i in range(1, n_images + 1)]\n",
    "    fig = plt.figure()\n",
    "    for n, (image, title) in enumerate(zip(images, titles)):\n",
    "        a = fig.add_subplot(cols, np.ceil(n_images/float(cols)), n + 1)\n",
    "        if image.ndim == 2:\n",
    "            plt.gray()\n",
    "        plt.imshow(image)\n",
    "        a.set_title(title)\n",
    "    fig.set_size_inches(np.array(fig.get_size_inches()) * n_images)\n",
    "    plt.show()"
   ]
  },
  {
   "source": [
    "## Extract the Characters"
   ],
   "cell_type": "markdown",
   "metadata": {}
  },
  {
   "cell_type": "code",
   "execution_count": null,
   "metadata": {},
   "outputs": [],
   "source": [
    "characters = []\n",
    "for index, contour in enumerate(contoursAF):\n",
    "    # [x,y,width,height]\n",
    "    rect = cv2.boundingRect(contour)\n",
    "    x = rect[0]\n",
    "    y = rect[1]\n",
    "    width = rect[2]\n",
    "    height = rect[3]\n",
    "    # 0 because of the outer\n",
    "    if(width > 5 and height > 5 and width != widthAF and hierachyAF[0][index][3] == 0):\n",
    "        img = binAF[y:y+height, x:x+width]\n",
    "        character = {\n",
    "            \"img\": img,\n",
    "            \"width\": width,\n",
    "            \"height\": height,\n",
    "            \"x\": x,\n",
    "            \"y\": y\n",
    "        }\n",
    "        characters.append(character)\n",
    "        # plt.imshow(character,cmap=\"gray\")\n",
    "if len(characters) == 0:\n",
    "    raise SystemExit(\"No Character with needed size found\")\n",
    "show_images(pydash.map_(characters, \"img\"))"
   ]
  },
  {
   "cell_type": "code",
   "execution_count": null,
   "metadata": {
    "tags": []
   },
   "outputs": [],
   "source": [
    "centerPoints = characters\n",
    "print(pydash.map_(characters, [\"x\"]))\n",
    "print(pydash.map_(characters, [\"y\"]))"
   ]
  },
  {
   "cell_type": "code",
   "execution_count": null,
   "metadata": {
    "tags": []
   },
   "outputs": [],
   "source": [
    "mean_width = np.sum(pydash.map_(characters, \"width\"))/len(characters)\n",
    "mean_height = np.sum(pydash.map_(characters, \"height\"))/len(characters)\n",
    "\n",
    "\n",
    "def sortY(element):\n",
    "    return element[\"y\"]\n",
    "\n",
    "\n",
    "centerPoints.sort(key=sortY)\n",
    "print(mean_width)\n",
    "print(mean_height)\n",
    "print(pydash.map_(characters, [\"x\"]))\n",
    "print(pydash.map_(characters, [\"y\"]))"
   ]
  },
  {
   "source": [
    "## Get the Rowedges"
   ],
   "cell_type": "markdown",
   "metadata": {}
  },
  {
   "cell_type": "code",
   "execution_count": null,
   "metadata": {},
   "outputs": [],
   "source": [
    "#https://numpy.org/doc/stable/reference/generated/numpy.histogram.html\n",
    "amount, binEdges, _ = plt.hist(pydash.map_(characters, [\"y\"]), bins=\"auto\")\n",
    "rowEdges = []\n",
    "for i, yValue in enumerate(amount):\n",
    "    if(yValue > 0):\n",
    "        rowEdges.append([binEdges[i], binEdges[i+1]])\n",
    "\n",
    "\n",
    "print(rowEdges)\n",
    "print(amount)"
   ]
  },
  {
   "source": [
    "## Get the Rows"
   ],
   "cell_type": "markdown",
   "metadata": {}
  },
  {
   "source": [
    "rows = []\n",
    "lastChar = characters[len(characters)-1]\n",
    "for edge in rowEdges:\n",
    "    rowElements = []\n",
    "    for index, character in enumerate(characters):\n",
    "        if(edge[0] <= character[\"y\"]):\n",
    "            if(edge[1] >= character[\"y\"]):\n",
    "                rowElements.append(character)\n",
    "                # for last Edge that the rowElements are added\n",
    "                if(lastChar == character):\n",
    "                    rows.append(rowElements)\n",
    "            else:\n",
    "                rows.append(rowElements)\n",
    "                break\n",
    "print(len(rows))"
   ],
   "cell_type": "code",
   "metadata": {
    "tags": []
   },
   "execution_count": null,
   "outputs": []
  },
  {
   "source": [
    "## Displaying the Rows"
   ],
   "cell_type": "markdown",
   "metadata": {}
  },
  {
   "cell_type": "code",
   "execution_count": null,
   "metadata": {},
   "outputs": [],
   "source": [
    "def sortX(element):\n",
    "    return element[\"x\"]\n",
    "\n",
    "for row in rows:\n",
    "    row.sort(key=sortX)\n",
    "    show_images(pydash.map_(row,\"img\")) "
   ]
  },
  {
   "source": [
    "## Get PLZ\n",
    "From Last Row\n",
    "\n",
    "https://www.sekretaria.de/bueroorganisation/korrespondenz/din-5008/anschrift/"
   ],
   "cell_type": "markdown",
   "metadata": {}
  },
  {
   "cell_type": "code",
   "execution_count": null,
   "metadata": {},
   "outputs": [],
   "source": [
    "lastRow = rows[len(rows)-1]\n",
    "PLZ = lastRow[0:5]\n",
    "show_images(pydash.map_(PLZ,\"img\"))"
   ]
  },
  {
   "source": [
    "# Neural Network"
   ],
   "cell_type": "markdown",
   "metadata": {}
  },
  {
   "cell_type": "code",
   "execution_count": null,
   "metadata": {},
   "outputs": [],
   "source": [
    "dataset_folder = os.path.abspath(\"./emnist_dataset\")\n",
    "print(dataset_folder)"
   ]
  },
  {
   "cell_type": "code",
   "execution_count": null,
   "metadata": {},
   "outputs": [],
   "source": [
    "class CrvModel:\n",
    "    def __init__(self, dataset_folder):\n",
    "        \n",
    "        # Constants and Paths for Networks\n",
    "        self.dataset_path = dataset_folder\n",
    "        self.emnist_classes = \"0123456789ABCDEFGHIJKLMNOPQRSTUVWXYZabcdefghijklmnopqrstuvwxyz\"\n",
    "        self.num_emnist_classes = len(self.emnist_classes)\n",
    "        self.mnist_classes = \"0123456789\"\n",
    "        self.num_mnist_classes = len(self.mnist_classes)\n",
    "        self.emnist_letter_classes = \"-abcdefghijklmnopqrstuvwxyz\"\n",
    "        self.num_emnist_letter_classes = len(self.emnist_letter_classes)\n",
    "        self.german_digits_classes = \"0123456789\"\n",
    "        self.num_german_digits_classes = len(self.german_digits_classes)\n",
    "        \n",
    "        # Constants for training and paths to save models\n",
    "        self.batch_size = 1024\n",
    "        self.epochs = 200\n",
    "        self.emnist_save_path = \"./emnist_byclass.h5\"\n",
    "        self.emnist_letter_save_path = \"./emnist_letter.h5\"\n",
    "        self.mnist_save_path = \"./mnist.h5\"\n",
    "        self.german_digit_network_save_path = \"./german_digits_network.h5\"\n",
    "\n",
    "        # Read in or download raw data for models\n",
    "        self.raw_emnist_train_img = self.read_local_data(os.path.join(dataset_folder, 'emnist-byclass-train-images-idx3-ubyte.gz'))\n",
    "        self.raw_emnist_train_labels = self.read_local_data(os.path.join(dataset_folder, 'emnist-byclass-train-labels-idx1-ubyte.gz'))\n",
    "        self.raw_emnist_test_img = self.read_local_data(os.path.join(dataset_folder, 'emnist-byclass-test-images-idx3-ubyte.gz'))\n",
    "        self.raw_emnist_test_labels = self.read_local_data(os.path.join(dataset_folder, 'emnist-byclass-test-labels-idx1-ubyte.gz'))\n",
    "\n",
    "        self.raw_emnist_letter_train_img = self.read_local_data(os.path.join(dataset_folder, 'emnist-letters-train-images-idx3-ubyte.gz'))\n",
    "        self.raw_emnist_letter_train_labels = self.read_local_data(os.path.join(dataset_folder, 'emnist-letters-train-labels-idx1-ubyte.gz'))\n",
    "        self.raw_emnist_letter_test_img = self.read_local_data(os.path.join(dataset_folder, 'emnist-letters-test-images-idx3-ubyte.gz'))\n",
    "        self.raw_emnist_letter_test_labels = self.read_local_data(os.path.join(dataset_folder, 'emnist-letters-test-labels-idx1-ubyte.gz'))\n",
    "\n",
    "        (self.raw_mnist_train_img, self.raw_mnist_train_labels), (self.raw_mnist_test_img, self.raw_mnist_test_labels) = tf.keras.datasets.mnist.load_data()\n",
    "\n",
    "        self.raw_german_digit_train_img, self.raw_german_digit_train_labels = self.load_german_digits('german_digits_datasets/german_train.data', 'german_digits_datasets/german_train.labels')\n",
    "        self.raw_german_digit_test_img, self.raw_german_digit_test_labels = self.load_german_digits('german_digits_datasets/german_test.data', 'german_digits_datasets/german_test.labels')\n",
    "\n",
    "        \n",
    "        # Preprocess data\n",
    "        self.emnist_train_img = self.preprocess_data(self.raw_emnist_train_img)\n",
    "        self.emnist_test_img = self.preprocess_data(self.raw_emnist_test_img)\n",
    "        self.emnist_train_labels = tf.keras.utils.to_categorical(self.raw_emnist_train_labels)\n",
    "        self.emnist_test_labels = tf.keras.utils.to_categorical(self.raw_emnist_test_labels)\n",
    "        \n",
    "        self.mnist_train_img = self.preprocess_data(self.raw_mnist_train_img)\n",
    "        self.mnist_test_img = self.preprocess_data(self.raw_mnist_test_img)\n",
    "        self.mnist_train_labels = tf.keras.utils.to_categorical(self.raw_mnist_train_labels)\n",
    "        self.mnist_test_labels = tf.keras.utils.to_categorical(self.raw_mnist_test_labels)\n",
    "\n",
    "        self.emnist_letter_train_img = self.preprocess_data(self.raw_emnist_letter_train_img)\n",
    "        self.emnist_letter_test_img = self.preprocess_data(self.raw_emnist_letter_test_img)\n",
    "        self.emnist_letter_train_labels = tf.keras.utils.to_categorical(self.raw_emnist_letter_train_labels)\n",
    "        self.emnist_letter_test_labels = tf.keras.utils.to_categorical(self.raw_emnist_letter_test_labels)\n",
    "\n",
    "        self.german_digit_train_img = self.preprocess_data(self.raw_german_digit_train_img)\n",
    "        self.german_digit_test_img = self.preprocess_data(self.raw_german_digit_test_img)\n",
    "        self.german_digit_train_labels = tf.keras.utils.to_categorical(self.raw_german_digit_train_labels)\n",
    "        self.german_digit_test_labels = tf.keras.utils.to_categorical(self.raw_german_digit_test_labels)\n",
    "\n",
    "        # Earlystopping Callback\n",
    "        self.early_stopping_callback = tf.keras.callbacks.EarlyStopping(monitor=\"val_loss\",\n",
    "                                                                    min_delta=0.002,\n",
    "                                                                    patience=10,\n",
    "                                                                    verbose = 1,\n",
    "                                                                    restore_best_weights=True)\n",
    "                                                                    \n",
    "        self.german_digits_save_weights_callback = tf.keras.callbacks.ModelCheckpoint(self.german_digit_network_save_path,\n",
    "                                                        monitor=\"val_loss\",\n",
    "                                                        verbose=1,\n",
    "                                                        save_best_only=True,\n",
    "                                                        save_weights_only=True\n",
    "                                                    )\n",
    "\n",
    "\n",
    "        # Setup network architecture\n",
    "        self.emnist_cnn = self.setup_network(self.num_emnist_classes)\n",
    "        self.emnist_letter_cnn = self.setup_network(self.num_emnist_letter_classes)\n",
    "        self.mnist_cnn = self.setup_network(self.num_mnist_classes)\n",
    "        self.german_digits_network = self.setup_network(self.num_german_digits_classes)\n",
    "\n",
    "\n",
    "    \n",
    "    # Function Definitions\n",
    "    def load_german_digits(self, img_path, labels_path):\n",
    "        train_img, train_labels = loadlocal_mnist(\n",
    "            images_path=img_path, \n",
    "            labels_path=labels_path)\n",
    "        train_img = train_img.reshape(train_img.shape[0], 28, 28)\n",
    "        return train_img, train_labels\n",
    "        \n",
    "    def read_local_data(self, path):\n",
    "        print(\"Lese Datenset '%s' ein\" %path)\n",
    "        with gzip.open(path, \"rb\") as f:\n",
    "            z, dtype, dim = struct.unpack(\">HBB\", f.read(4))\n",
    "            print(\"Dimensions:\", dim)\n",
    "            shape = tuple(struct.unpack(\">I\", f.read(4))[0] for d in range(dim))\n",
    "            print(\"Shape:\", shape)\n",
    "            print(\"***********************************************\")\n",
    "            return np.frombuffer(f.read(), dtype=np.uint8).reshape(shape)\n",
    "        \n",
    "    def show_random_image(self, data_imgs, classes, data_labels):\n",
    "        i = random.randint(0, data_imgs.shape[0])\n",
    "        fig, ax = plt.subplots()\n",
    "        ax.clear()\n",
    "        ax.imshow(data_imgs[i], cmap=\"gray\")\n",
    "        title = \"label = %d = %s\" %(data_labels[i], classes[data_labels[i]])\n",
    "        ax.set_title(title, fontsize=20)\n",
    "        plt.show()\n",
    "        \n",
    "    def preprocess_data(self, raw_data):\n",
    "        normalized_data = raw_data.astype(\"float32\")/255\n",
    "        reshaped_data = normalized_data.reshape(normalized_data.shape[0], 28, 28, 1)\n",
    "        return reshaped_data\n",
    "\n",
    "    def setup_network(self, num_classes):\n",
    "        model = tf.keras.models.Sequential()\n",
    "        model.add(tf.keras.layers.Conv2D(32, kernel_size = 3, activation='relu', input_shape = (28, 28, 1)))\n",
    "        model.add(tf.keras.layers.BatchNormalization())\n",
    "        model.add(tf.keras.layers.Conv2D(32, kernel_size = 3, activation='relu'))\n",
    "        model.add(tf.keras.layers.BatchNormalization())\n",
    "        model.add(tf.keras.layers.Conv2D(32, kernel_size = 5, strides=2, padding='same', activation='relu'))\n",
    "        model.add(tf.keras.layers.BatchNormalization())\n",
    "        model.add(tf.keras.layers.Dropout(0.25))\n",
    "        model.add(tf.keras.layers.Conv2D(64, kernel_size = 3, activation='relu'))\n",
    "        model.add(tf.keras.layers.BatchNormalization())\n",
    "        model.add(tf.keras.layers.Conv2D(64, kernel_size = 3, activation='relu'))\n",
    "        model.add(tf.keras.layers.BatchNormalization())\n",
    "        model.add(tf.keras.layers.Conv2D(64, kernel_size = 5, strides=2, padding='same', activation='relu'))\n",
    "        model.add(tf.keras.layers.BatchNormalization())\n",
    "        model.add(tf.keras.layers.Dropout(0.25))\n",
    "        model.add(tf.keras.layers.Conv2D(128, kernel_size = 4, activation='relu'))\n",
    "        model.add(tf.keras.layers.BatchNormalization())\n",
    "        model.add(tf.keras.layers.Flatten())\n",
    "        model.add(tf.keras.layers.Dropout(0.4))\n",
    "        model.add(tf.keras.layers.Dense(num_classes, activation='softmax'))\n",
    "        return model\n",
    "        "
   ]
  },
  {
   "source": [
    "## Model initialisieren"
   ],
   "cell_type": "markdown",
   "metadata": {}
  },
  {
   "cell_type": "code",
   "execution_count": null,
   "metadata": {},
   "outputs": [],
   "source": [
    "model = CrvModel(dataset_folder)"
   ]
  },
  {
   "cell_type": "code",
   "execution_count": null,
   "metadata": {},
   "outputs": [],
   "source": [
    "model.show_random_image(model.raw_emnist_train_img, model.emnist_classes, model.raw_emnist_train_labels)\n",
    "model.show_random_image(model.raw_mnist_train_img, model.mnist_classes, model.raw_mnist_train_labels)\n",
    "model.show_random_image(model.raw_emnist_letter_train_img, model.emnist_letter_classes, model.raw_emnist_letter_train_labels)\n",
    "model.show_random_image(model.raw_german_digit_train_img, model.german_digits_classes, model.raw_german_digit_train_labels)"
   ]
  },
  {
   "cell_type": "code",
   "execution_count": null,
   "metadata": {},
   "outputs": [],
   "source": [
    "print(\"-----------------------------------------------------------------------------\")\n",
    "print(\"Full Emnist Neural Network\")\n",
    "\n",
    "model.emnist_cnn.summary()\n",
    "model.emnist_cnn.compile(loss = \"categorical_crossentropy\",\n",
    "                         optimizer = \"adam\",\n",
    "                         metrics = [\"accuracy\"],\n",
    "                         callbacks = [model.early_stopping_callback])\n",
    "\n",
    "print(\"-----------------------------------------------------------------------------\")\n",
    "print(\"Emnist Letter Neural Network\")\n",
    "model.emnist_letter_cnn.summary()\n",
    "model.emnist_letter_cnn.compile(loss = \"categorical_crossentropy\",\n",
    "                         optimizer = \"adam\",\n",
    "                         metrics = [\"accuracy\"],\n",
    "                         callbacks = [model.early_stopping_callback])\n",
    "\n",
    "print(\"-----------------------------------------------------------------------------\")\n",
    "print(\"Mnist Neural Network\")\n",
    "model.mnist_cnn.summary()\n",
    "model.mnist_cnn.compile(loss = \"categorical_crossentropy\", \n",
    "                        optimizer = \"adam\",\n",
    "                        metrics = [\"accuracy\"])\n",
    "\n",
    "print(\"-----------------------------------------------------------------------------\")\n",
    "print(\"German Digits Network\")\n",
    "model.german_digits_network.summary()\n",
    "model.german_digits_network.compile(loss = \"categorical_crossentropy\", \n",
    "                        optimizer = \"adam\",\n",
    "                        metrics = [\"accuracy\"])"
   ]
  },
  {
   "cell_type": "code",
   "execution_count": null,
   "metadata": {},
   "outputs": [],
   "source": [
    "'''                                                                                              \n",
    "print(\"*******************************************************************\")\n",
    "print(\"Train Emnist Model\")\n",
    "print(\"*******************************************************************\")\n",
    "\n",
    "model.emnist_trained = model.emnist_cnn.fit(model.emnist_train_img,\n",
    "              model.emnist_train_labels,\n",
    "              batch_size = model.batch_size,\n",
    "              epochs = model.epochs,\n",
    "              verbose = 1,\n",
    "              validation_data = (model.emnist_test_img, model.emnist_test_labels),\n",
    "              callbacks = [model.early_stopping_callback])\n",
    "\n",
    "model.emnist_cnn.save(model.emnist_save_path)\n",
    "\n",
    "print(\"*******************************************************************\")\n",
    "print(\"Train Emnist Letter Model\")\n",
    "print(\"*******************************************************************\")\n",
    "\n",
    "model.emnist_letter_trained = model.emnist_letter_cnn.fit(model.emnist_letter_train_img,\n",
    "              model.emnist_letter_train_labels,\n",
    "              batch_size = model.batch_size,\n",
    "              epochs = model.epochs,\n",
    "              verbose = 1,\n",
    "              validation_data = (model.emnist_letter_test_img, model.emnist_letter_test_labels),\n",
    "              callbacks = [model.early_stopping_callback])\n",
    "\n",
    "model.emnist_letter_cnn.save(model.emnist_letter_save_path)\n",
    "\n",
    "\n",
    "print(\"*******************************************************************\")\n",
    "print(\"Train Mnist Letter Model\")\n",
    "print(\"*******************************************************************\")\n",
    "\n",
    "model.mnist_trained = model.mnist_cnn.fit(model.mnist_train_img,\n",
    "                                    model.mnist_train_labels,\n",
    "                                    batch_size = model.batch_size,\n",
    "                                    epochs = model.epochs,\n",
    "                                    verbose = 1,\n",
    "                                    validation_data = (model.mnist_test_img, model.mnist_test_labels),\n",
    "                                    callbacks = [model.early_stopping_callback])\n",
    "\n",
    "model.mnist_cnn.save(model.mnist_save_path)\n",
    "\n",
    "\n",
    "print(\"*******************************************************************\")\n",
    "print(\"Train German Digits Model\")\n",
    "print(\"*******************************************************************\")\n",
    "\n",
    "model.german_digits_trained = model.german_digits_network.fit(model.german_digit_train_img,\n",
    "                                    model.german_digit_train_labels,\n",
    "                                    batch_size = model.batch_size,\n",
    "                                    epochs = model.epochs,\n",
    "                                    verbose = 1,\n",
    "                                    validation_data = (model.german_digit_test_img, model.german_digit_test_labels),\n",
    "                                    callbacks = [model.german_digits_save_weights_callback]\n",
    "                                )\n",
    "\n",
    "model.german_digits_network.load_weights(model.german_digit_network_save_path)\n",
    "'''"
   ]
  },
  {
   "cell_type": "code",
   "execution_count": null,
   "metadata": {},
   "outputs": [],
   "source": [
    "model.emnist_cnn.load_weights(model.emnist_save_path)\n",
    "model.emnist_letter_cnn.load_weights(model.emnist_letter_save_path)\n",
    "model.mnist_cnn.load_weights(model.mnist_save_path)\n",
    "model.german_digits_network.load_weights(model.german_digit_network_save_path)"
   ]
  },
  {
   "cell_type": "code",
   "execution_count": null,
   "metadata": {},
   "outputs": [],
   "source": [
    "def visualize_result(model_name, model_history):\n",
    "    plt.figure()\n",
    "    plt.suptitle(model_name, fontsize=16)\n",
    "    plt.subplot(1, 2, 1)\n",
    "    plt.plot(model_history['loss'])\n",
    "    plt.plot(model_history['val_loss'])\n",
    "    plt.title('Model Loss')\n",
    "    plt.xlabel('Epoch')\n",
    "    plt.ylabel('Loss')\n",
    "    plt.legend(['train', 'test'], loc='upper left')\n",
    "    plt.subplot(1, 2, 2)\n",
    "    plt.plot(model_history['accuracy'])\n",
    "    plt.plot(model_history['val_accuracy'])\n",
    "    plt.title('Model Accuracy')\n",
    "    plt.xlabel('Epoch')\n",
    "    plt.ylabel('Accuracy')\n",
    "    plt.legend(['train', 'test'], loc='upper left')\n",
    "    plt.show()\n"
   ]
  },
  {
   "cell_type": "code",
   "execution_count": null,
   "metadata": {},
   "outputs": [],
   "source": [
    "#visualize_result(\"Emnist Full Network\", model.emnist_trained.history)\n",
    "#visualize_result(\"Emnist Letter Network\", model.emnist_letter_trained.history)\n",
    "#visualize_result(\"Mnist Network\", model.mnist_trained.history)\n",
    "#visualize_result(\"German Digits Network\", model.german_digits_trained.history)"
   ]
  },
  {
   "cell_type": "code",
   "execution_count": null,
   "metadata": {},
   "outputs": [],
   "source": [
    "emnist_results = model.emnist_cnn.evaluate(model.emnist_test_img, model.emnist_test_labels, verbose=0)\n",
    "emnist_letter_results = model.emnist_letter_cnn.evaluate(model.emnist_letter_test_img, model.emnist_letter_test_labels, verbose=0)\n",
    "mnist_results = model.mnist_cnn.evaluate(model.mnist_test_img, model.mnist_test_labels, verbose=0)\n",
    "german_digits_results = model.german_digits_network.evaluate(model.german_digit_test_img, model.german_digit_test_labels, verbose=0)\n",
    "\n",
    "print('Emnist Loss: %.2f%%, Accuracy: %.2f%%' % (emnist_results[0]*100, emnist_results[1]*100))\n",
    "print('Emnist Letter Loss: %.2f%%, Accuracy: %.2f%%' % (emnist_letter_results[0]*100, emnist_letter_results[1]*100))\n",
    "print('Mnist Loss: %.2f%%, Accuracy: %.2f%%' % (mnist_results[0]*100, mnist_results[1]*100))\n",
    "print('German Digits Loss: %.2f%%, Accuracy: %.2f%%' % (german_digits_results[0]*100, german_digits_results[1]*100))"
   ]
  },
  {
   "cell_type": "code",
   "execution_count": null,
   "metadata": {},
   "outputs": [],
   "source": [
    "def preprocess_segmented_image(img):\n",
    "    img = ~img\n",
    "    img = img.astype(\"float32\")/255\n",
    "    s = max(img.shape[0:2])\n",
    "    f = np.zeros((s, s))\n",
    "    ax, ay = (s - img.shape[1])//2, (s - img.shape[0])//2\n",
    "    f[ay:img.shape[0]+ay, ax:ax+img.shape[1]] = img\n",
    "    img = cv2.resize(img, (28,28))\n",
    "    return img"
   ]
  },
  {
   "cell_type": "code",
   "execution_count": null,
   "metadata": {
    "tags": []
   },
   "outputs": [],
   "source": [
    "PLZ_array = np.array(pydash.map_(PLZ,\"img\")[0])\n",
    "predictionArray = []\n",
    "for i, img in enumerate(pydash.map_(PLZ, \"img\")):\n",
    "    predictionArray.append(preprocess_segmented_image(img))\n",
    "\n",
    "array = np.array(predictionArray)\n",
    "array = np.expand_dims(array, axis=3)\n",
    "print(array.shape)\n"
   ]
  },
  {
   "cell_type": "code",
   "execution_count": null,
   "metadata": {},
   "outputs": [],
   "source": [
    "predictions = model.german_digits_network.predict(array)"
   ]
  },
  {
   "cell_type": "code",
   "execution_count": null,
   "metadata": {},
   "outputs": [],
   "source": [
    "for prediction in predictions:\n",
    "    print(np.argmax(prediction))"
   ]
  },
  {
   "cell_type": "code",
   "execution_count": null,
   "metadata": {},
   "outputs": [],
   "source": [
    "model.show_random_image(model.raw_german_digit_train_img, model.german_digits_classes, model.raw_german_digit_train_labels)"
   ]
  },
  {
   "source": [
    "# Abgleich mit Datenbank"
   ],
   "cell_type": "markdown",
   "metadata": {}
  },
  {
   "cell_type": "code",
   "execution_count": null,
   "metadata": {},
   "outputs": [],
   "source": [
    "# def get_town(plz):\n",
    "#     # Verbindung, Cursor\n",
    "#     connection = sqlite3.connect(\"orteDE.db\")\n",
    "#     cursor = connection.cursor()\n",
    "\n",
    "#     # SQL-Abfrage\n",
    "#     sql = \"SELECT ortsname, bundesland FROM orte WHERE plz=\"+str(plz)\n",
    "\n",
    "#     # Kontrollausgabe der SQL-Abfrage\n",
    "#     # print(sql) \n",
    "\n",
    "#     # Absenden der SQL-Abfrage\n",
    "#     # Empfang des Ergebnisses\n",
    "#     cursor.execute(sql)\n",
    "\n",
    "#     # Ausgabe des Ergebnisses\n",
    "#     results = cursor.fetchall()\n",
    "#     #for dsatz in cursor:\n",
    "#     #    ort = dsatz[0]\n",
    "#     #    bundesland = dsatz[1]\n",
    "        \n",
    "#     # Verbindung beenden\n",
    "#     connection.close()\n",
    "\n",
    "#     return results"
   ]
  },
  {
   "cell_type": "code",
   "execution_count": null,
   "metadata": {},
   "outputs": [],
   "source": [
    "# #Example for single PLZ\n",
    "# print(get_town(74246))\n",
    "# #Example for multiple PLZ\n",
    "# print(get_town(27367))"
   ]
  },
  {
   "cell_type": "code",
   "execution_count": null,
   "metadata": {},
   "outputs": [],
   "source": []
  }
 ]
}